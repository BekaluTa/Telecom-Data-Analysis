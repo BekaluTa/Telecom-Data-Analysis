{
 "cells": [
  {
   "cell_type": "code",
   "execution_count": 117,
   "id": "499234f4",
   "metadata": {},
   "outputs": [],
   "source": [
    "# Data Manipulations\n",
    "import numpy as np\n",
    "import pandas as pd\n",
    "\n",
    "# for Visualization\n",
    "import matplotlib.pyplot as plt\n",
    "import seaborn as sns\n",
    "\n",
    "# for modelling\n",
    "from sklearn.linear_model import LinearRegression\n",
    "from sklearn.ensemble import GradientBoostingRegressor\n",
    "\n",
    "# to prevent annoying warnings\n",
    "import warnings\n",
    "warnings.filterwarnings('ignore')\n",
    "\n",
    "# set seaborn as default style\n",
    "#sns.set()\n",
    "\n",
    "#pd.set_option('max_columns', None)\n",
    "#pd.set_option('max_rows', None)\n",
    "import warnings\n",
    "warnings.filterwarnings('ignore')"
   ]
  },
  {
   "cell_type": "code",
   "execution_count": 118,
   "id": "a0118802",
   "metadata": {},
   "outputs": [],
   "source": [
    "def format_float(value):\n",
    "    return f'{value:,.2f}'"
   ]
  },
  {
   "cell_type": "code",
   "execution_count": 119,
   "id": "32650e02",
   "metadata": {},
   "outputs": [],
   "source": [
    "def convert_bytes_to_megabytes(df, bytes_data):\n",
    "    \"\"\"\n",
    "        This function takes the dataframe and the column which has the bytes values\n",
    "        returns the megabytesof that value\n",
    "        df -- dataframe\n",
    "        bytes_data --  column with bytes values\n",
    "    \"\"\"\n",
    "    megabyte = 1*10e+5\n",
    "    df[bytes_data] = df[bytes_data] / megabyte\n",
    "    return df[bytes_data]"
   ]
  },
  {
   "cell_type": "code",
   "execution_count": 120,
   "id": "e5dcf093",
   "metadata": {},
   "outputs": [
    {
     "data": {
      "text/html": [
       "<div>\n",
       "<style scoped>\n",
       "    .dataframe tbody tr th:only-of-type {\n",
       "        vertical-align: middle;\n",
       "    }\n",
       "\n",
       "    .dataframe tbody tr th {\n",
       "        vertical-align: top;\n",
       "    }\n",
       "\n",
       "    .dataframe thead th {\n",
       "        text-align: right;\n",
       "    }\n",
       "</style>\n",
       "<table border=\"1\" class=\"dataframe\">\n",
       "  <thead>\n",
       "    <tr style=\"text-align: right;\">\n",
       "      <th></th>\n",
       "      <th>Unnamed: 0</th>\n",
       "      <th>Bearer Id</th>\n",
       "      <th>Start</th>\n",
       "      <th>Start ms</th>\n",
       "      <th>End</th>\n",
       "      <th>End ms</th>\n",
       "      <th>Dur. (ms)</th>\n",
       "      <th>IMSI</th>\n",
       "      <th>MSISDN/Number</th>\n",
       "      <th>IMEI</th>\n",
       "      <th>...</th>\n",
       "      <th>Total Session Social Media</th>\n",
       "      <th>Total Session Email</th>\n",
       "      <th>Total Session Youtube</th>\n",
       "      <th>Total Session Netflix</th>\n",
       "      <th>Total Session Google</th>\n",
       "      <th>Total Session Gaming</th>\n",
       "      <th>Total Session Other</th>\n",
       "      <th>Total duration all session</th>\n",
       "      <th>xDR Session</th>\n",
       "      <th>session duration</th>\n",
       "    </tr>\n",
       "  </thead>\n",
       "  <tbody>\n",
       "    <tr>\n",
       "      <th>0</th>\n",
       "      <td>0</td>\n",
       "      <td>13114483460844900352</td>\n",
       "      <td>2019-04-04 12:01:18</td>\n",
       "      <td>770.0</td>\n",
       "      <td>2019-04-25 14:35:31</td>\n",
       "      <td>662.0</td>\n",
       "      <td>1823652.0</td>\n",
       "      <td>2.082014e+14</td>\n",
       "      <td>3.366496e+10</td>\n",
       "      <td>3.552121e+13</td>\n",
       "      <td>...</td>\n",
       "      <td>1570185.0</td>\n",
       "      <td>3701304.0</td>\n",
       "      <td>18355943.0</td>\n",
       "      <td>17855187.0</td>\n",
       "      <td>2905912.0</td>\n",
       "      <td>292426453.0</td>\n",
       "      <td>180558843.0</td>\n",
       "      <td>5.173738e+08</td>\n",
       "      <td>2</td>\n",
       "      <td>2083209.0</td>\n",
       "    </tr>\n",
       "    <tr>\n",
       "      <th>1</th>\n",
       "      <td>1</td>\n",
       "      <td>13114483482878900224</td>\n",
       "      <td>2019-04-09 13:04:04</td>\n",
       "      <td>235.0</td>\n",
       "      <td>2019-04-25 08:15:48</td>\n",
       "      <td>606.0</td>\n",
       "      <td>1365104.0</td>\n",
       "      <td>2.082019e+14</td>\n",
       "      <td>3.368185e+10</td>\n",
       "      <td>3.579401e+13</td>\n",
       "      <td>...</td>\n",
       "      <td>1933278.0</td>\n",
       "      <td>937385.0</td>\n",
       "      <td>39359124.0</td>\n",
       "      <td>35565545.0</td>\n",
       "      <td>4414096.0</td>\n",
       "      <td>609920783.0</td>\n",
       "      <td>541959383.0</td>\n",
       "      <td>1.234090e+09</td>\n",
       "      <td>2</td>\n",
       "      <td>1698167.0</td>\n",
       "    </tr>\n",
       "    <tr>\n",
       "      <th>2</th>\n",
       "      <td>2</td>\n",
       "      <td>13114483484080500736</td>\n",
       "      <td>2019-04-09 17:42:11</td>\n",
       "      <td>1.0</td>\n",
       "      <td>2019-04-25 11:58:13</td>\n",
       "      <td>652.0</td>\n",
       "      <td>1361762.0</td>\n",
       "      <td>2.082003e+14</td>\n",
       "      <td>3.376063e+10</td>\n",
       "      <td>3.528151e+13</td>\n",
       "      <td>...</td>\n",
       "      <td>1726277.0</td>\n",
       "      <td>3363124.0</td>\n",
       "      <td>34425237.0</td>\n",
       "      <td>23751202.0</td>\n",
       "      <td>10229119.0</td>\n",
       "      <td>229980251.0</td>\n",
       "      <td>414908351.0</td>\n",
       "      <td>7.183836e+08</td>\n",
       "      <td>1</td>\n",
       "      <td>1361762.0</td>\n",
       "    </tr>\n",
       "    <tr>\n",
       "      <th>3</th>\n",
       "      <td>3</td>\n",
       "      <td>13114483485442799616</td>\n",
       "      <td>2019-04-10 00:31:25</td>\n",
       "      <td>486.0</td>\n",
       "      <td>2019-04-25 07:36:35</td>\n",
       "      <td>171.0</td>\n",
       "      <td>1321509.0</td>\n",
       "      <td>2.082014e+14</td>\n",
       "      <td>3.375034e+10</td>\n",
       "      <td>3.535661e+13</td>\n",
       "      <td>...</td>\n",
       "      <td>657493.0</td>\n",
       "      <td>2070983.0</td>\n",
       "      <td>36534765.0</td>\n",
       "      <td>15092588.0</td>\n",
       "      <td>11811761.0</td>\n",
       "      <td>810387875.0</td>\n",
       "      <td>761837216.0</td>\n",
       "      <td>1.638393e+09</td>\n",
       "      <td>1</td>\n",
       "      <td>1321509.0</td>\n",
       "    </tr>\n",
       "    <tr>\n",
       "      <th>4</th>\n",
       "      <td>4</td>\n",
       "      <td>13114483499480700928</td>\n",
       "      <td>2019-04-12 20:10:23</td>\n",
       "      <td>565.0</td>\n",
       "      <td>2019-04-25 10:40:32</td>\n",
       "      <td>954.0</td>\n",
       "      <td>1089009.0</td>\n",
       "      <td>2.082014e+14</td>\n",
       "      <td>3.369980e+10</td>\n",
       "      <td>3.540701e+13</td>\n",
       "      <td>...</td>\n",
       "      <td>912788.0</td>\n",
       "      <td>2110349.0</td>\n",
       "      <td>34222253.0</td>\n",
       "      <td>17539799.0</td>\n",
       "      <td>7748843.0</td>\n",
       "      <td>531237049.0</td>\n",
       "      <td>564619822.0</td>\n",
       "      <td>1.158391e+09</td>\n",
       "      <td>1</td>\n",
       "      <td>1089009.0</td>\n",
       "    </tr>\n",
       "  </tbody>\n",
       "</table>\n",
       "<p>5 rows × 67 columns</p>\n",
       "</div>"
      ],
      "text/plain": [
       "   Unnamed: 0             Bearer Id                Start  Start ms  \\\n",
       "0           0  13114483460844900352  2019-04-04 12:01:18     770.0   \n",
       "1           1  13114483482878900224  2019-04-09 13:04:04     235.0   \n",
       "2           2  13114483484080500736  2019-04-09 17:42:11       1.0   \n",
       "3           3  13114483485442799616  2019-04-10 00:31:25     486.0   \n",
       "4           4  13114483499480700928  2019-04-12 20:10:23     565.0   \n",
       "\n",
       "                   End  End ms  Dur. (ms)          IMSI  MSISDN/Number  \\\n",
       "0  2019-04-25 14:35:31   662.0  1823652.0  2.082014e+14   3.366496e+10   \n",
       "1  2019-04-25 08:15:48   606.0  1365104.0  2.082019e+14   3.368185e+10   \n",
       "2  2019-04-25 11:58:13   652.0  1361762.0  2.082003e+14   3.376063e+10   \n",
       "3  2019-04-25 07:36:35   171.0  1321509.0  2.082014e+14   3.375034e+10   \n",
       "4  2019-04-25 10:40:32   954.0  1089009.0  2.082014e+14   3.369980e+10   \n",
       "\n",
       "           IMEI  ... Total Session Social Media  Total Session Email  \\\n",
       "0  3.552121e+13  ...                  1570185.0            3701304.0   \n",
       "1  3.579401e+13  ...                  1933278.0             937385.0   \n",
       "2  3.528151e+13  ...                  1726277.0            3363124.0   \n",
       "3  3.535661e+13  ...                   657493.0            2070983.0   \n",
       "4  3.540701e+13  ...                   912788.0            2110349.0   \n",
       "\n",
       "   Total Session Youtube  Total Session Netflix  Total Session Google  \\\n",
       "0             18355943.0             17855187.0             2905912.0   \n",
       "1             39359124.0             35565545.0             4414096.0   \n",
       "2             34425237.0             23751202.0            10229119.0   \n",
       "3             36534765.0             15092588.0            11811761.0   \n",
       "4             34222253.0             17539799.0             7748843.0   \n",
       "\n",
       "   Total Session Gaming  Total Session Other  Total duration all session  \\\n",
       "0           292426453.0          180558843.0                5.173738e+08   \n",
       "1           609920783.0          541959383.0                1.234090e+09   \n",
       "2           229980251.0          414908351.0                7.183836e+08   \n",
       "3           810387875.0          761837216.0                1.638393e+09   \n",
       "4           531237049.0          564619822.0                1.158391e+09   \n",
       "\n",
       "   xDR Session  session duration  \n",
       "0            2         2083209.0  \n",
       "1            2         1698167.0  \n",
       "2            1         1361762.0  \n",
       "3            1         1321509.0  \n",
       "4            1         1089009.0  \n",
       "\n",
       "[5 rows x 67 columns]"
      ]
     },
     "execution_count": 120,
     "metadata": {},
     "output_type": "execute_result"
    }
   ],
   "source": [
    "df = pd.read_csv('../data/Task1.csv')\n",
    "df.head()"
   ]
  },
  {
   "cell_type": "code",
   "execution_count": 121,
   "id": "4a6dfc81",
   "metadata": {},
   "outputs": [],
   "source": [
    "# Function to calculate missing values by column\n",
    "def missing_values_table(df):\n",
    "        # Total missing values\n",
    "        mis_val = df.isnull().sum()\n",
    "        \n",
    "        # Percentage of missing values\n",
    "        mis_val_percent = 100 * df.isnull().sum() / len(df)\n",
    "        \n",
    "        # dtype of missing values\n",
    "        mis_val_dtype = df.dtypes\n",
    "        \n",
    "        # Make a table with the results\n",
    "        mis_val_table = pd.concat([mis_val, mis_val_percent, mis_val_dtype], axis=1)\n",
    "        \n",
    "        # Rename the columns\n",
    "        mis_val_table_ren_columns = mis_val_table.rename(\n",
    "        columns = {0 : 'Missing Values', 1 : '% of Total Values', 2: 'Dtype'})\n",
    "        \n",
    "        # Sort the table by percentage of missing descending\n",
    "        mis_val_table_ren_columns = mis_val_table_ren_columns[\n",
    "            mis_val_table_ren_columns.iloc[:,1] != 0].sort_values(\n",
    "        '% of Total Values', ascending=False).round(1)\n",
    "        \n",
    "        # Print some summary information\n",
    "        print (\"Your selected dataframe has \" + str(df.shape[1]) + \" columns.\\n\"      \n",
    "            \"There are \" + str(mis_val_table_ren_columns.shape[0]) +\n",
    "              \" columns that have missing values.\")\n",
    "        \n",
    "        # Return the dataframe with missing information\n",
    "        return mis_val_table_ren_columns"
   ]
  },
  {
   "cell_type": "code",
   "execution_count": 122,
   "id": "8c7ddb7c",
   "metadata": {},
   "outputs": [
    {
     "name": "stdout",
     "output_type": "stream",
     "text": [
      "Your selected dataframe has 67 columns.\n",
      "There are 25 columns that have missing values.\n"
     ]
    },
    {
     "data": {
      "text/html": [
       "<div>\n",
       "<style scoped>\n",
       "    .dataframe tbody tr th:only-of-type {\n",
       "        vertical-align: middle;\n",
       "    }\n",
       "\n",
       "    .dataframe tbody tr th {\n",
       "        vertical-align: top;\n",
       "    }\n",
       "\n",
       "    .dataframe thead th {\n",
       "        text-align: right;\n",
       "    }\n",
       "</style>\n",
       "<table border=\"1\" class=\"dataframe\">\n",
       "  <thead>\n",
       "    <tr style=\"text-align: right;\">\n",
       "      <th></th>\n",
       "      <th>Missing Values</th>\n",
       "      <th>% of Total Values</th>\n",
       "      <th>Dtype</th>\n",
       "    </tr>\n",
       "  </thead>\n",
       "  <tbody>\n",
       "    <tr>\n",
       "      <th>Nb of sec with 37500B &lt; Vol UL</th>\n",
       "      <td>130253</td>\n",
       "      <td>86.8</td>\n",
       "      <td>float64</td>\n",
       "    </tr>\n",
       "    <tr>\n",
       "      <th>Nb of sec with 6250B &lt; Vol UL &lt; 37500B</th>\n",
       "      <td>111842</td>\n",
       "      <td>74.6</td>\n",
       "      <td>float64</td>\n",
       "    </tr>\n",
       "    <tr>\n",
       "      <th>Nb of sec with 125000B &lt; Vol DL</th>\n",
       "      <td>97537</td>\n",
       "      <td>65.0</td>\n",
       "      <td>float64</td>\n",
       "    </tr>\n",
       "    <tr>\n",
       "      <th>TCP UL Retrans. Vol (Bytes)</th>\n",
       "      <td>96648</td>\n",
       "      <td>64.4</td>\n",
       "      <td>float64</td>\n",
       "    </tr>\n",
       "    <tr>\n",
       "      <th>Nb of sec with 31250B &lt; Vol DL &lt; 125000B</th>\n",
       "      <td>93585</td>\n",
       "      <td>62.4</td>\n",
       "      <td>float64</td>\n",
       "    </tr>\n",
       "    <tr>\n",
       "      <th>Nb of sec with 1250B &lt; Vol UL &lt; 6250B</th>\n",
       "      <td>92893</td>\n",
       "      <td>61.9</td>\n",
       "      <td>float64</td>\n",
       "    </tr>\n",
       "    <tr>\n",
       "      <th>Nb of sec with 6250B &lt; Vol DL &lt; 31250B</th>\n",
       "      <td>88316</td>\n",
       "      <td>58.9</td>\n",
       "      <td>float64</td>\n",
       "    </tr>\n",
       "    <tr>\n",
       "      <th>TCP DL Retrans. Vol (Bytes)</th>\n",
       "      <td>88145</td>\n",
       "      <td>58.8</td>\n",
       "      <td>float64</td>\n",
       "    </tr>\n",
       "    <tr>\n",
       "      <th>HTTP UL (Bytes)</th>\n",
       "      <td>81809</td>\n",
       "      <td>54.5</td>\n",
       "      <td>float64</td>\n",
       "    </tr>\n",
       "    <tr>\n",
       "      <th>HTTP DL (Bytes)</th>\n",
       "      <td>81473</td>\n",
       "      <td>54.3</td>\n",
       "      <td>float64</td>\n",
       "    </tr>\n",
       "    <tr>\n",
       "      <th>Avg RTT DL (ms)</th>\n",
       "      <td>27828</td>\n",
       "      <td>18.6</td>\n",
       "      <td>float64</td>\n",
       "    </tr>\n",
       "    <tr>\n",
       "      <th>Avg RTT UL (ms)</th>\n",
       "      <td>27811</td>\n",
       "      <td>18.5</td>\n",
       "      <td>float64</td>\n",
       "    </tr>\n",
       "    <tr>\n",
       "      <th>Last Location Name</th>\n",
       "      <td>1152</td>\n",
       "      <td>0.8</td>\n",
       "      <td>object</td>\n",
       "    </tr>\n",
       "    <tr>\n",
       "      <th>Nb of sec with Vol UL &lt; 1250B</th>\n",
       "      <td>792</td>\n",
       "      <td>0.5</td>\n",
       "      <td>float64</td>\n",
       "    </tr>\n",
       "    <tr>\n",
       "      <th>10 Kbps &lt; UL TP &lt; 50 Kbps (%)</th>\n",
       "      <td>791</td>\n",
       "      <td>0.5</td>\n",
       "      <td>float64</td>\n",
       "    </tr>\n",
       "    <tr>\n",
       "      <th>UL TP &gt; 300 Kbps (%)</th>\n",
       "      <td>791</td>\n",
       "      <td>0.5</td>\n",
       "      <td>float64</td>\n",
       "    </tr>\n",
       "    <tr>\n",
       "      <th>50 Kbps &lt; UL TP &lt; 300 Kbps (%)</th>\n",
       "      <td>791</td>\n",
       "      <td>0.5</td>\n",
       "      <td>float64</td>\n",
       "    </tr>\n",
       "    <tr>\n",
       "      <th>UL TP &lt; 10 Kbps (%)</th>\n",
       "      <td>791</td>\n",
       "      <td>0.5</td>\n",
       "      <td>float64</td>\n",
       "    </tr>\n",
       "    <tr>\n",
       "      <th>Nb of sec with Vol DL &lt; 6250B</th>\n",
       "      <td>754</td>\n",
       "      <td>0.5</td>\n",
       "      <td>float64</td>\n",
       "    </tr>\n",
       "    <tr>\n",
       "      <th>DL TP &gt; 1 Mbps (%)</th>\n",
       "      <td>753</td>\n",
       "      <td>0.5</td>\n",
       "      <td>float64</td>\n",
       "    </tr>\n",
       "    <tr>\n",
       "      <th>250 Kbps &lt; DL TP &lt; 1 Mbps (%)</th>\n",
       "      <td>753</td>\n",
       "      <td>0.5</td>\n",
       "      <td>float64</td>\n",
       "    </tr>\n",
       "    <tr>\n",
       "      <th>50 Kbps &lt; DL TP &lt; 250 Kbps (%)</th>\n",
       "      <td>753</td>\n",
       "      <td>0.5</td>\n",
       "      <td>float64</td>\n",
       "    </tr>\n",
       "    <tr>\n",
       "      <th>DL TP &lt; 50 Kbps (%)</th>\n",
       "      <td>753</td>\n",
       "      <td>0.5</td>\n",
       "      <td>float64</td>\n",
       "    </tr>\n",
       "    <tr>\n",
       "      <th>IMEI</th>\n",
       "      <td>571</td>\n",
       "      <td>0.4</td>\n",
       "      <td>float64</td>\n",
       "    </tr>\n",
       "    <tr>\n",
       "      <th>IMSI</th>\n",
       "      <td>569</td>\n",
       "      <td>0.4</td>\n",
       "      <td>float64</td>\n",
       "    </tr>\n",
       "  </tbody>\n",
       "</table>\n",
       "</div>"
      ],
      "text/plain": [
       "                                          Missing Values  % of Total Values  \\\n",
       "Nb of sec with 37500B < Vol UL                    130253               86.8   \n",
       "Nb of sec with 6250B < Vol UL < 37500B            111842               74.6   \n",
       "Nb of sec with 125000B < Vol DL                    97537               65.0   \n",
       "TCP UL Retrans. Vol (Bytes)                        96648               64.4   \n",
       "Nb of sec with 31250B < Vol DL < 125000B           93585               62.4   \n",
       "Nb of sec with 1250B < Vol UL < 6250B              92893               61.9   \n",
       "Nb of sec with 6250B < Vol DL < 31250B             88316               58.9   \n",
       "TCP DL Retrans. Vol (Bytes)                        88145               58.8   \n",
       "HTTP UL (Bytes)                                    81809               54.5   \n",
       "HTTP DL (Bytes)                                    81473               54.3   \n",
       "Avg RTT DL (ms)                                    27828               18.6   \n",
       "Avg RTT UL (ms)                                    27811               18.5   \n",
       "Last Location Name                                  1152                0.8   \n",
       "Nb of sec with Vol UL < 1250B                        792                0.5   \n",
       "10 Kbps < UL TP < 50 Kbps (%)                        791                0.5   \n",
       "UL TP > 300 Kbps (%)                                 791                0.5   \n",
       "50 Kbps < UL TP < 300 Kbps (%)                       791                0.5   \n",
       "UL TP < 10 Kbps (%)                                  791                0.5   \n",
       "Nb of sec with Vol DL < 6250B                        754                0.5   \n",
       "DL TP > 1 Mbps (%)                                   753                0.5   \n",
       "250 Kbps < DL TP < 1 Mbps (%)                        753                0.5   \n",
       "50 Kbps < DL TP < 250 Kbps (%)                       753                0.5   \n",
       "DL TP < 50 Kbps (%)                                  753                0.5   \n",
       "IMEI                                                 571                0.4   \n",
       "IMSI                                                 569                0.4   \n",
       "\n",
       "                                            Dtype  \n",
       "Nb of sec with 37500B < Vol UL            float64  \n",
       "Nb of sec with 6250B < Vol UL < 37500B    float64  \n",
       "Nb of sec with 125000B < Vol DL           float64  \n",
       "TCP UL Retrans. Vol (Bytes)               float64  \n",
       "Nb of sec with 31250B < Vol DL < 125000B  float64  \n",
       "Nb of sec with 1250B < Vol UL < 6250B     float64  \n",
       "Nb of sec with 6250B < Vol DL < 31250B    float64  \n",
       "TCP DL Retrans. Vol (Bytes)               float64  \n",
       "HTTP UL (Bytes)                           float64  \n",
       "HTTP DL (Bytes)                           float64  \n",
       "Avg RTT DL (ms)                           float64  \n",
       "Avg RTT UL (ms)                           float64  \n",
       "Last Location Name                         object  \n",
       "Nb of sec with Vol UL < 1250B             float64  \n",
       "10 Kbps < UL TP < 50 Kbps (%)             float64  \n",
       "UL TP > 300 Kbps (%)                      float64  \n",
       "50 Kbps < UL TP < 300 Kbps (%)            float64  \n",
       "UL TP < 10 Kbps (%)                       float64  \n",
       "Nb of sec with Vol DL < 6250B             float64  \n",
       "DL TP > 1 Mbps (%)                        float64  \n",
       "250 Kbps < DL TP < 1 Mbps (%)             float64  \n",
       "50 Kbps < DL TP < 250 Kbps (%)            float64  \n",
       "DL TP < 50 Kbps (%)                       float64  \n",
       "IMEI                                      float64  \n",
       "IMSI                                      float64  "
      ]
     },
     "execution_count": 122,
     "metadata": {},
     "output_type": "execute_result"
    }
   ],
   "source": [
    "missing_values_table(df)"
   ]
  },
  {
   "cell_type": "markdown",
   "id": "7eb925dc",
   "metadata": {},
   "source": [
    "<h1>Fix Outliers<br>\n",
    "\n",
    "Since we are to replace all outliers with medians for analysis purposes so we dont lose data. I wrote a function to do that by replacing all outliers values in a column greater than 95% with the median of that column"
   ]
  },
  {
   "cell_type": "code",
   "execution_count": 123,
   "id": "34367306",
   "metadata": {},
   "outputs": [],
   "source": [
    "def fix_outlier(df, column):\n",
    "    df[column] = np.where(df[column] > df[column].quantile(0.95),\n",
    "                                        df[column].median(),\n",
    "                                        df[column])\n",
    "    return df[column]"
   ]
  },
  {
   "cell_type": "code",
   "execution_count": 124,
   "id": "63c20204",
   "metadata": {},
   "outputs": [],
   "source": [
    "df['TCP DL Retrans. Vol (Bytes)'] = fix_outlier(df, 'TCP DL Retrans. Vol (Bytes)')\n",
    "df['TCP UL Retrans. Vol (Bytes)'] = fix_outlier(df, 'TCP DL Retrans. Vol (Bytes)')\n",
    "df['Avg Bearer TP DL (kbps)'] = fix_outlier(df, 'Avg Bearer TP DL (kbps)')\n",
    "df['Avg Bearer TP UL (kbps)'] = fix_outlier(df, 'Avg Bearer TP UL (kbps)')\n",
    "df['Avg RTT DL (ms)'] = fix_outlier(df, 'Avg RTT DL (ms)')\n",
    "df['Avg RTT UL (ms)'] = fix_outlier(df, 'Avg RTT UL (ms)')\n",
    "df['Total Download and Upload'] = fix_outlier(df, 'Total Download and Upload')\n",
    "df['Total duration all session'] = fix_outlier(df, 'Total duration all session')"
   ]
  },
  {
   "cell_type": "code",
   "execution_count": 125,
   "id": "a05bacbe",
   "metadata": {},
   "outputs": [
    {
     "name": "stdout",
     "output_type": "stream",
     "text": [
      "(150000, 67)\n",
      "(61322, 67)\n"
     ]
    }
   ],
   "source": [
    "# Outlier Identification  and dropping\n",
    "print(df.shape)\n",
    "q1 = df.quantile(0.25)\n",
    "q3 = df.quantile(0.75)\n",
    "iqr = q3 - q1\n",
    "df_out = df[~((df < (q1 - 1.5 * iqr)) | (df > (q3 + 1.5 * iqr))).any(axis=1)]\n",
    "print(df_out.shape)"
   ]
  },
  {
   "cell_type": "code",
   "execution_count": 126,
   "id": "bb3ab3db",
   "metadata": {},
   "outputs": [],
   "source": [
    "upper_q = df['TCP DL Retrans. Vol (Bytes)'].describe()['75%']\n",
    "lower_q = df['TCP DL Retrans. Vol (Bytes)'].describe()['25%']\n",
    "iqr = upper_q - lower_q\n",
    "upper_whisker = upper_q + 1.5*iqr"
   ]
  },
  {
   "cell_type": "code",
   "execution_count": 127,
   "id": "6c54fadc",
   "metadata": {},
   "outputs": [
    {
     "name": "stdout",
     "output_type": "stream",
     "text": [
      "(150000, 67)\n",
      "(54013, 67)\n"
     ]
    }
   ],
   "source": [
    "print(df.shape)\n",
    "df1 = df[df['TCP DL Retrans. Vol (Bytes)'] < upper_whisker]\n",
    "print(df1.shape)"
   ]
  },
  {
   "cell_type": "markdown",
   "id": "a07b3670",
   "metadata": {},
   "source": [
    "User Engagement Analysis\n",
    "How often do customers use diffrent apps?\n",
    "What is the average usage of apps per customer per app\n",
    "\n",
    "Session Frequncy is the count of times each customer logged in or use an application"
   ]
  },
  {
   "cell_type": "code",
   "execution_count": 128,
   "id": "1087f97d",
   "metadata": {},
   "outputs": [
    {
     "name": "stdout",
     "output_type": "stream",
     "text": [
      "The total number of Unique Customer in our data is 106856\n"
     ]
    }
   ],
   "source": [
    "print('The total number of Unique Customer in our data is', df['MSISDN/Number'].nunique())"
   ]
  },
  {
   "cell_type": "code",
   "execution_count": 129,
   "id": "eb386a9b",
   "metadata": {},
   "outputs": [
    {
     "data": {
      "text/html": [
       "<div>\n",
       "<style scoped>\n",
       "    .dataframe tbody tr th:only-of-type {\n",
       "        vertical-align: middle;\n",
       "    }\n",
       "\n",
       "    .dataframe tbody tr th {\n",
       "        vertical-align: top;\n",
       "    }\n",
       "\n",
       "    .dataframe thead th {\n",
       "        text-align: right;\n",
       "    }\n",
       "</style>\n",
       "<table border=\"1\" class=\"dataframe\">\n",
       "  <thead>\n",
       "    <tr style=\"text-align: right;\">\n",
       "      <th></th>\n",
       "      <th>MSISDN/Number</th>\n",
       "      <th>Frequency xDR sessions</th>\n",
       "    </tr>\n",
       "  </thead>\n",
       "  <tbody>\n",
       "    <tr>\n",
       "      <th>13526</th>\n",
       "      <td>3.362632e+10</td>\n",
       "      <td>1083</td>\n",
       "    </tr>\n",
       "    <tr>\n",
       "      <th>13180</th>\n",
       "      <td>3.362578e+10</td>\n",
       "      <td>17</td>\n",
       "    </tr>\n",
       "    <tr>\n",
       "      <th>6437</th>\n",
       "      <td>3.361489e+10</td>\n",
       "      <td>17</td>\n",
       "    </tr>\n",
       "    <tr>\n",
       "      <th>37052</th>\n",
       "      <td>3.365973e+10</td>\n",
       "      <td>16</td>\n",
       "    </tr>\n",
       "    <tr>\n",
       "      <th>92923</th>\n",
       "      <td>3.376054e+10</td>\n",
       "      <td>15</td>\n",
       "    </tr>\n",
       "    <tr>\n",
       "      <th>76363</th>\n",
       "      <td>3.367588e+10</td>\n",
       "      <td>15</td>\n",
       "    </tr>\n",
       "    <tr>\n",
       "      <th>65118</th>\n",
       "      <td>3.366716e+10</td>\n",
       "      <td>13</td>\n",
       "    </tr>\n",
       "    <tr>\n",
       "      <th>13994</th>\n",
       "      <td>3.362708e+10</td>\n",
       "      <td>12</td>\n",
       "    </tr>\n",
       "    <tr>\n",
       "      <th>1279</th>\n",
       "      <td>3.360452e+10</td>\n",
       "      <td>12</td>\n",
       "    </tr>\n",
       "    <tr>\n",
       "      <th>92577</th>\n",
       "      <td>3.376041e+10</td>\n",
       "      <td>12</td>\n",
       "    </tr>\n",
       "  </tbody>\n",
       "</table>\n",
       "</div>"
      ],
      "text/plain": [
       "       MSISDN/Number  Frequency xDR sessions\n",
       "13526   3.362632e+10                    1083\n",
       "13180   3.362578e+10                      17\n",
       "6437    3.361489e+10                      17\n",
       "37052   3.365973e+10                      16\n",
       "92923   3.376054e+10                      15\n",
       "76363   3.367588e+10                      15\n",
       "65118   3.366716e+10                      13\n",
       "13994   3.362708e+10                      12\n",
       "1279    3.360452e+10                      12\n",
       "92577   3.376041e+10                      12"
      ]
     },
     "execution_count": 129,
     "metadata": {},
     "output_type": "execute_result"
    }
   ],
   "source": [
    "df.groupby('MSISDN/Number')['Bearer Id'].count().reset_index(name='Frequency xDR sessions').\\\n",
    "            sort_values(by='Frequency xDR sessions', ascending=False)[:10]"
   ]
  },
  {
   "cell_type": "markdown",
   "id": "7f2d3792",
   "metadata": {},
   "source": [
    "The 3 engagement metrics are Total Download and Upload, xDr Session and Session duration"
   ]
  },
  {
   "cell_type": "markdown",
   "id": "f651c8cf",
   "metadata": {},
   "source": [
    "<h1>Task 2.1 <br>\n",
    "Aggregate the above metrics per customer id (MSISDN) and report the top 10 customers per engagement metric"
   ]
  },
  {
   "cell_type": "code",
   "execution_count": 130,
   "id": "aa71e1a3",
   "metadata": {},
   "outputs": [
    {
     "data": {
      "text/html": [
       "<div>\n",
       "<style scoped>\n",
       "    .dataframe tbody tr th:only-of-type {\n",
       "        vertical-align: middle;\n",
       "    }\n",
       "\n",
       "    .dataframe tbody tr th {\n",
       "        vertical-align: top;\n",
       "    }\n",
       "\n",
       "    .dataframe thead th {\n",
       "        text-align: right;\n",
       "    }\n",
       "</style>\n",
       "<table border=\"1\" class=\"dataframe\">\n",
       "  <thead>\n",
       "    <tr style=\"text-align: right;\">\n",
       "      <th></th>\n",
       "      <th>MSISDN/Number</th>\n",
       "      <th>Total Download and Upload</th>\n",
       "      <th>xDR Session</th>\n",
       "      <th>session duration</th>\n",
       "    </tr>\n",
       "  </thead>\n",
       "  <tbody>\n",
       "    <tr>\n",
       "      <th>0</th>\n",
       "      <td>3.366496e+10</td>\n",
       "      <td>345629377.0</td>\n",
       "      <td>2</td>\n",
       "      <td>2083209.0</td>\n",
       "    </tr>\n",
       "    <tr>\n",
       "      <th>1</th>\n",
       "      <td>3.368185e+10</td>\n",
       "      <td>707185356.0</td>\n",
       "      <td>2</td>\n",
       "      <td>1698167.0</td>\n",
       "    </tr>\n",
       "    <tr>\n",
       "      <th>2</th>\n",
       "      <td>3.376063e+10</td>\n",
       "      <td>307690973.0</td>\n",
       "      <td>1</td>\n",
       "      <td>1361762.0</td>\n",
       "    </tr>\n",
       "    <tr>\n",
       "      <th>3</th>\n",
       "      <td>3.375034e+10</td>\n",
       "      <td>496861101.5</td>\n",
       "      <td>1</td>\n",
       "      <td>1321509.0</td>\n",
       "    </tr>\n",
       "    <tr>\n",
       "      <th>4</th>\n",
       "      <td>3.369980e+10</td>\n",
       "      <td>607681403.0</td>\n",
       "      <td>1</td>\n",
       "      <td>1089009.0</td>\n",
       "    </tr>\n",
       "  </tbody>\n",
       "</table>\n",
       "</div>"
      ],
      "text/plain": [
       "   MSISDN/Number  Total Download and Upload  xDR Session  session duration\n",
       "0   3.366496e+10                345629377.0            2         2083209.0\n",
       "1   3.368185e+10                707185356.0            2         1698167.0\n",
       "2   3.376063e+10                307690973.0            1         1361762.0\n",
       "3   3.375034e+10                496861101.5            1         1321509.0\n",
       "4   3.369980e+10                607681403.0            1         1089009.0"
      ]
     },
     "execution_count": 130,
     "metadata": {},
     "output_type": "execute_result"
    }
   ],
   "source": [
    "df_eng_metrics = df[['MSISDN/Number', 'Total Download and Upload', 'xDR Session', 'session duration']]\n",
    "df_eng_metrics.head()\n"
   ]
  },
  {
   "cell_type": "markdown",
   "id": "f29a6128",
   "metadata": {},
   "source": [
    "<h1>Top 10 CUstomers based on Aggregated values of Metrics <br>\n",
    "Top 10 by Session Duration"
   ]
  },
  {
   "cell_type": "code",
   "execution_count": 131,
   "id": "063737d2",
   "metadata": {},
   "outputs": [
    {
     "data": {
      "text/html": [
       "<div>\n",
       "<style scoped>\n",
       "    .dataframe tbody tr th:only-of-type {\n",
       "        vertical-align: middle;\n",
       "    }\n",
       "\n",
       "    .dataframe tbody tr th {\n",
       "        vertical-align: top;\n",
       "    }\n",
       "\n",
       "    .dataframe thead th {\n",
       "        text-align: right;\n",
       "    }\n",
       "</style>\n",
       "<table border=\"1\" class=\"dataframe\">\n",
       "  <thead>\n",
       "    <tr style=\"text-align: right;\">\n",
       "      <th></th>\n",
       "      <th>MSISDN/Number</th>\n",
       "      <th>session duration</th>\n",
       "    </tr>\n",
       "  </thead>\n",
       "  <tbody>\n",
       "    <tr>\n",
       "      <th>13526</th>\n",
       "      <td>3.362632e+10</td>\n",
       "      <td>8.798110e+10</td>\n",
       "    </tr>\n",
       "    <tr>\n",
       "      <th>13180</th>\n",
       "      <td>3.362578e+10</td>\n",
       "      <td>3.154138e+08</td>\n",
       "    </tr>\n",
       "    <tr>\n",
       "      <th>6437</th>\n",
       "      <td>3.361489e+10</td>\n",
       "      <td>1.694373e+08</td>\n",
       "    </tr>\n",
       "    <tr>\n",
       "      <th>92923</th>\n",
       "      <td>3.376054e+10</td>\n",
       "      <td>1.391915e+08</td>\n",
       "    </tr>\n",
       "    <tr>\n",
       "      <th>65118</th>\n",
       "      <td>3.366716e+10</td>\n",
       "      <td>1.136839e+08</td>\n",
       "    </tr>\n",
       "    <tr>\n",
       "      <th>666</th>\n",
       "      <td>3.360313e+10</td>\n",
       "      <td>7.545313e+07</td>\n",
       "    </tr>\n",
       "    <tr>\n",
       "      <th>76363</th>\n",
       "      <td>3.367588e+10</td>\n",
       "      <td>7.298920e+07</td>\n",
       "    </tr>\n",
       "    <tr>\n",
       "      <th>37052</th>\n",
       "      <td>3.365973e+10</td>\n",
       "      <td>6.456685e+07</td>\n",
       "    </tr>\n",
       "    <tr>\n",
       "      <th>92577</th>\n",
       "      <td>3.376041e+10</td>\n",
       "      <td>6.386000e+07</td>\n",
       "    </tr>\n",
       "    <tr>\n",
       "      <th>1279</th>\n",
       "      <td>3.360452e+10</td>\n",
       "      <td>6.249588e+07</td>\n",
       "    </tr>\n",
       "  </tbody>\n",
       "</table>\n",
       "</div>"
      ],
      "text/plain": [
       "       MSISDN/Number  session duration\n",
       "13526   3.362632e+10      8.798110e+10\n",
       "13180   3.362578e+10      3.154138e+08\n",
       "6437    3.361489e+10      1.694373e+08\n",
       "92923   3.376054e+10      1.391915e+08\n",
       "65118   3.366716e+10      1.136839e+08\n",
       "666     3.360313e+10      7.545313e+07\n",
       "76363   3.367588e+10      7.298920e+07\n",
       "37052   3.365973e+10      6.456685e+07\n",
       "92577   3.376041e+10      6.386000e+07\n",
       "1279    3.360452e+10      6.249588e+07"
      ]
     },
     "execution_count": 131,
     "metadata": {},
     "output_type": "execute_result"
    }
   ],
   "source": [
    "eng_metrics = df_eng_metrics.groupby('MSISDN/Number')[['Total Download and Upload', 'xDR Session',\n",
    "                                         'session duration']].sum().reset_index()\n",
    "top_10_session = eng_metrics[['MSISDN/Number', 'session duration']].sort_values(by='session duration',ascending=False)[:10]\n",
    "top_10_session\n"
   ]
  },
  {
   "cell_type": "markdown",
   "id": "14db0ef9",
   "metadata": {},
   "source": [
    "<h1>Top 10 User by Download and Upload"
   ]
  },
  {
   "cell_type": "code",
   "execution_count": 132,
   "id": "fd430715",
   "metadata": {},
   "outputs": [
    {
     "data": {
      "text/html": [
       "<div>\n",
       "<style scoped>\n",
       "    .dataframe tbody tr th:only-of-type {\n",
       "        vertical-align: middle;\n",
       "    }\n",
       "\n",
       "    .dataframe tbody tr th {\n",
       "        vertical-align: top;\n",
       "    }\n",
       "\n",
       "    .dataframe thead th {\n",
       "        text-align: right;\n",
       "    }\n",
       "</style>\n",
       "<table border=\"1\" class=\"dataframe\">\n",
       "  <thead>\n",
       "    <tr style=\"text-align: right;\">\n",
       "      <th></th>\n",
       "      <th>MSISDN/Number</th>\n",
       "      <th>Total Download and Upload</th>\n",
       "    </tr>\n",
       "  </thead>\n",
       "  <tbody>\n",
       "    <tr>\n",
       "      <th>13526</th>\n",
       "      <td>3.362632e+10</td>\n",
       "      <td>5.167961e+11</td>\n",
       "    </tr>\n",
       "    <tr>\n",
       "      <th>92923</th>\n",
       "      <td>3.376054e+10</td>\n",
       "      <td>8.514774e+09</td>\n",
       "    </tr>\n",
       "    <tr>\n",
       "      <th>76363</th>\n",
       "      <td>3.367588e+10</td>\n",
       "      <td>7.891111e+09</td>\n",
       "    </tr>\n",
       "    <tr>\n",
       "      <th>13180</th>\n",
       "      <td>3.362578e+10</td>\n",
       "      <td>7.708153e+09</td>\n",
       "    </tr>\n",
       "    <tr>\n",
       "      <th>6437</th>\n",
       "      <td>3.361489e+10</td>\n",
       "      <td>7.601873e+09</td>\n",
       "    </tr>\n",
       "    <tr>\n",
       "      <th>37052</th>\n",
       "      <td>3.365973e+10</td>\n",
       "      <td>6.932144e+09</td>\n",
       "    </tr>\n",
       "    <tr>\n",
       "      <th>63028</th>\n",
       "      <td>3.366646e+10</td>\n",
       "      <td>6.530860e+09</td>\n",
       "    </tr>\n",
       "    <tr>\n",
       "      <th>57241</th>\n",
       "      <td>3.366471e+10</td>\n",
       "      <td>6.472725e+09</td>\n",
       "    </tr>\n",
       "    <tr>\n",
       "      <th>86455</th>\n",
       "      <td>3.369879e+10</td>\n",
       "      <td>6.149693e+09</td>\n",
       "    </tr>\n",
       "    <tr>\n",
       "      <th>30715</th>\n",
       "      <td>3.365836e+10</td>\n",
       "      <td>6.051459e+09</td>\n",
       "    </tr>\n",
       "  </tbody>\n",
       "</table>\n",
       "</div>"
      ],
      "text/plain": [
       "       MSISDN/Number  Total Download and Upload\n",
       "13526   3.362632e+10               5.167961e+11\n",
       "92923   3.376054e+10               8.514774e+09\n",
       "76363   3.367588e+10               7.891111e+09\n",
       "13180   3.362578e+10               7.708153e+09\n",
       "6437    3.361489e+10               7.601873e+09\n",
       "37052   3.365973e+10               6.932144e+09\n",
       "63028   3.366646e+10               6.530860e+09\n",
       "57241   3.366471e+10               6.472725e+09\n",
       "86455   3.369879e+10               6.149693e+09\n",
       "30715   3.365836e+10               6.051459e+09"
      ]
     },
     "execution_count": 132,
     "metadata": {},
     "output_type": "execute_result"
    }
   ],
   "source": [
    "top_10_dl_ul = eng_metrics[['MSISDN/Number', 'Total Download and Upload']].sort_values(by='Total Download and Upload',ascending=False)[:10]\n",
    "top_10_dl_ul"
   ]
  },
  {
   "cell_type": "markdown",
   "id": "18b025b6",
   "metadata": {},
   "source": [
    "<h1>Top 10 User by xDr Session aka Frequency"
   ]
  },
  {
   "cell_type": "code",
   "execution_count": 133,
   "id": "c54cb948",
   "metadata": {},
   "outputs": [
    {
     "data": {
      "text/html": [
       "<div>\n",
       "<style scoped>\n",
       "    .dataframe tbody tr th:only-of-type {\n",
       "        vertical-align: middle;\n",
       "    }\n",
       "\n",
       "    .dataframe tbody tr th {\n",
       "        vertical-align: top;\n",
       "    }\n",
       "\n",
       "    .dataframe thead th {\n",
       "        text-align: right;\n",
       "    }\n",
       "</style>\n",
       "<table border=\"1\" class=\"dataframe\">\n",
       "  <thead>\n",
       "    <tr style=\"text-align: right;\">\n",
       "      <th></th>\n",
       "      <th>MSISDN/Number</th>\n",
       "      <th>xDR Session</th>\n",
       "    </tr>\n",
       "  </thead>\n",
       "  <tbody>\n",
       "    <tr>\n",
       "      <th>13526</th>\n",
       "      <td>3.362632e+10</td>\n",
       "      <td>1172889</td>\n",
       "    </tr>\n",
       "    <tr>\n",
       "      <th>13180</th>\n",
       "      <td>3.362578e+10</td>\n",
       "      <td>289</td>\n",
       "    </tr>\n",
       "    <tr>\n",
       "      <th>6437</th>\n",
       "      <td>3.361489e+10</td>\n",
       "      <td>289</td>\n",
       "    </tr>\n",
       "    <tr>\n",
       "      <th>37052</th>\n",
       "      <td>3.365973e+10</td>\n",
       "      <td>256</td>\n",
       "    </tr>\n",
       "    <tr>\n",
       "      <th>92923</th>\n",
       "      <td>3.376054e+10</td>\n",
       "      <td>225</td>\n",
       "    </tr>\n",
       "    <tr>\n",
       "      <th>76363</th>\n",
       "      <td>3.367588e+10</td>\n",
       "      <td>225</td>\n",
       "    </tr>\n",
       "    <tr>\n",
       "      <th>65118</th>\n",
       "      <td>3.366716e+10</td>\n",
       "      <td>169</td>\n",
       "    </tr>\n",
       "    <tr>\n",
       "      <th>13994</th>\n",
       "      <td>3.362708e+10</td>\n",
       "      <td>144</td>\n",
       "    </tr>\n",
       "    <tr>\n",
       "      <th>1279</th>\n",
       "      <td>3.360452e+10</td>\n",
       "      <td>144</td>\n",
       "    </tr>\n",
       "    <tr>\n",
       "      <th>92577</th>\n",
       "      <td>3.376041e+10</td>\n",
       "      <td>144</td>\n",
       "    </tr>\n",
       "  </tbody>\n",
       "</table>\n",
       "</div>"
      ],
      "text/plain": [
       "       MSISDN/Number  xDR Session\n",
       "13526   3.362632e+10      1172889\n",
       "13180   3.362578e+10          289\n",
       "6437    3.361489e+10          289\n",
       "37052   3.365973e+10          256\n",
       "92923   3.376054e+10          225\n",
       "76363   3.367588e+10          225\n",
       "65118   3.366716e+10          169\n",
       "13994   3.362708e+10          144\n",
       "1279    3.360452e+10          144\n",
       "92577   3.376041e+10          144"
      ]
     },
     "execution_count": 133,
     "metadata": {},
     "output_type": "execute_result"
    }
   ],
   "source": [
    "eng_metrics[['MSISDN/Number', 'xDR Session']].sort_values(by='xDR Session',ascending=False)[:10]"
   ]
  },
  {
   "cell_type": "code",
   "execution_count": 134,
   "id": "ab57b828",
   "metadata": {},
   "outputs": [
    {
     "data": {
      "image/png": "[encoded data removed]",
      "text/plain": [
       "<Figure size 936x360 with 1 Axes>"
      ]
     },
     "metadata": {},
     "output_type": "display_data"
    }
   ],
   "source": [
    "plt.figure(figsize=(13,5))\n",
    "sns.barplot(data=top_10_dl_ul, x= 'MSISDN/Number', y='Total Download and Upload')\n",
    "plt.title('Top 10 Customers with the most Download and Upload', size=20)\n",
    "plt.xticks(rotation=90)\n",
    "plt.show()\n",
    "plt.style.use('fivethirtyeight')"
   ]
  },
  {
   "cell_type": "markdown",
   "id": "a4e8a85f",
   "metadata": {},
   "source": [
    "Normalize each engagement metric and run a k-means (k=3) to classify                      customers in three groups of engagement."
   ]
  },
  {
   "cell_type": "code",
   "execution_count": 135,
   "id": "e52eb899",
   "metadata": {},
   "outputs": [],
   "source": [
    "df_metrics1 = df_eng_metrics.drop('MSISDN/Number', axis=1)\n",
    "df_metrics_norm = (\n",
    "        (df_metrics1 - df_metrics1.min()) \n",
    "            /\n",
    "        (df_metrics1.max() - df_metrics1.min())\n",
    "                  )"
   ]
  },
  {
   "cell_type": "code",
   "execution_count": 136,
   "id": "b93d4236",
   "metadata": {},
   "outputs": [
    {
     "data": {
      "text/html": [
       "<style>#sk-container-id-5 {color: black;background-color: white;}#sk-container-id-5 pre{padding: 0;}#sk-container-id-5 div.sk-toggleable {background-color: white;}#sk-container-id-5 label.sk-toggleable__label {cursor: pointer;display: block;width: 100%;margin-bottom: 0;padding: 0.3em;box-sizing: border-box;text-align: center;}#sk-container-id-5 label.sk-toggleable__label-arrow:before {content: \"▸\";float: left;margin-right: 0.25em;color: #696969;}#sk-container-id-5 label.sk-toggleable__label-arrow:hover:before {color: black;}#sk-container-id-5 div.sk-estimator:hover label.sk-toggleable__label-arrow:before {color: black;}#sk-container-id-5 div.sk-toggleable__content {max-height: 0;max-width: 0;overflow: hidden;text-align: left;background-color: #f0f8ff;}#sk-container-id-5 div.sk-toggleable__content pre {margin: 0.2em;color: black;border-radius: 0.25em;background-color: #f0f8ff;}#sk-container-id-5 input.sk-toggleable__control:checked~div.sk-toggleable__content {max-height: 200px;max-width: 100%;overflow: auto;}#sk-container-id-5 input.sk-toggleable__control:checked~label.sk-toggleable__label-arrow:before {content: \"▾\";}#sk-container-id-5 div.sk-estimator input.sk-toggleable__control:checked~label.sk-toggleable__label {background-color: #d4ebff;}#sk-container-id-5 div.sk-label input.sk-toggleable__control:checked~label.sk-toggleable__label {background-color: #d4ebff;}#sk-container-id-5 input.sk-hidden--visually {border: 0;clip: rect(1px 1px 1px 1px);clip: rect(1px, 1px, 1px, 1px);height: 1px;margin: -1px;overflow: hidden;padding: 0;position: absolute;width: 1px;}#sk-container-id-5 div.sk-estimator {font-family: monospace;background-color: #f0f8ff;border: 1px dotted black;border-radius: 0.25em;box-sizing: border-box;margin-bottom: 0.5em;}#sk-container-id-5 div.sk-estimator:hover {background-color: #d4ebff;}#sk-container-id-5 div.sk-parallel-item::after {content: \"\";width: 100%;border-bottom: 1px solid gray;flex-grow: 1;}#sk-container-id-5 div.sk-label:hover label.sk-toggleable__label {background-color: #d4ebff;}#sk-container-id-5 div.sk-serial::before {content: \"\";position: absolute;border-left: 1px solid gray;box-sizing: border-box;top: 0;bottom: 0;left: 50%;z-index: 0;}#sk-container-id-5 div.sk-serial {display: flex;flex-direction: column;align-items: center;background-color: white;padding-right: 0.2em;padding-left: 0.2em;position: relative;}#sk-container-id-5 div.sk-item {position: relative;z-index: 1;}#sk-container-id-5 div.sk-parallel {display: flex;align-items: stretch;justify-content: center;background-color: white;position: relative;}#sk-container-id-5 div.sk-item::before, #sk-container-id-5 div.sk-parallel-item::before {content: \"\";position: absolute;border-left: 1px solid gray;box-sizing: border-box;top: 0;bottom: 0;left: 50%;z-index: -1;}#sk-container-id-5 div.sk-parallel-item {display: flex;flex-direction: column;z-index: 1;position: relative;background-color: white;}#sk-container-id-5 div.sk-parallel-item:first-child::after {align-self: flex-end;width: 50%;}#sk-container-id-5 div.sk-parallel-item:last-child::after {align-self: flex-start;width: 50%;}#sk-container-id-5 div.sk-parallel-item:only-child::after {width: 0;}#sk-container-id-5 div.sk-dashed-wrapped {border: 1px dashed gray;margin: 0 0.4em 0.5em 0.4em;box-sizing: border-box;padding-bottom: 0.4em;background-color: white;}#sk-container-id-5 div.sk-label label {font-family: monospace;font-weight: bold;display: inline-block;line-height: 1.2em;}#sk-container-id-5 div.sk-label-container {text-align: center;}#sk-container-id-5 div.sk-container {/* jupyter's `normalize.less` sets `[hidden] { display: none; }` but bootstrap.min.css set `[hidden] { display: none !important; }` so we also need the `!important` here to be able to override the default hidden behavior on the sphinx rendered scikit-learn.org. See: https://github.com/scikit-learn/scikit-learn/issues/21755 */display: inline-block !important;position: relative;}#sk-container-id-5 div.sk-text-repr-fallback {display: none;}</style><div id=\"sk-container-id-5\" class=\"sk-top-container\"><div class=\"sk-text-repr-fallback\"><pre>KMeans(n_clusters=3, random_state=42)</pre><b>In a Jupyter environment, please rerun this cell to show the HTML representation or trust the notebook. <br />On GitHub, the HTML representation is unable to render, please try loading this page with nbviewer.org.</b></div><div class=\"sk-container\" hidden><div class=\"sk-item\"><div class=\"sk-estimator sk-toggleable\"><input class=\"sk-toggleable__control sk-hidden--visually\" id=\"sk-estimator-id-5\" type=\"checkbox\" checked><label for=\"sk-estimator-id-5\" class=\"sk-toggleable__label sk-toggleable__label-arrow\">KMeans</label><div class=\"sk-toggleable__content\"><pre>KMeans(n_clusters=3, random_state=42)</pre></div></div></div></div></div>"
      ],
      "text/plain": [
       "KMeans(n_clusters=3, random_state=42)"
      ]
     },
     "execution_count": 136,
     "metadata": {},
     "output_type": "execute_result"
    }
   ],
   "source": [
    "# run a k-means (k=3)\n",
    "from sklearn.cluster import KMeans\n",
    "kmeans = KMeans(init=\"k-means++\",  n_clusters=3, random_state=42)\n",
    "kmeans.fit(df_metrics_norm)"
   ]
  },
  {
   "cell_type": "code",
   "execution_count": 137,
   "id": "6d1e4a61",
   "metadata": {},
   "outputs": [
    {
     "data": {
      "text/plain": [
       "array([[2.79461729e-01, 7.97276322e-04, 2.54096168e-03],\n",
       "       [7.35883408e-01, 7.89294354e-04, 2.54337915e-03],\n",
       "       [5.29602656e-01, 1.00000000e+00, 1.00000000e+00]])"
      ]
     },
     "execution_count": 137,
     "metadata": {},
     "output_type": "execute_result"
    }
   ],
   "source": [
    "centroids_eng = kmeans.cluster_centers_\n",
    "centroids_eng"
   ]
  },
  {
   "cell_type": "code",
   "execution_count": 138,
   "id": "ec7d8dc7",
   "metadata": {},
   "outputs": [],
   "source": [
    "df_segm_kmeans = df_metrics1.copy()\n",
    "df_segm_kmeans['Segment K-means'] = kmeans.labels_"
   ]
  },
  {
   "cell_type": "markdown",
   "id": "5e1f5311",
   "metadata": {},
   "source": [
    "Compute the minimum, maximum, average & total non- normalized metrics for                      each cluster. Interpret your results visually with accompanying text"
   ]
  },
  {
   "cell_type": "code",
   "execution_count": 139,
   "id": "aa35f57c",
   "metadata": {},
   "outputs": [
    {
     "data": {
      "text/html": [
       "<div>\n",
       "<style scoped>\n",
       "    .dataframe tbody tr th:only-of-type {\n",
       "        vertical-align: middle;\n",
       "    }\n",
       "\n",
       "    .dataframe tbody tr th {\n",
       "        vertical-align: top;\n",
       "    }\n",
       "\n",
       "    .dataframe thead tr th {\n",
       "        text-align: left;\n",
       "    }\n",
       "\n",
       "    .dataframe thead tr:last-of-type th {\n",
       "        text-align: right;\n",
       "    }\n",
       "</style>\n",
       "<table border=\"1\" class=\"dataframe\">\n",
       "  <thead>\n",
       "    <tr>\n",
       "      <th></th>\n",
       "      <th colspan=\"4\" halign=\"left\">Total Download and Upload</th>\n",
       "      <th colspan=\"4\" halign=\"left\">xDR Session</th>\n",
       "      <th colspan=\"4\" halign=\"left\">session duration</th>\n",
       "    </tr>\n",
       "    <tr>\n",
       "      <th></th>\n",
       "      <th>min</th>\n",
       "      <th>max</th>\n",
       "      <th>mean</th>\n",
       "      <th>sum</th>\n",
       "      <th>min</th>\n",
       "      <th>max</th>\n",
       "      <th>mean</th>\n",
       "      <th>sum</th>\n",
       "      <th>min</th>\n",
       "      <th>max</th>\n",
       "      <th>mean</th>\n",
       "      <th>sum</th>\n",
       "    </tr>\n",
       "    <tr>\n",
       "      <th>Segment K-means</th>\n",
       "      <th></th>\n",
       "      <th></th>\n",
       "      <th></th>\n",
       "      <th></th>\n",
       "      <th></th>\n",
       "      <th></th>\n",
       "      <th></th>\n",
       "      <th></th>\n",
       "      <th></th>\n",
       "      <th></th>\n",
       "      <th></th>\n",
       "      <th></th>\n",
       "    </tr>\n",
       "  </thead>\n",
       "  <tbody>\n",
       "    <tr>\n",
       "      <th>0</th>\n",
       "      <td>28956107.0</td>\n",
       "      <td>458626976.0</td>\n",
       "      <td>2.650006e+08</td>\n",
       "      <td>1.794928e+13</td>\n",
       "      <td>1</td>\n",
       "      <td>17</td>\n",
       "      <td>1.862829</td>\n",
       "      <td>126175</td>\n",
       "      <td>7189.0</td>\n",
       "      <td>18553754.0</td>\n",
       "      <td>2.136182e+05</td>\n",
       "      <td>1.446900e+10</td>\n",
       "    </tr>\n",
       "    <tr>\n",
       "      <th>1</th>\n",
       "      <td>458629185.0</td>\n",
       "      <td>875313739.0</td>\n",
       "      <td>6.513778e+08</td>\n",
       "      <td>5.288146e+13</td>\n",
       "      <td>1</td>\n",
       "      <td>17</td>\n",
       "      <td>1.853887</td>\n",
       "      <td>150506</td>\n",
       "      <td>7142.0</td>\n",
       "      <td>18553754.0</td>\n",
       "      <td>2.136841e+05</td>\n",
       "      <td>1.734773e+10</td>\n",
       "    </tr>\n",
       "    <tr>\n",
       "      <th>2</th>\n",
       "      <td>64615748.0</td>\n",
       "      <td>873407674.0</td>\n",
       "      <td>4.771894e+08</td>\n",
       "      <td>5.167961e+11</td>\n",
       "      <td>1083</td>\n",
       "      <td>1083</td>\n",
       "      <td>1083.000000</td>\n",
       "      <td>1172889</td>\n",
       "      <td>81238323.0</td>\n",
       "      <td>81238323.0</td>\n",
       "      <td>8.123832e+07</td>\n",
       "      <td>8.798110e+10</td>\n",
       "    </tr>\n",
       "  </tbody>\n",
       "</table>\n",
       "</div>"
      ],
      "text/plain": [
       "                Total Download and Upload                             \\\n",
       "                                      min          max          mean   \n",
       "Segment K-means                                                        \n",
       "0                              28956107.0  458626976.0  2.650006e+08   \n",
       "1                             458629185.0  875313739.0  6.513778e+08   \n",
       "2                              64615748.0  873407674.0  4.771894e+08   \n",
       "\n",
       "                              xDR Session                              \\\n",
       "                          sum         min   max         mean      sum   \n",
       "Segment K-means                                                         \n",
       "0                1.794928e+13           1    17     1.862829   126175   \n",
       "1                5.288146e+13           1    17     1.853887   150506   \n",
       "2                5.167961e+11        1083  1083  1083.000000  1172889   \n",
       "\n",
       "                session duration                                          \n",
       "                             min         max          mean           sum  \n",
       "Segment K-means                                                           \n",
       "0                         7189.0  18553754.0  2.136182e+05  1.446900e+10  \n",
       "1                         7142.0  18553754.0  2.136841e+05  1.734773e+10  \n",
       "2                     81238323.0  81238323.0  8.123832e+07  8.798110e+10  "
      ]
     },
     "execution_count": 139,
     "metadata": {},
     "output_type": "execute_result"
    }
   ],
   "source": [
    "df_segm_analysis = df_segm_kmeans.groupby(['Segment K-means']).agg(['min', 'max', 'mean', 'sum'])\n",
    "df_segm_analysis"
   ]
  },
  {
   "cell_type": "markdown",
   "id": "a7367475",
   "metadata": {},
   "source": [
    "Mean for each cluster"
   ]
  },
  {
   "cell_type": "code",
   "execution_count": 140,
   "id": "2d7f4da3",
   "metadata": {},
   "outputs": [
    {
     "data": {
      "text/html": [
       "<div>\n",
       "<style scoped>\n",
       "    .dataframe tbody tr th:only-of-type {\n",
       "        vertical-align: middle;\n",
       "    }\n",
       "\n",
       "    .dataframe tbody tr th {\n",
       "        vertical-align: top;\n",
       "    }\n",
       "\n",
       "    .dataframe thead th {\n",
       "        text-align: right;\n",
       "    }\n",
       "</style>\n",
       "<table border=\"1\" class=\"dataframe\">\n",
       "  <thead>\n",
       "    <tr style=\"text-align: right;\">\n",
       "      <th></th>\n",
       "      <th>Total Download and Upload</th>\n",
       "      <th>xDR Session</th>\n",
       "      <th>session duration</th>\n",
       "    </tr>\n",
       "    <tr>\n",
       "      <th>Segment K-means</th>\n",
       "      <th></th>\n",
       "      <th></th>\n",
       "      <th></th>\n",
       "    </tr>\n",
       "  </thead>\n",
       "  <tbody>\n",
       "    <tr>\n",
       "      <th>0</th>\n",
       "      <td>2.650006e+08</td>\n",
       "      <td>1.862829</td>\n",
       "      <td>2.136182e+05</td>\n",
       "    </tr>\n",
       "    <tr>\n",
       "      <th>1</th>\n",
       "      <td>6.513778e+08</td>\n",
       "      <td>1.853887</td>\n",
       "      <td>2.136841e+05</td>\n",
       "    </tr>\n",
       "    <tr>\n",
       "      <th>2</th>\n",
       "      <td>4.771894e+08</td>\n",
       "      <td>1083.000000</td>\n",
       "      <td>8.123832e+07</td>\n",
       "    </tr>\n",
       "  </tbody>\n",
       "</table>\n",
       "</div>"
      ],
      "text/plain": [
       "                 Total Download and Upload  xDR Session  session duration\n",
       "Segment K-means                                                          \n",
       "0                             2.650006e+08     1.862829      2.136182e+05\n",
       "1                             6.513778e+08     1.853887      2.136841e+05\n",
       "2                             4.771894e+08  1083.000000      8.123832e+07"
      ]
     },
     "execution_count": 140,
     "metadata": {},
     "output_type": "execute_result"
    }
   ],
   "source": [
    "# Calculate mean values for the clusters\n",
    "df_segm_analysis = df_segm_kmeans.groupby(['Segment K-means']).mean()\n",
    "df_segm_analysis"
   ]
  },
  {
   "cell_type": "markdown",
   "id": "5945c30b",
   "metadata": {},
   "source": [
    "On Average, Cluster 0 has the highest value of total download and upload . Cluster 0 consume the most data volume, while Cluster 2 has the highest number for xDR Sessions 1083 as well as the Session Duration with . This implies that customers in cluster 2 spends most time using one application or the other."
   ]
  },
  {
   "cell_type": "markdown",
   "id": "5a80af5c",
   "metadata": {},
   "source": [
    "<h1>Minimum for each cluster"
   ]
  },
  {
   "cell_type": "code",
   "execution_count": 141,
   "id": "52a1d6f9",
   "metadata": {},
   "outputs": [
    {
     "data": {
      "text/html": [
       "<div>\n",
       "<style scoped>\n",
       "    .dataframe tbody tr th:only-of-type {\n",
       "        vertical-align: middle;\n",
       "    }\n",
       "\n",
       "    .dataframe tbody tr th {\n",
       "        vertical-align: top;\n",
       "    }\n",
       "\n",
       "    .dataframe thead th {\n",
       "        text-align: right;\n",
       "    }\n",
       "</style>\n",
       "<table border=\"1\" class=\"dataframe\">\n",
       "  <thead>\n",
       "    <tr style=\"text-align: right;\">\n",
       "      <th></th>\n",
       "      <th>Total Download and Upload</th>\n",
       "      <th>xDR Session</th>\n",
       "      <th>session duration</th>\n",
       "    </tr>\n",
       "    <tr>\n",
       "      <th>Segment K-means</th>\n",
       "      <th></th>\n",
       "      <th></th>\n",
       "      <th></th>\n",
       "    </tr>\n",
       "  </thead>\n",
       "  <tbody>\n",
       "    <tr>\n",
       "      <th>0</th>\n",
       "      <td>28956107.0</td>\n",
       "      <td>1</td>\n",
       "      <td>7189.0</td>\n",
       "    </tr>\n",
       "    <tr>\n",
       "      <th>1</th>\n",
       "      <td>458629185.0</td>\n",
       "      <td>1</td>\n",
       "      <td>7142.0</td>\n",
       "    </tr>\n",
       "    <tr>\n",
       "      <th>2</th>\n",
       "      <td>64615748.0</td>\n",
       "      <td>1083</td>\n",
       "      <td>81238323.0</td>\n",
       "    </tr>\n",
       "  </tbody>\n",
       "</table>\n",
       "</div>"
      ],
      "text/plain": [
       "                 Total Download and Upload  xDR Session  session duration\n",
       "Segment K-means                                                          \n",
       "0                               28956107.0            1            7189.0\n",
       "1                              458629185.0            1            7142.0\n",
       "2                               64615748.0         1083        81238323.0"
      ]
     },
     "execution_count": 141,
     "metadata": {},
     "output_type": "execute_result"
    }
   ],
   "source": [
    "# Calculate min values for the clusters\n",
    "df_segm_analysis = df_segm_kmeans.groupby(['Segment K-means']).min()\n",
    "df_segm_analysis"
   ]
  },
  {
   "cell_type": "markdown",
   "id": "83e2eff3",
   "metadata": {},
   "source": [
    "The least xDR Session occured in cluster 0 and 1, they also has the least amount of session duration."
   ]
  },
  {
   "cell_type": "markdown",
   "id": "03d0db71",
   "metadata": {},
   "source": [
    "<h1>Maximuim for Each Cluster"
   ]
  },
  {
   "cell_type": "code",
   "execution_count": 142,
   "id": "7ec82598",
   "metadata": {},
   "outputs": [
    {
     "data": {
      "text/html": [
       "<div>\n",
       "<style scoped>\n",
       "    .dataframe tbody tr th:only-of-type {\n",
       "        vertical-align: middle;\n",
       "    }\n",
       "\n",
       "    .dataframe tbody tr th {\n",
       "        vertical-align: top;\n",
       "    }\n",
       "\n",
       "    .dataframe thead th {\n",
       "        text-align: right;\n",
       "    }\n",
       "</style>\n",
       "<table border=\"1\" class=\"dataframe\">\n",
       "  <thead>\n",
       "    <tr style=\"text-align: right;\">\n",
       "      <th></th>\n",
       "      <th>Total Download and Upload</th>\n",
       "      <th>xDR Session</th>\n",
       "      <th>session duration</th>\n",
       "    </tr>\n",
       "    <tr>\n",
       "      <th>Segment K-means</th>\n",
       "      <th></th>\n",
       "      <th></th>\n",
       "      <th></th>\n",
       "    </tr>\n",
       "  </thead>\n",
       "  <tbody>\n",
       "    <tr>\n",
       "      <th>0</th>\n",
       "      <td>458626976.0</td>\n",
       "      <td>17</td>\n",
       "      <td>18553754.0</td>\n",
       "    </tr>\n",
       "    <tr>\n",
       "      <th>1</th>\n",
       "      <td>875313739.0</td>\n",
       "      <td>17</td>\n",
       "      <td>18553754.0</td>\n",
       "    </tr>\n",
       "    <tr>\n",
       "      <th>2</th>\n",
       "      <td>873407674.0</td>\n",
       "      <td>1083</td>\n",
       "      <td>81238323.0</td>\n",
       "    </tr>\n",
       "  </tbody>\n",
       "</table>\n",
       "</div>"
      ],
      "text/plain": [
       "                 Total Download and Upload  xDR Session  session duration\n",
       "Segment K-means                                                          \n",
       "0                              458626976.0           17        18553754.0\n",
       "1                              875313739.0           17        18553754.0\n",
       "2                              873407674.0         1083        81238323.0"
      ]
     },
     "execution_count": 142,
     "metadata": {},
     "output_type": "execute_result"
    }
   ],
   "source": [
    "# Calculate max values for the clusters\n",
    "df_segm_analysis = df_segm_kmeans.groupby(['Segment K-means']).max()\n",
    "df_segm_analysis"
   ]
  },
  {
   "cell_type": "markdown",
   "id": "5e31db69",
   "metadata": {},
   "source": [
    "\n",
    "Cluster 0 has the highest number for Total Download and Upload but cluster 2 has the highest value for session duration and xDR session"
   ]
  },
  {
   "cell_type": "markdown",
   "id": "e2883005",
   "metadata": {},
   "source": [
    "Sum total for each cluster"
   ]
  },
  {
   "cell_type": "code",
   "execution_count": 143,
   "id": "fa34da7e",
   "metadata": {},
   "outputs": [
    {
     "data": {
      "text/html": [
       "<div>\n",
       "<style scoped>\n",
       "    .dataframe tbody tr th:only-of-type {\n",
       "        vertical-align: middle;\n",
       "    }\n",
       "\n",
       "    .dataframe tbody tr th {\n",
       "        vertical-align: top;\n",
       "    }\n",
       "\n",
       "    .dataframe thead th {\n",
       "        text-align: right;\n",
       "    }\n",
       "</style>\n",
       "<table border=\"1\" class=\"dataframe\">\n",
       "  <thead>\n",
       "    <tr style=\"text-align: right;\">\n",
       "      <th></th>\n",
       "      <th>Total Download and Upload</th>\n",
       "      <th>xDR Session</th>\n",
       "      <th>session duration</th>\n",
       "    </tr>\n",
       "    <tr>\n",
       "      <th>Segment K-means</th>\n",
       "      <th></th>\n",
       "      <th></th>\n",
       "      <th></th>\n",
       "    </tr>\n",
       "  </thead>\n",
       "  <tbody>\n",
       "    <tr>\n",
       "      <th>0</th>\n",
       "      <td>1.794928e+13</td>\n",
       "      <td>126175</td>\n",
       "      <td>1.446900e+10</td>\n",
       "    </tr>\n",
       "    <tr>\n",
       "      <th>1</th>\n",
       "      <td>5.288146e+13</td>\n",
       "      <td>150506</td>\n",
       "      <td>1.734773e+10</td>\n",
       "    </tr>\n",
       "    <tr>\n",
       "      <th>2</th>\n",
       "      <td>5.167961e+11</td>\n",
       "      <td>1172889</td>\n",
       "      <td>8.798110e+10</td>\n",
       "    </tr>\n",
       "  </tbody>\n",
       "</table>\n",
       "</div>"
      ],
      "text/plain": [
       "                 Total Download and Upload  xDR Session  session duration\n",
       "Segment K-means                                                          \n",
       "0                             1.794928e+13       126175      1.446900e+10\n",
       "1                             5.288146e+13       150506      1.734773e+10\n",
       "2                             5.167961e+11      1172889      8.798110e+10"
      ]
     },
     "execution_count": 143,
     "metadata": {},
     "output_type": "execute_result"
    }
   ],
   "source": [
    "# Calculate sum values for the clusters\n",
    "df_segm_analysis = df_segm_kmeans.groupby(['Segment K-means']).sum()\n",
    "df_segm_analysis"
   ]
  },
  {
   "cell_type": "code",
   "execution_count": 144,
   "id": "58c2102a",
   "metadata": {},
   "outputs": [],
   "source": [
    "# Compute the size and proportions of the three clusters\n",
    "df_segm_analysis['N Obs'] = df_segm_kmeans[['Segment K-means', 'xDR Session']].groupby(['Segment K-means']).count()\n",
    "df_segm_analysis['Prop Obs'] = df_segm_analysis['N Obs'] / df_segm_analysis['N Obs'].sum()"
   ]
  },
  {
   "cell_type": "code",
   "execution_count": 145,
   "id": "321f57fc",
   "metadata": {},
   "outputs": [
    {
     "data": {
      "text/html": [
       "<div>\n",
       "<style scoped>\n",
       "    .dataframe tbody tr th:only-of-type {\n",
       "        vertical-align: middle;\n",
       "    }\n",
       "\n",
       "    .dataframe tbody tr th {\n",
       "        vertical-align: top;\n",
       "    }\n",
       "\n",
       "    .dataframe thead th {\n",
       "        text-align: right;\n",
       "    }\n",
       "</style>\n",
       "<table border=\"1\" class=\"dataframe\">\n",
       "  <thead>\n",
       "    <tr style=\"text-align: right;\">\n",
       "      <th></th>\n",
       "      <th>Total Download and Upload</th>\n",
       "      <th>xDR Session</th>\n",
       "      <th>session duration</th>\n",
       "      <th>N Obs</th>\n",
       "      <th>Prop Obs</th>\n",
       "    </tr>\n",
       "    <tr>\n",
       "      <th>Segment K-means</th>\n",
       "      <th></th>\n",
       "      <th></th>\n",
       "      <th></th>\n",
       "      <th></th>\n",
       "      <th></th>\n",
       "    </tr>\n",
       "  </thead>\n",
       "  <tbody>\n",
       "    <tr>\n",
       "      <th>0</th>\n",
       "      <td>1.794928e+13</td>\n",
       "      <td>126175</td>\n",
       "      <td>1.446900e+10</td>\n",
       "      <td>67733</td>\n",
       "      <td>0.451553</td>\n",
       "    </tr>\n",
       "    <tr>\n",
       "      <th>1</th>\n",
       "      <td>5.288146e+13</td>\n",
       "      <td>150506</td>\n",
       "      <td>1.734773e+10</td>\n",
       "      <td>81184</td>\n",
       "      <td>0.541227</td>\n",
       "    </tr>\n",
       "    <tr>\n",
       "      <th>2</th>\n",
       "      <td>5.167961e+11</td>\n",
       "      <td>1172889</td>\n",
       "      <td>8.798110e+10</td>\n",
       "      <td>1083</td>\n",
       "      <td>0.007220</td>\n",
       "    </tr>\n",
       "  </tbody>\n",
       "</table>\n",
       "</div>"
      ],
      "text/plain": [
       "                 Total Download and Upload  xDR Session  session duration  \\\n",
       "Segment K-means                                                             \n",
       "0                             1.794928e+13       126175      1.446900e+10   \n",
       "1                             5.288146e+13       150506      1.734773e+10   \n",
       "2                             5.167961e+11      1172889      8.798110e+10   \n",
       "\n",
       "                 N Obs  Prop Obs  \n",
       "Segment K-means                   \n",
       "0                67733  0.451553  \n",
       "1                81184  0.541227  \n",
       "2                 1083  0.007220  "
      ]
     },
     "execution_count": 145,
     "metadata": {},
     "output_type": "execute_result"
    }
   ],
   "source": [
    "df_segm_analysis"
   ]
  },
  {
   "cell_type": "markdown",
   "id": "899103f6",
   "metadata": {},
   "source": [
    "Many of the customers are grouped or clustered in cluster 0 and 1"
   ]
  },
  {
   "cell_type": "code",
   "execution_count": 146,
   "id": "4c340982",
   "metadata": {},
   "outputs": [
    {
     "data": {
      "text/html": [
       "<div>\n",
       "<style scoped>\n",
       "    .dataframe tbody tr th:only-of-type {\n",
       "        vertical-align: middle;\n",
       "    }\n",
       "\n",
       "    .dataframe tbody tr th {\n",
       "        vertical-align: top;\n",
       "    }\n",
       "\n",
       "    .dataframe thead th {\n",
       "        text-align: right;\n",
       "    }\n",
       "</style>\n",
       "<table border=\"1\" class=\"dataframe\">\n",
       "  <thead>\n",
       "    <tr style=\"text-align: right;\">\n",
       "      <th></th>\n",
       "      <th>Total Download and Upload</th>\n",
       "      <th>xDR Session</th>\n",
       "      <th>session duration</th>\n",
       "      <th>N Obs</th>\n",
       "      <th>Prop Obs</th>\n",
       "    </tr>\n",
       "    <tr>\n",
       "      <th>Segment K-means</th>\n",
       "      <th></th>\n",
       "      <th></th>\n",
       "      <th></th>\n",
       "      <th></th>\n",
       "      <th></th>\n",
       "    </tr>\n",
       "  </thead>\n",
       "  <tbody>\n",
       "    <tr>\n",
       "      <th>well-off</th>\n",
       "      <td>1.794928e+13</td>\n",
       "      <td>126175</td>\n",
       "      <td>1.446900e+10</td>\n",
       "      <td>67733</td>\n",
       "      <td>0.451553</td>\n",
       "    </tr>\n",
       "    <tr>\n",
       "      <th>fewer-opportunities</th>\n",
       "      <td>5.288146e+13</td>\n",
       "      <td>150506</td>\n",
       "      <td>1.734773e+10</td>\n",
       "      <td>81184</td>\n",
       "      <td>0.541227</td>\n",
       "    </tr>\n",
       "    <tr>\n",
       "      <th>standard</th>\n",
       "      <td>5.167961e+11</td>\n",
       "      <td>1172889</td>\n",
       "      <td>8.798110e+10</td>\n",
       "      <td>1083</td>\n",
       "      <td>0.007220</td>\n",
       "    </tr>\n",
       "  </tbody>\n",
       "</table>\n",
       "</div>"
      ],
      "text/plain": [
       "                     Total Download and Upload  xDR Session  session duration  \\\n",
       "Segment K-means                                                                 \n",
       "well-off                          1.794928e+13       126175      1.446900e+10   \n",
       "fewer-opportunities               5.288146e+13       150506      1.734773e+10   \n",
       "standard                          5.167961e+11      1172889      8.798110e+10   \n",
       "\n",
       "                     N Obs  Prop Obs  \n",
       "Segment K-means                       \n",
       "well-off             67733  0.451553  \n",
       "fewer-opportunities  81184  0.541227  \n",
       "standard              1083  0.007220  "
      ]
     },
     "execution_count": 146,
     "metadata": {},
     "output_type": "execute_result"
    }
   ],
   "source": [
    "df_segm_analysis.rename({0:'well-off',\n",
    "                         1:'fewer-opportunities',\n",
    "                         2:'standard',\n",
    "                         })"
   ]
  },
  {
   "cell_type": "code",
   "execution_count": 147,
   "id": "4887eb5b",
   "metadata": {},
   "outputs": [
    {
     "data": {
      "image/png": "[encoded data removed]",
      "text/plain": [
       "<Figure size 432x288 with 1 Axes>"
      ]
     },
     "metadata": {},
     "output_type": "display_data"
    }
   ],
   "source": [
    "plt.pie(df_segm_analysis['N Obs'], labels=df_segm_analysis.index, colors=['g', 'c', 'm'])\n",
    "plt.title('Proportion of data distribution in clusters', size=20)\n",
    "plt.show()"
   ]
  },
  {
   "cell_type": "code",
   "execution_count": 148,
   "id": "869cbad6",
   "metadata": {},
   "outputs": [],
   "source": [
    "# Add the segment labels to our table\n",
    "df_segm_kmeans['Labels'] = df_segm_kmeans['Segment K-means'].map({0:'well-off', \n",
    "                                                                  1:'fewer opportunities',\n",
    "                                                                  2:'standard', \n",
    "                                                                  })"
   ]
  },
  {
   "cell_type": "code",
   "execution_count": 149,
   "id": "a72964f0",
   "metadata": {},
   "outputs": [
    {
     "data": {
      "image/png": "[encoded data removed]",
      "text/plain": [
       "<Figure size 936x576 with 1 Axes>"
      ]
     },
     "metadata": {},
     "output_type": "display_data"
    }
   ],
   "source": [
    "# We plot the results from the K-means algorithm. \n",
    "# Each point in our data set is plotted with the color of the clusters it has been assigned to.\n",
    "test = df_segm_kmeans.sample(40000)\n",
    "x_axis = test['Total Download and Upload']\n",
    "y_axis = test['session duration']\n",
    "plt.figure(figsize = (13, 8))\n",
    "sns.scatterplot(x_axis, y_axis, hue = test['Labels'], palette = ['g', 'r', 'c'])\n",
    "plt.title('Segmentation K-means')\n",
    "plt.show()"
   ]
  },
  {
   "cell_type": "markdown",
   "id": "08f5eced",
   "metadata": {},
   "source": [
    "We can say that Standard are rich customers who spends alot on data volume and uses applications for many diffrent purposes that result into high data download and upload. Much diffrence cant be ascertain from fewer opportunities and well-off, they both spend less compared to standard but well-off still spends more than the fewer opportunities\n",
    "\n",
    "Aggregate user total traffic per application and derive the top 10 most engaged users per application"
   ]
  },
  {
   "cell_type": "code",
   "execution_count": 150,
   "id": "4c6db3c2",
   "metadata": {},
   "outputs": [],
   "source": [
    "def get_avg_per_customer(df, grouping_col, agg_col, app_name):\n",
    "    session_per_customer = df.groupby(grouping_col)[agg_col].mean().reset_index(name=f'Average {app_name} Session per Customer').\\\n",
    "                    sort_values(by=f'Average {app_name} Session per Customer', ascending=False)\n",
    "    return session_per_customer"
   ]
  },
  {
   "cell_type": "markdown",
   "id": "436b21ad",
   "metadata": {},
   "source": [
    "Gaming Application"
   ]
  },
  {
   "cell_type": "code",
   "execution_count": 151,
   "id": "f997c76c",
   "metadata": {},
   "outputs": [
    {
     "data": {
      "text/html": [
       "<div>\n",
       "<style scoped>\n",
       "    .dataframe tbody tr th:only-of-type {\n",
       "        vertical-align: middle;\n",
       "    }\n",
       "\n",
       "    .dataframe tbody tr th {\n",
       "        vertical-align: top;\n",
       "    }\n",
       "\n",
       "    .dataframe thead th {\n",
       "        text-align: right;\n",
       "    }\n",
       "</style>\n",
       "<table border=\"1\" class=\"dataframe\">\n",
       "  <thead>\n",
       "    <tr style=\"text-align: right;\">\n",
       "      <th></th>\n",
       "      <th>MSISDN/Number</th>\n",
       "      <th>Average Gaming Session per Customer</th>\n",
       "    </tr>\n",
       "  </thead>\n",
       "  <tbody>\n",
       "    <tr>\n",
       "      <th>26537</th>\n",
       "      <td>3.365084e+10</td>\n",
       "      <td>859202784.0</td>\n",
       "    </tr>\n",
       "    <tr>\n",
       "      <th>102592</th>\n",
       "      <td>3.377040e+10</td>\n",
       "      <td>859010933.0</td>\n",
       "    </tr>\n",
       "    <tr>\n",
       "      <th>16346</th>\n",
       "      <td>3.363145e+10</td>\n",
       "      <td>858735183.0</td>\n",
       "    </tr>\n",
       "    <tr>\n",
       "      <th>25671</th>\n",
       "      <td>3.365064e+10</td>\n",
       "      <td>858652760.0</td>\n",
       "    </tr>\n",
       "    <tr>\n",
       "      <th>70186</th>\n",
       "      <td>3.366881e+10</td>\n",
       "      <td>858643269.0</td>\n",
       "    </tr>\n",
       "    <tr>\n",
       "      <th>10405</th>\n",
       "      <td>3.362127e+10</td>\n",
       "      <td>858562729.0</td>\n",
       "    </tr>\n",
       "    <tr>\n",
       "      <th>39790</th>\n",
       "      <td>3.366037e+10</td>\n",
       "      <td>858506410.0</td>\n",
       "    </tr>\n",
       "    <tr>\n",
       "      <th>37624</th>\n",
       "      <td>3.365986e+10</td>\n",
       "      <td>858201303.0</td>\n",
       "    </tr>\n",
       "    <tr>\n",
       "      <th>22549</th>\n",
       "      <td>3.364925e+10</td>\n",
       "      <td>858143650.0</td>\n",
       "    </tr>\n",
       "    <tr>\n",
       "      <th>103489</th>\n",
       "      <td>3.377864e+10</td>\n",
       "      <td>858023375.0</td>\n",
       "    </tr>\n",
       "  </tbody>\n",
       "</table>\n",
       "</div>"
      ],
      "text/plain": [
       "        MSISDN/Number  Average Gaming Session per Customer\n",
       "26537    3.365084e+10                          859202784.0\n",
       "102592   3.377040e+10                          859010933.0\n",
       "16346    3.363145e+10                          858735183.0\n",
       "25671    3.365064e+10                          858652760.0\n",
       "70186    3.366881e+10                          858643269.0\n",
       "10405    3.362127e+10                          858562729.0\n",
       "39790    3.366037e+10                          858506410.0\n",
       "37624    3.365986e+10                          858201303.0\n",
       "22549    3.364925e+10                          858143650.0\n",
       "103489   3.377864e+10                          858023375.0"
      ]
     },
     "execution_count": 151,
     "metadata": {},
     "output_type": "execute_result"
    }
   ],
   "source": [
    "game_session_per_customer = get_avg_per_customer(df, 'MSISDN/Number', 'Total Session Gaming', 'Gaming')\n",
    "game_session_per_customer[:10]"
   ]
  },
  {
   "cell_type": "markdown",
   "id": "746579ae",
   "metadata": {},
   "source": [
    "<h1>YouTube Application"
   ]
  },
  {
   "cell_type": "code",
   "execution_count": 152,
   "id": "892a8b8c",
   "metadata": {},
   "outputs": [
    {
     "data": {
      "text/html": [
       "<div>\n",
       "<style scoped>\n",
       "    .dataframe tbody tr th:only-of-type {\n",
       "        vertical-align: middle;\n",
       "    }\n",
       "\n",
       "    .dataframe tbody tr th {\n",
       "        vertical-align: top;\n",
       "    }\n",
       "\n",
       "    .dataframe thead th {\n",
       "        text-align: right;\n",
       "    }\n",
       "</style>\n",
       "<table border=\"1\" class=\"dataframe\">\n",
       "  <thead>\n",
       "    <tr style=\"text-align: right;\">\n",
       "      <th></th>\n",
       "      <th>MSISDN/Number</th>\n",
       "      <th>Average YouTube Session per Customer</th>\n",
       "    </tr>\n",
       "  </thead>\n",
       "  <tbody>\n",
       "    <tr>\n",
       "      <th>72415</th>\n",
       "      <td>3.366957e+10</td>\n",
       "      <td>45179008.0</td>\n",
       "    </tr>\n",
       "    <tr>\n",
       "      <th>51686</th>\n",
       "      <td>3.366319e+10</td>\n",
       "      <td>45162724.0</td>\n",
       "    </tr>\n",
       "    <tr>\n",
       "      <th>75618</th>\n",
       "      <td>3.367443e+10</td>\n",
       "      <td>45158398.0</td>\n",
       "    </tr>\n",
       "    <tr>\n",
       "      <th>65846</th>\n",
       "      <td>3.366740e+10</td>\n",
       "      <td>45108826.0</td>\n",
       "    </tr>\n",
       "    <tr>\n",
       "      <th>50727</th>\n",
       "      <td>3.366295e+10</td>\n",
       "      <td>45091533.0</td>\n",
       "    </tr>\n",
       "    <tr>\n",
       "      <th>49046</th>\n",
       "      <td>3.366255e+10</td>\n",
       "      <td>45049792.0</td>\n",
       "    </tr>\n",
       "    <tr>\n",
       "      <th>58132</th>\n",
       "      <td>3.366493e+10</td>\n",
       "      <td>45040169.0</td>\n",
       "    </tr>\n",
       "    <tr>\n",
       "      <th>54149</th>\n",
       "      <td>3.366383e+10</td>\n",
       "      <td>45026691.0</td>\n",
       "    </tr>\n",
       "    <tr>\n",
       "      <th>29142</th>\n",
       "      <td>3.365804e+10</td>\n",
       "      <td>45009742.0</td>\n",
       "    </tr>\n",
       "    <tr>\n",
       "      <th>99055</th>\n",
       "      <td>3.376310e+10</td>\n",
       "      <td>44950950.0</td>\n",
       "    </tr>\n",
       "  </tbody>\n",
       "</table>\n",
       "</div>"
      ],
      "text/plain": [
       "       MSISDN/Number  Average YouTube Session per Customer\n",
       "72415   3.366957e+10                            45179008.0\n",
       "51686   3.366319e+10                            45162724.0\n",
       "75618   3.367443e+10                            45158398.0\n",
       "65846   3.366740e+10                            45108826.0\n",
       "50727   3.366295e+10                            45091533.0\n",
       "49046   3.366255e+10                            45049792.0\n",
       "58132   3.366493e+10                            45040169.0\n",
       "54149   3.366383e+10                            45026691.0\n",
       "29142   3.365804e+10                            45009742.0\n",
       "99055   3.376310e+10                            44950950.0"
      ]
     },
     "execution_count": 152,
     "metadata": {},
     "output_type": "execute_result"
    }
   ],
   "source": [
    "youtube_session_per_customer = get_avg_per_customer(df, 'MSISDN/Number', 'Total Session Youtube', 'YouTube')\n",
    "youtube_session_per_customer[:10]\n"
   ]
  },
  {
   "cell_type": "markdown",
   "id": "cffaace2",
   "metadata": {},
   "source": [
    "<h1>Social Media"
   ]
  },
  {
   "cell_type": "code",
   "execution_count": 153,
   "id": "590327c4",
   "metadata": {},
   "outputs": [
    {
     "data": {
      "text/html": [
       "<div>\n",
       "<style scoped>\n",
       "    .dataframe tbody tr th:only-of-type {\n",
       "        vertical-align: middle;\n",
       "    }\n",
       "\n",
       "    .dataframe tbody tr th {\n",
       "        vertical-align: top;\n",
       "    }\n",
       "\n",
       "    .dataframe thead th {\n",
       "        text-align: right;\n",
       "    }\n",
       "</style>\n",
       "<table border=\"1\" class=\"dataframe\">\n",
       "  <thead>\n",
       "    <tr style=\"text-align: right;\">\n",
       "      <th></th>\n",
       "      <th>MSISDN/Number</th>\n",
       "      <th>Average Social Media Session per Customer</th>\n",
       "    </tr>\n",
       "  </thead>\n",
       "  <tbody>\n",
       "    <tr>\n",
       "      <th>45576</th>\n",
       "      <td>3.366178e+10</td>\n",
       "      <td>3650861.0</td>\n",
       "    </tr>\n",
       "    <tr>\n",
       "      <th>3374</th>\n",
       "      <td>3.361008e+10</td>\n",
       "      <td>3648659.0</td>\n",
       "    </tr>\n",
       "    <tr>\n",
       "      <th>49422</th>\n",
       "      <td>3.366264e+10</td>\n",
       "      <td>3648092.0</td>\n",
       "    </tr>\n",
       "    <tr>\n",
       "      <th>93795</th>\n",
       "      <td>3.376091e+10</td>\n",
       "      <td>3648027.0</td>\n",
       "    </tr>\n",
       "    <tr>\n",
       "      <th>20961</th>\n",
       "      <td>3.364551e+10</td>\n",
       "      <td>3647486.0</td>\n",
       "    </tr>\n",
       "    <tr>\n",
       "      <th>47180</th>\n",
       "      <td>3.366213e+10</td>\n",
       "      <td>3646924.0</td>\n",
       "    </tr>\n",
       "    <tr>\n",
       "      <th>87465</th>\n",
       "      <td>3.369910e+10</td>\n",
       "      <td>3646452.0</td>\n",
       "    </tr>\n",
       "    <tr>\n",
       "      <th>81071</th>\n",
       "      <td>3.368528e+10</td>\n",
       "      <td>3645862.0</td>\n",
       "    </tr>\n",
       "    <tr>\n",
       "      <th>39824</th>\n",
       "      <td>3.366038e+10</td>\n",
       "      <td>3645490.0</td>\n",
       "    </tr>\n",
       "    <tr>\n",
       "      <th>13376</th>\n",
       "      <td>3.362610e+10</td>\n",
       "      <td>3645272.0</td>\n",
       "    </tr>\n",
       "  </tbody>\n",
       "</table>\n",
       "</div>"
      ],
      "text/plain": [
       "       MSISDN/Number  Average Social Media Session per Customer\n",
       "45576   3.366178e+10                                  3650861.0\n",
       "3374    3.361008e+10                                  3648659.0\n",
       "49422   3.366264e+10                                  3648092.0\n",
       "93795   3.376091e+10                                  3648027.0\n",
       "20961   3.364551e+10                                  3647486.0\n",
       "47180   3.366213e+10                                  3646924.0\n",
       "87465   3.369910e+10                                  3646452.0\n",
       "81071   3.368528e+10                                  3645862.0\n",
       "39824   3.366038e+10                                  3645490.0\n",
       "13376   3.362610e+10                                  3645272.0"
      ]
     },
     "execution_count": 153,
     "metadata": {},
     "output_type": "execute_result"
    }
   ],
   "source": [
    "social_media_session_per_customer = get_avg_per_customer(df, 'MSISDN/Number', 'Total Session Social Media', 'Social Media')\n",
    "social_media_session_per_customer[:10]\n"
   ]
  },
  {
   "cell_type": "markdown",
   "id": "6808bdf7",
   "metadata": {},
   "source": [
    "<h1>Netflix Application"
   ]
  },
  {
   "cell_type": "code",
   "execution_count": 154,
   "id": "04de94ce",
   "metadata": {},
   "outputs": [
    {
     "data": {
      "text/html": [
       "<div>\n",
       "<style scoped>\n",
       "    .dataframe tbody tr th:only-of-type {\n",
       "        vertical-align: middle;\n",
       "    }\n",
       "\n",
       "    .dataframe tbody tr th {\n",
       "        vertical-align: top;\n",
       "    }\n",
       "\n",
       "    .dataframe thead th {\n",
       "        text-align: right;\n",
       "    }\n",
       "</style>\n",
       "<table border=\"1\" class=\"dataframe\">\n",
       "  <thead>\n",
       "    <tr style=\"text-align: right;\">\n",
       "      <th></th>\n",
       "      <th>MSISDN/Number</th>\n",
       "      <th>Average Netflix Session per Customer</th>\n",
       "    </tr>\n",
       "  </thead>\n",
       "  <tbody>\n",
       "    <tr>\n",
       "      <th>9082</th>\n",
       "      <td>3.361921e+10</td>\n",
       "      <td>45188499.0</td>\n",
       "    </tr>\n",
       "    <tr>\n",
       "      <th>51459</th>\n",
       "      <td>3.366314e+10</td>\n",
       "      <td>45054355.0</td>\n",
       "    </tr>\n",
       "    <tr>\n",
       "      <th>17668</th>\n",
       "      <td>3.363433e+10</td>\n",
       "      <td>45010959.0</td>\n",
       "    </tr>\n",
       "    <tr>\n",
       "      <th>82620</th>\n",
       "      <td>3.368845e+10</td>\n",
       "      <td>44983646.0</td>\n",
       "    </tr>\n",
       "    <tr>\n",
       "      <th>11379</th>\n",
       "      <td>3.362286e+10</td>\n",
       "      <td>44935983.0</td>\n",
       "    </tr>\n",
       "    <tr>\n",
       "      <th>59360</th>\n",
       "      <td>3.366527e+10</td>\n",
       "      <td>44930670.0</td>\n",
       "    </tr>\n",
       "    <tr>\n",
       "      <th>86101</th>\n",
       "      <td>3.369869e+10</td>\n",
       "      <td>44915543.0</td>\n",
       "    </tr>\n",
       "    <tr>\n",
       "      <th>104643</th>\n",
       "      <td>3.378231e+10</td>\n",
       "      <td>44881803.0</td>\n",
       "    </tr>\n",
       "    <tr>\n",
       "      <th>35174</th>\n",
       "      <td>3.365930e+10</td>\n",
       "      <td>44853893.0</td>\n",
       "    </tr>\n",
       "    <tr>\n",
       "      <th>51214</th>\n",
       "      <td>3.366308e+10</td>\n",
       "      <td>44843988.0</td>\n",
       "    </tr>\n",
       "  </tbody>\n",
       "</table>\n",
       "</div>"
      ],
      "text/plain": [
       "        MSISDN/Number  Average Netflix Session per Customer\n",
       "9082     3.361921e+10                            45188499.0\n",
       "51459    3.366314e+10                            45054355.0\n",
       "17668    3.363433e+10                            45010959.0\n",
       "82620    3.368845e+10                            44983646.0\n",
       "11379    3.362286e+10                            44935983.0\n",
       "59360    3.366527e+10                            44930670.0\n",
       "86101    3.369869e+10                            44915543.0\n",
       "104643   3.378231e+10                            44881803.0\n",
       "35174    3.365930e+10                            44853893.0\n",
       "51214    3.366308e+10                            44843988.0"
      ]
     },
     "execution_count": 154,
     "metadata": {},
     "output_type": "execute_result"
    }
   ],
   "source": [
    "netflix_session = get_avg_per_customer(df, 'MSISDN/Number', 'Total Session Netflix', 'Netflix')\n",
    "netflix_session[:10]"
   ]
  },
  {
   "cell_type": "markdown",
   "id": "1a292257",
   "metadata": {},
   "source": [
    "<h1>Google Application"
   ]
  },
  {
   "cell_type": "code",
   "execution_count": 155,
   "id": "688b55cd",
   "metadata": {},
   "outputs": [
    {
     "data": {
      "text/html": [
       "<div>\n",
       "<style scoped>\n",
       "    .dataframe tbody tr th:only-of-type {\n",
       "        vertical-align: middle;\n",
       "    }\n",
       "\n",
       "    .dataframe tbody tr th {\n",
       "        vertical-align: top;\n",
       "    }\n",
       "\n",
       "    .dataframe thead th {\n",
       "        text-align: right;\n",
       "    }\n",
       "</style>\n",
       "<table border=\"1\" class=\"dataframe\">\n",
       "  <thead>\n",
       "    <tr style=\"text-align: right;\">\n",
       "      <th></th>\n",
       "      <th>MSISDN/Number</th>\n",
       "      <th>Average Google Session per Customer</th>\n",
       "    </tr>\n",
       "  </thead>\n",
       "  <tbody>\n",
       "    <tr>\n",
       "      <th>16745</th>\n",
       "      <td>3.363243e+10</td>\n",
       "      <td>15528782.0</td>\n",
       "    </tr>\n",
       "    <tr>\n",
       "      <th>57765</th>\n",
       "      <td>3.366485e+10</td>\n",
       "      <td>15517324.0</td>\n",
       "    </tr>\n",
       "    <tr>\n",
       "      <th>42152</th>\n",
       "      <td>3.366092e+10</td>\n",
       "      <td>15508567.0</td>\n",
       "    </tr>\n",
       "    <tr>\n",
       "      <th>57034</th>\n",
       "      <td>3.366466e+10</td>\n",
       "      <td>15506449.0</td>\n",
       "    </tr>\n",
       "    <tr>\n",
       "      <th>65620</th>\n",
       "      <td>3.366733e+10</td>\n",
       "      <td>15506141.0</td>\n",
       "    </tr>\n",
       "    <tr>\n",
       "      <th>66934</th>\n",
       "      <td>3.366775e+10</td>\n",
       "      <td>15493921.0</td>\n",
       "    </tr>\n",
       "    <tr>\n",
       "      <th>102820</th>\n",
       "      <td>3.377121e+10</td>\n",
       "      <td>15483654.0</td>\n",
       "    </tr>\n",
       "    <tr>\n",
       "      <th>57760</th>\n",
       "      <td>3.366485e+10</td>\n",
       "      <td>15481311.0</td>\n",
       "    </tr>\n",
       "    <tr>\n",
       "      <th>20461</th>\n",
       "      <td>3.364367e+10</td>\n",
       "      <td>15479714.0</td>\n",
       "    </tr>\n",
       "    <tr>\n",
       "      <th>93011</th>\n",
       "      <td>3.376057e+10</td>\n",
       "      <td>15475894.0</td>\n",
       "    </tr>\n",
       "  </tbody>\n",
       "</table>\n",
       "</div>"
      ],
      "text/plain": [
       "        MSISDN/Number  Average Google Session per Customer\n",
       "16745    3.363243e+10                           15528782.0\n",
       "57765    3.366485e+10                           15517324.0\n",
       "42152    3.366092e+10                           15508567.0\n",
       "57034    3.366466e+10                           15506449.0\n",
       "65620    3.366733e+10                           15506141.0\n",
       "66934    3.366775e+10                           15493921.0\n",
       "102820   3.377121e+10                           15483654.0\n",
       "57760    3.366485e+10                           15481311.0\n",
       "20461    3.364367e+10                           15479714.0\n",
       "93011    3.376057e+10                           15475894.0"
      ]
     },
     "execution_count": 155,
     "metadata": {},
     "output_type": "execute_result"
    }
   ],
   "source": [
    "google_session = get_avg_per_customer(df, 'MSISDN/Number', 'Total Session Google', 'Google')\n",
    "google_session[:10]"
   ]
  },
  {
   "cell_type": "markdown",
   "id": "f72249c6",
   "metadata": {},
   "source": [
    "<h1>Email Application"
   ]
  },
  {
   "cell_type": "code",
   "execution_count": 156,
   "id": "68543634",
   "metadata": {},
   "outputs": [
    {
     "data": {
      "text/html": [
       "<div>\n",
       "<style scoped>\n",
       "    .dataframe tbody tr th:only-of-type {\n",
       "        vertical-align: middle;\n",
       "    }\n",
       "\n",
       "    .dataframe tbody tr th {\n",
       "        vertical-align: top;\n",
       "    }\n",
       "\n",
       "    .dataframe thead th {\n",
       "        text-align: right;\n",
       "    }\n",
       "</style>\n",
       "<table border=\"1\" class=\"dataframe\">\n",
       "  <thead>\n",
       "    <tr style=\"text-align: right;\">\n",
       "      <th></th>\n",
       "      <th>MSISDN/Number</th>\n",
       "      <th>Average Email Session per Customer</th>\n",
       "    </tr>\n",
       "  </thead>\n",
       "  <tbody>\n",
       "    <tr>\n",
       "      <th>14637</th>\n",
       "      <td>3.362815e+10</td>\n",
       "      <td>4518036.0</td>\n",
       "    </tr>\n",
       "    <tr>\n",
       "      <th>21589</th>\n",
       "      <td>3.364672e+10</td>\n",
       "      <td>4513000.0</td>\n",
       "    </tr>\n",
       "    <tr>\n",
       "      <th>76609</th>\n",
       "      <td>3.367639e+10</td>\n",
       "      <td>4512730.0</td>\n",
       "    </tr>\n",
       "    <tr>\n",
       "      <th>70100</th>\n",
       "      <td>3.366878e+10</td>\n",
       "      <td>4510178.0</td>\n",
       "    </tr>\n",
       "    <tr>\n",
       "      <th>76505</th>\n",
       "      <td>3.367616e+10</td>\n",
       "      <td>4504056.0</td>\n",
       "    </tr>\n",
       "    <tr>\n",
       "      <th>26919</th>\n",
       "      <td>3.365092e+10</td>\n",
       "      <td>4504008.0</td>\n",
       "    </tr>\n",
       "    <tr>\n",
       "      <th>76039</th>\n",
       "      <td>3.367522e+10</td>\n",
       "      <td>4501977.0</td>\n",
       "    </tr>\n",
       "    <tr>\n",
       "      <th>11104</th>\n",
       "      <td>3.362242e+10</td>\n",
       "      <td>4500915.0</td>\n",
       "    </tr>\n",
       "    <tr>\n",
       "      <th>97763</th>\n",
       "      <td>3.376246e+10</td>\n",
       "      <td>4500871.0</td>\n",
       "    </tr>\n",
       "    <tr>\n",
       "      <th>34129</th>\n",
       "      <td>3.365908e+10</td>\n",
       "      <td>4497961.0</td>\n",
       "    </tr>\n",
       "  </tbody>\n",
       "</table>\n",
       "</div>"
      ],
      "text/plain": [
       "       MSISDN/Number  Average Email Session per Customer\n",
       "14637   3.362815e+10                           4518036.0\n",
       "21589   3.364672e+10                           4513000.0\n",
       "76609   3.367639e+10                           4512730.0\n",
       "70100   3.366878e+10                           4510178.0\n",
       "76505   3.367616e+10                           4504056.0\n",
       "26919   3.365092e+10                           4504008.0\n",
       "76039   3.367522e+10                           4501977.0\n",
       "11104   3.362242e+10                           4500915.0\n",
       "97763   3.376246e+10                           4500871.0\n",
       "34129   3.365908e+10                           4497961.0"
      ]
     },
     "execution_count": 156,
     "metadata": {},
     "output_type": "execute_result"
    }
   ],
   "source": [
    "email_session = get_avg_per_customer(df, 'MSISDN/Number', 'Total Session Email', 'Email')\n",
    "email_session[:10]"
   ]
  },
  {
   "cell_type": "markdown",
   "id": "3bf0d0e7",
   "metadata": {},
   "source": [
    "<h1>Other Application"
   ]
  },
  {
   "cell_type": "code",
   "execution_count": 157,
   "id": "9bcf63ce",
   "metadata": {},
   "outputs": [
    {
     "data": {
      "text/html": [
       "<div>\n",
       "<style scoped>\n",
       "    .dataframe tbody tr th:only-of-type {\n",
       "        vertical-align: middle;\n",
       "    }\n",
       "\n",
       "    .dataframe tbody tr th {\n",
       "        vertical-align: top;\n",
       "    }\n",
       "\n",
       "    .dataframe thead th {\n",
       "        text-align: right;\n",
       "    }\n",
       "</style>\n",
       "<table border=\"1\" class=\"dataframe\">\n",
       "  <thead>\n",
       "    <tr style=\"text-align: right;\">\n",
       "      <th></th>\n",
       "      <th>MSISDN/Number</th>\n",
       "      <th>Average Other Session per Customer</th>\n",
       "    </tr>\n",
       "  </thead>\n",
       "  <tbody>\n",
       "    <tr>\n",
       "      <th>13210</th>\n",
       "      <td>3.362583e+10</td>\n",
       "      <td>859520934.0</td>\n",
       "    </tr>\n",
       "    <tr>\n",
       "      <th>10491</th>\n",
       "      <td>3.362142e+10</td>\n",
       "      <td>859285331.0</td>\n",
       "    </tr>\n",
       "    <tr>\n",
       "      <th>48681</th>\n",
       "      <td>3.366247e+10</td>\n",
       "      <td>859053653.0</td>\n",
       "    </tr>\n",
       "    <tr>\n",
       "      <th>106510</th>\n",
       "      <td>3.378784e+10</td>\n",
       "      <td>858926613.0</td>\n",
       "    </tr>\n",
       "    <tr>\n",
       "      <th>53473</th>\n",
       "      <td>3.366366e+10</td>\n",
       "      <td>858787718.0</td>\n",
       "    </tr>\n",
       "    <tr>\n",
       "      <th>36291</th>\n",
       "      <td>3.365955e+10</td>\n",
       "      <td>858555595.0</td>\n",
       "    </tr>\n",
       "    <tr>\n",
       "      <th>47198</th>\n",
       "      <td>3.366213e+10</td>\n",
       "      <td>858495391.0</td>\n",
       "    </tr>\n",
       "    <tr>\n",
       "      <th>102309</th>\n",
       "      <td>3.376981e+10</td>\n",
       "      <td>858469987.0</td>\n",
       "    </tr>\n",
       "    <tr>\n",
       "      <th>68414</th>\n",
       "      <td>3.366822e+10</td>\n",
       "      <td>858467471.0</td>\n",
       "    </tr>\n",
       "    <tr>\n",
       "      <th>78515</th>\n",
       "      <td>3.368022e+10</td>\n",
       "      <td>858427905.0</td>\n",
       "    </tr>\n",
       "  </tbody>\n",
       "</table>\n",
       "</div>"
      ],
      "text/plain": [
       "        MSISDN/Number  Average Other Session per Customer\n",
       "13210    3.362583e+10                         859520934.0\n",
       "10491    3.362142e+10                         859285331.0\n",
       "48681    3.366247e+10                         859053653.0\n",
       "106510   3.378784e+10                         858926613.0\n",
       "53473    3.366366e+10                         858787718.0\n",
       "36291    3.365955e+10                         858555595.0\n",
       "47198    3.366213e+10                         858495391.0\n",
       "102309   3.376981e+10                         858469987.0\n",
       "68414    3.366822e+10                         858467471.0\n",
       "78515    3.368022e+10                         858427905.0"
      ]
     },
     "execution_count": 157,
     "metadata": {},
     "output_type": "execute_result"
    }
   ],
   "source": [
    "other_session = get_avg_per_customer(df, 'MSISDN/Number', 'Total Session Other', 'Other')\n",
    "other_session[:10]"
   ]
  },
  {
   "cell_type": "markdown",
   "id": "3f27ead3",
   "metadata": {},
   "source": [
    "Plot the top 3 most used applications."
   ]
  },
  {
   "cell_type": "code",
   "execution_count": 158,
   "id": "808613b0",
   "metadata": {},
   "outputs": [],
   "source": [
    "sum_total_gaming = df['Total Session Gaming'].sum()\n",
    "sum_total_email = df['Total Session Email'].sum()\n",
    "sum_total_social_media = df['Total Session Social Media'].sum()\n",
    "sum_total_other = df['Total Session Other'].sum()\n",
    "sum_total_youtube = df['Total Session Youtube'].sum()\n",
    "sum_total_netflix = df['Total Session Netflix'].sum()\n",
    "sum_total_google = df['Total Session Google'].sum()\n",
    "\n",
    "apps = ['Gaming', 'Email', 'Social Media', 'Other', 'YouTube', 'Netflix', 'Google']\n",
    "sum_total = [sum_total_gaming, sum_total_email, sum_total_social_media, sum_total_other, sum_total_youtube,\n",
    "            sum_total_netflix, sum_total_google]"
   ]
  },
  {
   "cell_type": "code",
   "execution_count": 159,
   "id": "025f63e9",
   "metadata": {},
   "outputs": [
    {
     "data": {
      "text/html": [
       "<div class=\"bk-root\">\n",
       "        <a href=\"https://bokeh.org\" target=\"_blank\" class=\"bk-logo bk-logo-small bk-logo-notebook\"></a>\n",
       "        <span id=\"1101\">Loading BokehJS ...</span>\n",
       "    </div>\n"
      ]
     },
     "metadata": {},
     "output_type": "display_data"
    },
    {
     "data": {
      "application/javascript": [
       "(function(root) {\n",
       "  function now() {\n",
       "    return new Date();\n",
       "  }\n",
       "\n",
       "  const force = true;\n",
       "\n",
       "  if (typeof root._bokeh_onload_callbacks === \"undefined\" || force === true) {\n",
       "    root._bokeh_onload_callbacks = [];\n",
       "    root._bokeh_is_loading = undefined;\n",
       "  }\n",
       "\n",
       "const JS_MIME_TYPE = 'application/javascript';\n",
       "  const HTML_MIME_TYPE = 'text/html';\n",
       "  const EXEC_MIME_TYPE = 'application/vnd.bokehjs_exec.v0+json';\n",
       "  const CLASS_NAME = 'output_bokeh rendered_html';\n",
       "\n",
       "  /**\n",
       "   * Render data to the DOM node\n",
       "   */\n",
       "  function render(props, node) {\n",
       "    const script = document.createElement(\"script\");\n",
       "    node.appendChild(script);\n",
       "  }\n",
       "\n",
       "  /**\n",
       "   * Handle when an output is cleared or removed\n",
       "   */\n",
       "  function handleClearOutput(event, handle) {\n",
       "    const cell = handle.cell;\n",
       "\n",
       "    const id = cell.output_area._bokeh_element_id;\n",
       "    const server_id = cell.output_area._bokeh_server_id;\n",
       "    // Clean up Bokeh references\n",
       "    if (id != null && id in Bokeh.index) {\n",
       "      Bokeh.index[id].model.document.clear();\n",
       "      delete Bokeh.index[id];\n",
       "    }\n",
       "\n",
       "    if (server_id !== undefined) {\n",
       "      // Clean up Bokeh references\n",
       "      const cmd_clean = \"from bokeh.io.state import curstate; print(curstate().uuid_to_server['\" + server_id + \"'].get_sessions()[0].document.roots[0]._id)\";\n",
       "      cell.notebook.kernel.execute(cmd_clean, {\n",
       "        iopub: {\n",
       "          output: function(msg) {\n",
       "            const id = msg.content.text.trim();\n",
       "            if (id in Bokeh.index) {\n",
       "              Bokeh.index[id].model.document.clear();\n",
       "              delete Bokeh.index[id];\n",
       "            }\n",
       "          }\n",
       "        }\n",
       "      });\n",
       "      // Destroy server and session\n",
       "      const cmd_destroy = \"import bokeh.io.notebook as ion; ion.destroy_server('\" + server_id + \"')\";\n",
       "      cell.notebook.kernel.execute(cmd_destroy);\n",
       "    }\n",
       "  }\n",
       "\n",
       "  /**\n",
       "   * Handle when a new output is added\n",
       "   */\n",
       "  function handleAddOutput(event, handle) {\n",
       "    const output_area = handle.output_area;\n",
       "    const output = handle.output;\n",
       "\n",
       "    // limit handleAddOutput to display_data with EXEC_MIME_TYPE content only\n",
       "    if ((output.output_type != \"display_data\") || (!Object.prototype.hasOwnProperty.call(output.data, EXEC_MIME_TYPE))) {\n",
       "      return\n",
       "    }\n",
       "\n",
       "    const toinsert = output_area.element.find(\".\" + CLASS_NAME.split(' ')[0]);\n",
       "\n",
       "    if (output.metadata[EXEC_MIME_TYPE][\"id\"] !== undefined) {\n",
       "      toinsert[toinsert.length - 1].firstChild.textContent = output.data[JS_MIME_TYPE];\n",
       "      // store reference to embed id on output_area\n",
       "      output_area._bokeh_element_id = output.metadata[EXEC_MIME_TYPE][\"id\"];\n",
       "    }\n",
       "    if (output.metadata[EXEC_MIME_TYPE][\"server_id\"] !== undefined) {\n",
       "      const bk_div = document.createElement(\"div\");\n",
       "      bk_div.innerHTML = output.data[HTML_MIME_TYPE];\n",
       "      const script_attrs = bk_div.children[0].attributes;\n",
       "      for (let i = 0; i < script_attrs.length; i++) {\n",
       "        toinsert[toinsert.length - 1].firstChild.setAttribute(script_attrs[i].name, script_attrs[i].value);\n",
       "        toinsert[toinsert.length - 1].firstChild.textContent = bk_div.children[0].textContent\n",
       "      }\n",
       "      // store reference to server id on output_area\n",
       "      output_area._bokeh_server_id = output.metadata[EXEC_MIME_TYPE][\"server_id\"];\n",
       "    }\n",
       "  }\n",
       "\n",
       "  function register_renderer(events, OutputArea) {\n",
       "\n",
       "    function append_mime(data, metadata, element) {\n",
       "      // create a DOM node to render to\n",
       "      const toinsert = this.create_output_subarea(\n",
       "        metadata,\n",
       "        CLASS_NAME,\n",
       "        EXEC_MIME_TYPE\n",
       "      );\n",
       "      this.keyboard_manager.register_events(toinsert);\n",
       "      // Render to node\n",
       "      const props = {data: data, metadata: metadata[EXEC_MIME_TYPE]};\n",
       "      render(props, toinsert[toinsert.length - 1]);\n",
       "      element.append(toinsert);\n",
       "      return toinsert\n",
       "    }\n",
       "\n",
       "    /* Handle when an output is cleared or removed */\n",
       "    events.on('clear_output.CodeCell', handleClearOutput);\n",
       "    events.on('delete.Cell', handleClearOutput);\n",
       "\n",
       "    /* Handle when a new output is added */\n",
       "    events.on('output_added.OutputArea', handleAddOutput);\n",
       "\n",
       "    /**\n",
       "     * Register the mime type and append_mime function with output_area\n",
       "     */\n",
       "    OutputArea.prototype.register_mime_type(EXEC_MIME_TYPE, append_mime, {\n",
       "      /* Is output safe? */\n",
       "      safe: true,\n",
       "      /* Index of renderer in `output_area.display_order` */\n",
       "      index: 0\n",
       "    });\n",
       "  }\n",
       "\n",
       "  // register the mime type if in Jupyter Notebook environment and previously unregistered\n",
       "  if (root.Jupyter !== undefined) {\n",
       "    const events = require('base/js/events');\n",
       "    const OutputArea = require('notebook/js/outputarea').OutputArea;\n",
       "\n",
       "    if (OutputArea.prototype.mime_types().indexOf(EXEC_MIME_TYPE) == -1) {\n",
       "      register_renderer(events, OutputArea);\n",
       "    }\n",
       "  }\n",
       "  if (typeof (root._bokeh_timeout) === \"undefined\" || force === true) {\n",
       "    root._bokeh_timeout = Date.now() + 5000;\n",
       "    root._bokeh_failed_load = false;\n",
       "  }\n",
       "\n",
       "  const NB_LOAD_WARNING = {'data': {'text/html':\n",
       "     \"<div style='background-color: #fdd'>\\n\"+\n",
       "     \"<p>\\n\"+\n",
       "     \"BokehJS does not appear to have successfully loaded. If loading BokehJS from CDN, this \\n\"+\n",
       "     \"may be due to a slow or bad network connection. Possible fixes:\\n\"+\n",
       "     \"</p>\\n\"+\n",
       "     \"<ul>\\n\"+\n",
       "     \"<li>re-rerun `output_notebook()` to attempt to load from CDN again, or</li>\\n\"+\n",
       "     \"<li>use INLINE resources instead, as so:</li>\\n\"+\n",
       "     \"</ul>\\n\"+\n",
       "     \"<code>\\n\"+\n",
       "     \"from bokeh.resources import INLINE\\n\"+\n",
       "     \"output_notebook(resources=INLINE)\\n\"+\n",
       "     \"</code>\\n\"+\n",
       "     \"</div>\"}};\n",
       "\n",
       "  function display_loaded() {\n",
       "    const el = document.getElementById(\"1101\");\n",
       "    if (el != null) {\n",
       "      el.textContent = \"BokehJS is loading...\";\n",
       "    }\n",
       "    if (root.Bokeh !== undefined) {\n",
       "      if (el != null) {\n",
       "        el.textContent = \"BokehJS \" + root.Bokeh.version + \" successfully loaded.\";\n",
       "      }\n",
       "    } else if (Date.now() < root._bokeh_timeout) {\n",
       "      setTimeout(display_loaded, 100)\n",
       "    }\n",
       "  }\n",
       "\n",
       "  function run_callbacks() {\n",
       "    try {\n",
       "      root._bokeh_onload_callbacks.forEach(function(callback) {\n",
       "        if (callback != null)\n",
       "          callback();\n",
       "      });\n",
       "    } finally {\n",
       "      delete root._bokeh_onload_callbacks\n",
       "    }\n",
       "    console.debug(\"Bokeh: all callbacks have finished\");\n",
       "  }\n",
       "\n",
       "  function load_libs(css_urls, js_urls, callback) {\n",
       "    if (css_urls == null) css_urls = [];\n",
       "    if (js_urls == null) js_urls = [];\n",
       "\n",
       "    root._bokeh_onload_callbacks.push(callback);\n",
       "    if (root._bokeh_is_loading > 0) {\n",
       "      console.debug(\"Bokeh: BokehJS is being loaded, scheduling callback at\", now());\n",
       "      return null;\n",
       "    }\n",
       "    if (js_urls == null || js_urls.length === 0) {\n",
       "      run_callbacks();\n",
       "      return null;\n",
       "    }\n",
       "    console.debug(\"Bokeh: BokehJS not loaded, scheduling load and callback at\", now());\n",
       "    root._bokeh_is_loading = css_urls.length + js_urls.length;\n",
       "\n",
       "    function on_load() {\n",
       "      root._bokeh_is_loading--;\n",
       "      if (root._bokeh_is_loading === 0) {\n",
       "        console.debug(\"Bokeh: all BokehJS libraries/stylesheets loaded\");\n",
       "        run_callbacks()\n",
       "      }\n",
       "    }\n",
       "\n",
       "    function on_error(url) {\n",
       "      console.error(\"failed to load \" + url);\n",
       "    }\n",
       "\n",
       "    for (let i = 0; i < css_urls.length; i++) {\n",
       "      const url = css_urls[i];\n",
       "      const element = document.createElement(\"link\");\n",
       "      element.onload = on_load;\n",
       "      element.onerror = on_error.bind(null, url);\n",
       "      element.rel = \"stylesheet\";\n",
       "      element.type = \"text/css\";\n",
       "      element.href = url;\n",
       "      console.debug(\"Bokeh: injecting link tag for BokehJS stylesheet: \", url);\n",
       "      document.body.appendChild(element);\n",
       "    }\n",
       "\n",
       "    for (let i = 0; i < js_urls.length; i++) {\n",
       "      const url = js_urls[i];\n",
       "      const element = document.createElement('script');\n",
       "      element.onload = on_load;\n",
       "      element.onerror = on_error.bind(null, url);\n",
       "      element.async = false;\n",
       "      element.src = url;\n",
       "      console.debug(\"Bokeh: injecting script tag for BokehJS library: \", url);\n",
       "      document.head.appendChild(element);\n",
       "    }\n",
       "  };\n",
       "\n",
       "  function inject_raw_css(css) {\n",
       "    const element = document.createElement(\"style\");\n",
       "    element.appendChild(document.createTextNode(css));\n",
       "    document.body.appendChild(element);\n",
       "  }\n",
       "\n",
       "  const js_urls = [\"https://cdn.bokeh.org/bokeh/release/bokeh-2.4.3.min.js\", \"https://cdn.bokeh.org/bokeh/release/bokeh-gl-2.4.3.min.js\", \"https://cdn.bokeh.org/bokeh/release/bokeh-widgets-2.4.3.min.js\", \"https://cdn.bokeh.org/bokeh/release/bokeh-tables-2.4.3.min.js\", \"https://cdn.bokeh.org/bokeh/release/bokeh-mathjax-2.4.3.min.js\"];\n",
       "  const css_urls = [];\n",
       "\n",
       "  const inline_js = [    function(Bokeh) {\n",
       "      Bokeh.set_log_level(\"info\");\n",
       "    },\n",
       "function(Bokeh) {\n",
       "    }\n",
       "  ];\n",
       "\n",
       "  function run_inline_js() {\n",
       "    if (root.Bokeh !== undefined || force === true) {\n",
       "          for (let i = 0; i < inline_js.length; i++) {\n",
       "      inline_js[i].call(root, root.Bokeh);\n",
       "    }\n",
       "if (force === true) {\n",
       "        display_loaded();\n",
       "      }} else if (Date.now() < root._bokeh_timeout) {\n",
       "      setTimeout(run_inline_js, 100);\n",
       "    } else if (!root._bokeh_failed_load) {\n",
       "      console.log(\"Bokeh: BokehJS failed to load within specified timeout.\");\n",
       "      root._bokeh_failed_load = true;\n",
       "    } else if (force !== true) {\n",
       "      const cell = $(document.getElementById(\"1101\")).parents('.cell').data().cell;\n",
       "      cell.output_area.append_execute_result(NB_LOAD_WARNING)\n",
       "    }\n",
       "  }\n",
       "\n",
       "  if (root._bokeh_is_loading === 0) {\n",
       "    console.debug(\"Bokeh: BokehJS loaded, going straight to plotting\");\n",
       "    run_inline_js();\n",
       "  } else {\n",
       "    load_libs(css_urls, js_urls, function() {\n",
       "      console.debug(\"Bokeh: BokehJS plotting callback run at\", now());\n",
       "      run_inline_js();\n",
       "    });\n",
       "  }\n",
       "}(window));"
      ],
      "application/vnd.bokehjs_load.v0+json": "(function(root) {\n  function now() {\n    return new Date();\n  }\n\n  const force = true;\n\n  if (typeof root._bokeh_onload_callbacks === \"undefined\" || force === true) {\n    root._bokeh_onload_callbacks = [];\n    root._bokeh_is_loading = undefined;\n  }\n\n\n  if (typeof (root._bokeh_timeout) === \"undefined\" || force === true) {\n    root._bokeh_timeout = Date.now() + 5000;\n    root._bokeh_failed_load = false;\n  }\n\n  const NB_LOAD_WARNING = {'data': {'text/html':\n     \"<div style='background-color: #fdd'>\\n\"+\n     \"<p>\\n\"+\n     \"BokehJS does not appear to have successfully loaded. If loading BokehJS from CDN, this \\n\"+\n     \"may be due to a slow or bad network connection. Possible fixes:\\n\"+\n     \"</p>\\n\"+\n     \"<ul>\\n\"+\n     \"<li>re-rerun `output_notebook()` to attempt to load from CDN again, or</li>\\n\"+\n     \"<li>use INLINE resources instead, as so:</li>\\n\"+\n     \"</ul>\\n\"+\n     \"<code>\\n\"+\n     \"from bokeh.resources import INLINE\\n\"+\n     \"output_notebook(resources=INLINE)\\n\"+\n     \"</code>\\n\"+\n     \"</div>\"}};\n\n  function display_loaded() {\n    const el = document.getElementById(\"1101\");\n    if (el != null) {\n      el.textContent = \"BokehJS is loading...\";\n    }\n    if (root.Bokeh !== undefined) {\n      if (el != null) {\n        el.textContent = \"BokehJS \" + root.Bokeh.version + \" successfully loaded.\";\n      }\n    } else if (Date.now() < root._bokeh_timeout) {\n      setTimeout(display_loaded, 100)\n    }\n  }\n\n  function run_callbacks() {\n    try {\n      root._bokeh_onload_callbacks.forEach(function(callback) {\n        if (callback != null)\n          callback();\n      });\n    } finally {\n      delete root._bokeh_onload_callbacks\n    }\n    console.debug(\"Bokeh: all callbacks have finished\");\n  }\n\n  function load_libs(css_urls, js_urls, callback) {\n    if (css_urls == null) css_urls = [];\n    if (js_urls == null) js_urls = [];\n\n    root._bokeh_onload_callbacks.push(callback);\n    if (root._bokeh_is_loading > 0) {\n      console.debug(\"Bokeh: BokehJS is being loaded, scheduling callback at\", now());\n      return null;\n    }\n    if (js_urls == null || js_urls.length === 0) {\n      run_callbacks();\n      return null;\n    }\n    console.debug(\"Bokeh: BokehJS not loaded, scheduling load and callback at\", now());\n    root._bokeh_is_loading = css_urls.length + js_urls.length;\n\n    function on_load() {\n      root._bokeh_is_loading--;\n      if (root._bokeh_is_loading === 0) {\n        console.debug(\"Bokeh: all BokehJS libraries/stylesheets loaded\");\n        run_callbacks()\n      }\n    }\n\n    function on_error(url) {\n      console.error(\"failed to load \" + url);\n    }\n\n    for (let i = 0; i < css_urls.length; i++) {\n      const url = css_urls[i];\n      const element = document.createElement(\"link\");\n      element.onload = on_load;\n      element.onerror = on_error.bind(null, url);\n      element.rel = \"stylesheet\";\n      element.type = \"text/css\";\n      element.href = url;\n      console.debug(\"Bokeh: injecting link tag for BokehJS stylesheet: \", url);\n      document.body.appendChild(element);\n    }\n\n    for (let i = 0; i < js_urls.length; i++) {\n      const url = js_urls[i];\n      const element = document.createElement('script');\n      element.onload = on_load;\n      element.onerror = on_error.bind(null, url);\n      element.async = false;\n      element.src = url;\n      console.debug(\"Bokeh: injecting script tag for BokehJS library: \", url);\n      document.head.appendChild(element);\n    }\n  };\n\n  function inject_raw_css(css) {\n    const element = document.createElement(\"style\");\n    element.appendChild(document.createTextNode(css));\n    document.body.appendChild(element);\n  }\n\n  const js_urls = [\"https://cdn.bokeh.org/bokeh/release/bokeh-2.4.3.min.js\", \"https://cdn.bokeh.org/bokeh/release/bokeh-gl-2.4.3.min.js\", \"https://cdn.bokeh.org/bokeh/release/bokeh-widgets-2.4.3.min.js\", \"https://cdn.bokeh.org/bokeh/release/bokeh-tables-2.4.3.min.js\", \"https://cdn.bokeh.org/bokeh/release/bokeh-mathjax-2.4.3.min.js\"];\n  const css_urls = [];\n\n  const inline_js = [    function(Bokeh) {\n      Bokeh.set_log_level(\"info\");\n    },\nfunction(Bokeh) {\n    }\n  ];\n\n  function run_inline_js() {\n    if (root.Bokeh !== undefined || force === true) {\n          for (let i = 0; i < inline_js.length; i++) {\n      inline_js[i].call(root, root.Bokeh);\n    }\nif (force === true) {\n        display_loaded();\n      }} else if (Date.now() < root._bokeh_timeout) {\n      setTimeout(run_inline_js, 100);\n    } else if (!root._bokeh_failed_load) {\n      console.log(\"Bokeh: BokehJS failed to load within specified timeout.\");\n      root._bokeh_failed_load = true;\n    } else if (force !== true) {\n      const cell = $(document.getElementById(\"1101\")).parents('.cell').data().cell;\n      cell.output_area.append_execute_result(NB_LOAD_WARNING)\n    }\n  }\n\n  if (root._bokeh_is_loading === 0) {\n    console.debug(\"Bokeh: BokehJS loaded, going straight to plotting\");\n    run_inline_js();\n  } else {\n    load_libs(css_urls, js_urls, function() {\n      console.debug(\"Bokeh: BokehJS plotting callback run at\", now());\n      run_inline_js();\n    });\n  }\n}(window));"
     },
     "metadata": {},
     "output_type": "display_data"
    }
   ],
   "source": [
    "from bokeh.plotting import figure, show\n",
    "from bokeh.models import ColumnDataSource\n",
    "from bokeh.palettes import Spectral9\n",
    "from bokeh.io import output_notebook\n",
    "\n",
    "output_notebook()"
   ]
  },
  {
   "cell_type": "code",
   "execution_count": 257,
   "id": "45d0babf",
   "metadata": {
    "scrolled": true
   },
   "outputs": [],
   "source": [
    "import warnings\n",
    "warnings.filterwarnings('ignore')\n"
   ]
  },
  {
   "cell_type": "code",
   "execution_count": 256,
   "id": "6d3184ea",
   "metadata": {},
   "outputs": [
    {
     "data": {
      "text/html": [
       "\n",
       "  <div class=\"bk-root\" id=\"39050de5-4083-404e-8335-6426f3f5a304\" data-root-id=\"1210\"></div>\n"
      ]
     },
     "metadata": {},
     "output_type": "display_data"
    },
    {
     "data": {
      "application/javascript": [
       "(function(root) {\n",
       "  function embed_document(root) {\n",
       "  const docs_json = {\"53d7d278-e4d5-4301-b24d-24b5df64f9dc\":{\"defs\":[],\"roots\":{\"references\":[{\"attributes\":{\"below\":[{\"id\":\"1221\"}],\"center\":[{\"id\":\"1223\"},{\"id\":\"1227\"}],\"height\":300,\"left\":[{\"id\":\"1224\"}],\"renderers\":[{\"id\":\"1246\"}],\"title\":{\"id\":\"1211\"},\"toolbar\":{\"id\":\"1235\"},\"x_range\":{\"id\":\"1213\"},\"x_scale\":{\"id\":\"1217\"},\"y_range\":{\"id\":\"1215\"},\"y_scale\":{\"id\":\"1219\"}},\"id\":\"1210\",\"subtype\":\"Figure\",\"type\":\"Plot\"},{\"attributes\":{},\"id\":\"1222\",\"type\":\"CategoricalTicker\"},{\"attributes\":{},\"id\":\"1273\",\"type\":\"CategoricalTickFormatter\"},{\"attributes\":{\"coordinates\":null,\"formatter\":{\"id\":\"1270\"},\"group\":null,\"major_label_policy\":{\"id\":\"1271\"},\"ticker\":{\"id\":\"1225\"}},\"id\":\"1224\",\"type\":\"LinearAxis\"},{\"attributes\":{\"coordinates\":null,\"group\":null,\"text\":\"Top Application Used by Customers based on session\"},\"id\":\"1211\",\"type\":\"Title\"},{\"attributes\":{},\"id\":\"1275\",\"type\":\"UnionRenderers\"},{\"attributes\":{},\"id\":\"1233\",\"type\":\"HelpTool\"},{\"attributes\":{\"coordinates\":null,\"data_source\":{\"id\":\"1242\"},\"glyph\":{\"id\":\"1243\"},\"group\":null,\"hover_glyph\":null,\"muted_glyph\":{\"id\":\"1245\"},\"nonselection_glyph\":{\"id\":\"1244\"},\"view\":{\"id\":\"1247\"}},\"id\":\"1246\",\"type\":\"GlyphRenderer\"},{\"attributes\":{},\"id\":\"1219\",\"type\":\"LinearScale\"},{\"attributes\":{\"coordinates\":null,\"formatter\":{\"id\":\"1273\"},\"group\":null,\"major_label_policy\":{\"id\":\"1274\"},\"ticker\":{\"id\":\"1222\"}},\"id\":\"1221\",\"type\":\"CategoricalAxis\"},{\"attributes\":{},\"id\":\"1274\",\"type\":\"AllLabels\"},{\"attributes\":{},\"id\":\"1229\",\"type\":\"WheelZoomTool\"},{\"attributes\":{},\"id\":\"1217\",\"type\":\"CategoricalScale\"},{\"attributes\":{\"fill_alpha\":{\"value\":0.2},\"fill_color\":{\"field\":\"fill_color\"},\"hatch_alpha\":{\"value\":0.2},\"hatch_color\":{\"field\":\"hatch_color\"},\"line_alpha\":{\"value\":0.2},\"line_color\":{\"field\":\"line_color\"},\"top\":{\"field\":\"top\"},\"width\":{\"value\":0.9},\"x\":{\"field\":\"x\"}},\"id\":\"1245\",\"type\":\"VBar\"},{\"attributes\":{\"data\":{\"fill_color\":[\"#3288bd\",\"#66c2a5\",\"#abdda4\",\"#e6f598\",\"#ffffbf\",\"#fee08b\",\"#fdae61\",\"#f46d43\",\"#d53e4f\"],\"hatch_color\":[\"#3288bd\",\"#66c2a5\",\"#abdda4\",\"#e6f598\",\"#ffffbf\",\"#fee08b\",\"#fdae61\",\"#f46d43\",\"#d53e4f\"],\"line_color\":[\"#3288bd\",\"#66c2a5\",\"#abdda4\",\"#e6f598\",\"#ffffbf\",\"#fee08b\",\"#fdae61\",\"#f46d43\",\"#d53e4f\"],\"top\":[64549965105916.0,338865346494.0,274237531204.0,64404801542838.0,3396522395790.0,3394290980757.0,1171094181836.0],\"x\":[\"Gaming\",\"Email\",\"Social Media\",\"Other\",\"YouTube\",\"Netflix\",\"Google\"]},\"selected\":{\"id\":\"1276\"},\"selection_policy\":{\"id\":\"1275\"}},\"id\":\"1242\",\"type\":\"ColumnDataSource\"},{\"attributes\":{\"factors\":[\"Gaming\",\"Email\",\"Social Media\",\"Other\",\"YouTube\",\"Netflix\",\"Google\"]},\"id\":\"1213\",\"type\":\"FactorRange\"},{\"attributes\":{},\"id\":\"1225\",\"type\":\"BasicTicker\"},{\"attributes\":{},\"id\":\"1228\",\"type\":\"PanTool\"},{\"attributes\":{\"bottom_units\":\"screen\",\"coordinates\":null,\"fill_alpha\":0.5,\"fill_color\":\"lightgrey\",\"group\":null,\"left_units\":\"screen\",\"level\":\"overlay\",\"line_alpha\":1.0,\"line_color\":\"black\",\"line_dash\":[4,4],\"line_width\":2,\"right_units\":\"screen\",\"syncable\":false,\"top_units\":\"screen\"},\"id\":\"1234\",\"type\":\"BoxAnnotation\"},{\"attributes\":{\"axis\":{\"id\":\"1224\"},\"coordinates\":null,\"dimension\":1,\"group\":null,\"ticker\":null},\"id\":\"1227\",\"type\":\"Grid\"},{\"attributes\":{},\"id\":\"1276\",\"type\":\"Selection\"},{\"attributes\":{\"source\":{\"id\":\"1242\"}},\"id\":\"1247\",\"type\":\"CDSView\"},{\"attributes\":{\"overlay\":{\"id\":\"1234\"}},\"id\":\"1230\",\"type\":\"BoxZoomTool\"},{\"attributes\":{\"fill_alpha\":{\"value\":0.1},\"fill_color\":{\"field\":\"fill_color\"},\"hatch_alpha\":{\"value\":0.1},\"hatch_color\":{\"field\":\"hatch_color\"},\"line_alpha\":{\"value\":0.1},\"line_color\":{\"field\":\"line_color\"},\"top\":{\"field\":\"top\"},\"width\":{\"value\":0.9},\"x\":{\"field\":\"x\"}},\"id\":\"1244\",\"type\":\"VBar\"},{\"attributes\":{},\"id\":\"1231\",\"type\":\"SaveTool\"},{\"attributes\":{},\"id\":\"1232\",\"type\":\"ResetTool\"},{\"attributes\":{},\"id\":\"1270\",\"type\":\"BasicTickFormatter\"},{\"attributes\":{},\"id\":\"1215\",\"type\":\"DataRange1d\"},{\"attributes\":{\"tools\":[{\"id\":\"1228\"},{\"id\":\"1229\"},{\"id\":\"1230\"},{\"id\":\"1231\"},{\"id\":\"1232\"},{\"id\":\"1233\"}]},\"id\":\"1235\",\"type\":\"Toolbar\"},{\"attributes\":{\"fill_color\":{\"field\":\"fill_color\"},\"hatch_color\":{\"field\":\"hatch_color\"},\"line_color\":{\"field\":\"line_color\"},\"top\":{\"field\":\"top\"},\"width\":{\"value\":0.9},\"x\":{\"field\":\"x\"}},\"id\":\"1243\",\"type\":\"VBar\"},{\"attributes\":{\"axis\":{\"id\":\"1221\"},\"coordinates\":null,\"grid_line_color\":null,\"group\":null,\"ticker\":null},\"id\":\"1223\",\"type\":\"Grid\"},{\"attributes\":{},\"id\":\"1271\",\"type\":\"AllLabels\"}],\"root_ids\":[\"1210\"]},\"title\":\"Bokeh Application\",\"version\":\"2.4.3\"}};\n",
       "  const render_items = [{\"docid\":\"53d7d278-e4d5-4301-b24d-24b5df64f9dc\",\"root_ids\":[\"1210\"],\"roots\":{\"1210\":\"39050de5-4083-404e-8335-6426f3f5a304\"}}];\n",
       "  root.Bokeh.embed.embed_items_notebook(docs_json, render_items);\n",
       "  }\n",
       "  if (root.Bokeh !== undefined) {\n",
       "    embed_document(root);\n",
       "  } else {\n",
       "    let attempts = 0;\n",
       "    const timer = setInterval(function(root) {\n",
       "      if (root.Bokeh !== undefined) {\n",
       "        clearInterval(timer);\n",
       "        embed_document(root);\n",
       "      } else {\n",
       "        attempts++;\n",
       "        if (attempts > 100) {\n",
       "          clearInterval(timer);\n",
       "          console.log(\"Bokeh: ERROR: Unable to run BokehJS code because BokehJS library is missing\");\n",
       "        }\n",
       "      }\n",
       "    }, 10, root)\n",
       "  }\n",
       "})(window);"
      ],
      "application/vnd.bokehjs_exec.v0+json": ""
     },
     "metadata": {
      "application/vnd.bokehjs_exec.v0+json": {
       "id": "1210"
      }
     },
     "output_type": "display_data"
    }
   ],
   "source": [
    "p = figure(x_range=apps, plot_height=300, title='Top Application Used by Customers based on session')\n",
    "\n",
    "p.vbar(x=apps, top=sum_total, width=0.9, color=Spectral9)\n",
    "\n",
    "p.xgrid.grid_line_color = None\n",
    "p.legend.orientation = 'horizontal'\n",
    "p.legend.location = 'top_center'\n",
    "\n",
    "show(p)"
   ]
  },
  {
   "cell_type": "markdown",
   "id": "4d529422",
   "metadata": {},
   "source": [
    "Using k-means clustering algorithm, group users in ​ k engagement clusters base on the engagement metrics: "
   ]
  },
  {
   "cell_type": "code",
   "execution_count": 161,
   "id": "8d23e5d1",
   "metadata": {},
   "outputs": [],
   "source": [
    "# Perform K-means clustering. We consider 1 to 15 clusters, so our for loop runs 10 iterations.\n",
    "# In addition we run the algortihm at many different starting points - k means plus plus. \n",
    "# And we set a random state for reproducibility.\n",
    "inertias = []\n",
    "for i in range(1,16):\n",
    "    kmeans = KMeans(n_clusters = i, init = 'k-means++', random_state = 42)\n",
    "    kmeans.fit(df_metrics_norm)\n",
    "    inertias.append(kmeans.inertia_)"
   ]
  },
  {
   "cell_type": "code",
   "execution_count": 162,
   "id": "22f3d985",
   "metadata": {},
   "outputs": [
    {
     "data": {
      "image/png": "[encoded data removed]",
      "text/plain": [
       "<Figure size 720x576 with 1 Axes>"
      ]
     },
     "metadata": {},
     "output_type": "display_data"
    }
   ],
   "source": [
    "# Plot the Within Cluster Sum of Squares for the different number of clusters.\n",
    "# From this plot we choose the number of clusters. \n",
    "# We look for a steep in the graphic, after which the descent of inertias isn't as pronounced.\n",
    "plt.figure(figsize = (10,8))\n",
    "plt.plot(range(1, 16), inertias, marker = 'o', linestyle = '--')\n",
    "plt.xlabel('Number of Clusters')\n",
    "plt.ylabel('Inertias')\n",
    "plt.title('K-means Clustering')\n",
    "plt.show()"
   ]
  },
  {
   "cell_type": "markdown",
   "id": "aa38238d",
   "metadata": {},
   "source": [
    "4 seems to be the number of clusters"
   ]
  },
  {
   "cell_type": "code",
   "execution_count": 163,
   "id": "886bdf04",
   "metadata": {},
   "outputs": [],
   "source": [
    "# We run K-means with a fixed number of clusters. In our case 4.\n",
    "kmeans = KMeans(n_clusters = 4, init = 'k-means++', random_state = 42)"
   ]
  },
  {
   "cell_type": "code",
   "execution_count": 164,
   "id": "2a93500a",
   "metadata": {},
   "outputs": [
    {
     "data": {
      "text/html": [
       "<style>#sk-container-id-6 {color: black;background-color: white;}#sk-container-id-6 pre{padding: 0;}#sk-container-id-6 div.sk-toggleable {background-color: white;}#sk-container-id-6 label.sk-toggleable__label {cursor: pointer;display: block;width: 100%;margin-bottom: 0;padding: 0.3em;box-sizing: border-box;text-align: center;}#sk-container-id-6 label.sk-toggleable__label-arrow:before {content: \"▸\";float: left;margin-right: 0.25em;color: #696969;}#sk-container-id-6 label.sk-toggleable__label-arrow:hover:before {color: black;}#sk-container-id-6 div.sk-estimator:hover label.sk-toggleable__label-arrow:before {color: black;}#sk-container-id-6 div.sk-toggleable__content {max-height: 0;max-width: 0;overflow: hidden;text-align: left;background-color: #f0f8ff;}#sk-container-id-6 div.sk-toggleable__content pre {margin: 0.2em;color: black;border-radius: 0.25em;background-color: #f0f8ff;}#sk-container-id-6 input.sk-toggleable__control:checked~div.sk-toggleable__content {max-height: 200px;max-width: 100%;overflow: auto;}#sk-container-id-6 input.sk-toggleable__control:checked~label.sk-toggleable__label-arrow:before {content: \"▾\";}#sk-container-id-6 div.sk-estimator input.sk-toggleable__control:checked~label.sk-toggleable__label {background-color: #d4ebff;}#sk-container-id-6 div.sk-label input.sk-toggleable__control:checked~label.sk-toggleable__label {background-color: #d4ebff;}#sk-container-id-6 input.sk-hidden--visually {border: 0;clip: rect(1px 1px 1px 1px);clip: rect(1px, 1px, 1px, 1px);height: 1px;margin: -1px;overflow: hidden;padding: 0;position: absolute;width: 1px;}#sk-container-id-6 div.sk-estimator {font-family: monospace;background-color: #f0f8ff;border: 1px dotted black;border-radius: 0.25em;box-sizing: border-box;margin-bottom: 0.5em;}#sk-container-id-6 div.sk-estimator:hover {background-color: #d4ebff;}#sk-container-id-6 div.sk-parallel-item::after {content: \"\";width: 100%;border-bottom: 1px solid gray;flex-grow: 1;}#sk-container-id-6 div.sk-label:hover label.sk-toggleable__label {background-color: #d4ebff;}#sk-container-id-6 div.sk-serial::before {content: \"\";position: absolute;border-left: 1px solid gray;box-sizing: border-box;top: 0;bottom: 0;left: 50%;z-index: 0;}#sk-container-id-6 div.sk-serial {display: flex;flex-direction: column;align-items: center;background-color: white;padding-right: 0.2em;padding-left: 0.2em;position: relative;}#sk-container-id-6 div.sk-item {position: relative;z-index: 1;}#sk-container-id-6 div.sk-parallel {display: flex;align-items: stretch;justify-content: center;background-color: white;position: relative;}#sk-container-id-6 div.sk-item::before, #sk-container-id-6 div.sk-parallel-item::before {content: \"\";position: absolute;border-left: 1px solid gray;box-sizing: border-box;top: 0;bottom: 0;left: 50%;z-index: -1;}#sk-container-id-6 div.sk-parallel-item {display: flex;flex-direction: column;z-index: 1;position: relative;background-color: white;}#sk-container-id-6 div.sk-parallel-item:first-child::after {align-self: flex-end;width: 50%;}#sk-container-id-6 div.sk-parallel-item:last-child::after {align-self: flex-start;width: 50%;}#sk-container-id-6 div.sk-parallel-item:only-child::after {width: 0;}#sk-container-id-6 div.sk-dashed-wrapped {border: 1px dashed gray;margin: 0 0.4em 0.5em 0.4em;box-sizing: border-box;padding-bottom: 0.4em;background-color: white;}#sk-container-id-6 div.sk-label label {font-family: monospace;font-weight: bold;display: inline-block;line-height: 1.2em;}#sk-container-id-6 div.sk-label-container {text-align: center;}#sk-container-id-6 div.sk-container {/* jupyter's `normalize.less` sets `[hidden] { display: none; }` but bootstrap.min.css set `[hidden] { display: none !important; }` so we also need the `!important` here to be able to override the default hidden behavior on the sphinx rendered scikit-learn.org. See: https://github.com/scikit-learn/scikit-learn/issues/21755 */display: inline-block !important;position: relative;}#sk-container-id-6 div.sk-text-repr-fallback {display: none;}</style><div id=\"sk-container-id-6\" class=\"sk-top-container\"><div class=\"sk-text-repr-fallback\"><pre>KMeans(n_clusters=4, random_state=42)</pre><b>In a Jupyter environment, please rerun this cell to show the HTML representation or trust the notebook. <br />On GitHub, the HTML representation is unable to render, please try loading this page with nbviewer.org.</b></div><div class=\"sk-container\" hidden><div class=\"sk-item\"><div class=\"sk-estimator sk-toggleable\"><input class=\"sk-toggleable__control sk-hidden--visually\" id=\"sk-estimator-id-6\" type=\"checkbox\" checked><label for=\"sk-estimator-id-6\" class=\"sk-toggleable__label sk-toggleable__label-arrow\">KMeans</label><div class=\"sk-toggleable__content\"><pre>KMeans(n_clusters=4, random_state=42)</pre></div></div></div></div></div>"
      ],
      "text/plain": [
       "KMeans(n_clusters=4, random_state=42)"
      ]
     },
     "execution_count": 164,
     "metadata": {},
     "output_type": "execute_result"
    }
   ],
   "source": [
    "# We divide our data into the four clusters.\n",
    "kmeans.fit(df_metrics_norm)"
   ]
  },
  {
   "cell_type": "markdown",
   "id": "6b3b7c64",
   "metadata": {},
   "source": [
    "<h1>Interpret Result"
   ]
  },
  {
   "cell_type": "code",
   "execution_count": 165,
   "id": "d9104d28",
   "metadata": {},
   "outputs": [],
   "source": [
    "# We create a new data frame with the original features and add a new column with the assigned clusters for each point.\n",
    "df_segm_kmeans = df_metrics1.copy()\n",
    "df_segm_kmeans['Segment K-means'] = kmeans.labels_"
   ]
  },
  {
   "cell_type": "code",
   "execution_count": 166,
   "id": "8d64819d",
   "metadata": {},
   "outputs": [
    {
     "data": {
      "text/html": [
       "<div>\n",
       "<style scoped>\n",
       "    .dataframe tbody tr th:only-of-type {\n",
       "        vertical-align: middle;\n",
       "    }\n",
       "\n",
       "    .dataframe tbody tr th {\n",
       "        vertical-align: top;\n",
       "    }\n",
       "\n",
       "    .dataframe thead th {\n",
       "        text-align: right;\n",
       "    }\n",
       "</style>\n",
       "<table border=\"1\" class=\"dataframe\">\n",
       "  <thead>\n",
       "    <tr style=\"text-align: right;\">\n",
       "      <th></th>\n",
       "      <th>Total Download and Upload</th>\n",
       "      <th>xDR Session</th>\n",
       "      <th>session duration</th>\n",
       "    </tr>\n",
       "    <tr>\n",
       "      <th>Segment K-means</th>\n",
       "      <th></th>\n",
       "      <th></th>\n",
       "      <th></th>\n",
       "    </tr>\n",
       "  </thead>\n",
       "  <tbody>\n",
       "    <tr>\n",
       "      <th>0</th>\n",
       "      <td>2.091401e+08</td>\n",
       "      <td>1.863049</td>\n",
       "      <td>2.128742e+05</td>\n",
       "    </tr>\n",
       "    <tr>\n",
       "      <th>1</th>\n",
       "      <td>4.828965e+08</td>\n",
       "      <td>1.855186</td>\n",
       "      <td>2.147250e+05</td>\n",
       "    </tr>\n",
       "    <tr>\n",
       "      <th>2</th>\n",
       "      <td>7.449012e+08</td>\n",
       "      <td>1.855918</td>\n",
       "      <td>2.132005e+05</td>\n",
       "    </tr>\n",
       "    <tr>\n",
       "      <th>3</th>\n",
       "      <td>4.771894e+08</td>\n",
       "      <td>1083.000000</td>\n",
       "      <td>8.123832e+07</td>\n",
       "    </tr>\n",
       "  </tbody>\n",
       "</table>\n",
       "</div>"
      ],
      "text/plain": [
       "                 Total Download and Upload  xDR Session  session duration\n",
       "Segment K-means                                                          \n",
       "0                             2.091401e+08     1.863049      2.128742e+05\n",
       "1                             4.828965e+08     1.855186      2.147250e+05\n",
       "2                             7.449012e+08     1.855918      2.132005e+05\n",
       "3                             4.771894e+08  1083.000000      8.123832e+07"
      ]
     },
     "execution_count": 166,
     "metadata": {},
     "output_type": "execute_result"
    }
   ],
   "source": [
    "# Calculate mean values for the clusters\n",
    "df_segm_analysis = df_segm_kmeans.groupby(['Segment K-means']).mean()\n",
    "df_segm_analysis"
   ]
  },
  {
   "cell_type": "markdown",
   "id": "68f4ab73",
   "metadata": {},
   "source": [
    "On Average, Cluster 1 has the highest value for Total Download and Upload"
   ]
  },
  {
   "cell_type": "code",
   "execution_count": 167,
   "id": "0c6c91c5",
   "metadata": {},
   "outputs": [],
   "source": [
    "# Compute the size and proportions of the four clusters\n",
    "df_segm_analysis['N Obs'] = df_segm_kmeans[['Segment K-means','xDR Session']].groupby(['Segment K-means']).count()\n",
    "df_segm_analysis['Prop Obs'] = df_segm_analysis['N Obs'] / df_segm_analysis['N Obs'].sum()"
   ]
  },
  {
   "cell_type": "code",
   "execution_count": 168,
   "id": "f9b9b859",
   "metadata": {},
   "outputs": [
    {
     "data": {
      "text/html": [
       "<div>\n",
       "<style scoped>\n",
       "    .dataframe tbody tr th:only-of-type {\n",
       "        vertical-align: middle;\n",
       "    }\n",
       "\n",
       "    .dataframe tbody tr th {\n",
       "        vertical-align: top;\n",
       "    }\n",
       "\n",
       "    .dataframe thead th {\n",
       "        text-align: right;\n",
       "    }\n",
       "</style>\n",
       "<table border=\"1\" class=\"dataframe\">\n",
       "  <thead>\n",
       "    <tr style=\"text-align: right;\">\n",
       "      <th></th>\n",
       "      <th>Total Download and Upload</th>\n",
       "      <th>xDR Session</th>\n",
       "      <th>session duration</th>\n",
       "      <th>N Obs</th>\n",
       "      <th>Prop Obs</th>\n",
       "    </tr>\n",
       "    <tr>\n",
       "      <th>Segment K-means</th>\n",
       "      <th></th>\n",
       "      <th></th>\n",
       "      <th></th>\n",
       "      <th></th>\n",
       "      <th></th>\n",
       "    </tr>\n",
       "  </thead>\n",
       "  <tbody>\n",
       "    <tr>\n",
       "      <th>well-off</th>\n",
       "      <td>2.091401e+08</td>\n",
       "      <td>1.863049</td>\n",
       "      <td>2.128742e+05</td>\n",
       "      <td>48134</td>\n",
       "      <td>0.320893</td>\n",
       "    </tr>\n",
       "    <tr>\n",
       "      <th>fewer-opportunities</th>\n",
       "      <td>4.828965e+08</td>\n",
       "      <td>1.855186</td>\n",
       "      <td>2.147250e+05</td>\n",
       "      <td>54615</td>\n",
       "      <td>0.364100</td>\n",
       "    </tr>\n",
       "    <tr>\n",
       "      <th>standard</th>\n",
       "      <td>7.449012e+08</td>\n",
       "      <td>1.855918</td>\n",
       "      <td>2.132005e+05</td>\n",
       "      <td>46168</td>\n",
       "      <td>0.307787</td>\n",
       "    </tr>\n",
       "    <tr>\n",
       "      <th>lower standard</th>\n",
       "      <td>4.771894e+08</td>\n",
       "      <td>1083.000000</td>\n",
       "      <td>8.123832e+07</td>\n",
       "      <td>1083</td>\n",
       "      <td>0.007220</td>\n",
       "    </tr>\n",
       "  </tbody>\n",
       "</table>\n",
       "</div>"
      ],
      "text/plain": [
       "                     Total Download and Upload  xDR Session  session duration  \\\n",
       "Segment K-means                                                                 \n",
       "well-off                          2.091401e+08     1.863049      2.128742e+05   \n",
       "fewer-opportunities               4.828965e+08     1.855186      2.147250e+05   \n",
       "standard                          7.449012e+08     1.855918      2.132005e+05   \n",
       "lower standard                    4.771894e+08  1083.000000      8.123832e+07   \n",
       "\n",
       "                     N Obs  Prop Obs  \n",
       "Segment K-means                       \n",
       "well-off             48134  0.320893  \n",
       "fewer-opportunities  54615  0.364100  \n",
       "standard             46168  0.307787  \n",
       "lower standard        1083  0.007220  "
      ]
     },
     "execution_count": 168,
     "metadata": {},
     "output_type": "execute_result"
    }
   ],
   "source": [
    "df_segm_analysis.rename({0:'well-off',\n",
    "                         1:'fewer-opportunities',\n",
    "                         2:'standard',\n",
    "                         3:'lower standard'})"
   ]
  },
  {
   "cell_type": "code",
   "execution_count": 169,
   "id": "0b72a4e2",
   "metadata": {},
   "outputs": [],
   "source": [
    "# Add the segment labels to our table\n",
    "df_segm_kmeans['Labels'] = df_segm_kmeans['Segment K-means'].map({0:'lower standard', \n",
    "                                                                  1:'fewer opportunities',\n",
    "                                                                  2:'standard', \n",
    "                                                                  3:'well-off'})"
   ]
  },
  {
   "cell_type": "code",
   "execution_count": 170,
   "id": "5a4608fb",
   "metadata": {},
   "outputs": [
    {
     "data": {
      "image/png": "[encoded data removed]",
      "text/plain": [
       "<Figure size 864x576 with 1 Axes>"
      ]
     },
     "metadata": {},
     "output_type": "display_data"
    }
   ],
   "source": [
    "# We plot the results from the K-means algorithm. \n",
    "# Each point in our data set is plotted with the color of the clusters it has been assigned to.\n",
    "# using a subset of data\n",
    "test = df_metrics1.sample(1500)\n",
    "x_axis = test['Total Download and Upload']\n",
    "y_axis = test['session duration']\n",
    "plt.figure(figsize = (12, 8))\n",
    "sns.scatterplot(x_axis, y_axis, hue = df_segm_kmeans['Labels'], palette = ['g', 'r', 'c', 'm'])\n",
    "plt.title('Clustering K-means', size=20)\n",
    "plt.show()"
   ]
  },
  {
   "cell_type": "markdown",
   "id": "0349f600",
   "metadata": {},
   "source": [
    "<h1>Task 3: Experiance Analysis"
   ]
  },
  {
   "cell_type": "markdown",
   "id": "4bb6ad82",
   "metadata": {},
   "source": [
    "\n",
    "The important columns here are the once that deals with the network parameters like -       Round Trip Time (RTT) ,Throughput , and the customers’ device characteristics like the handset type to conduct a deep user experience analysis"
   ]
  },
  {
   "cell_type": "code",
   "execution_count": 171,
   "id": "cf976372",
   "metadata": {},
   "outputs": [
    {
     "name": "stdout",
     "output_type": "stream",
     "text": [
      "Your selected dataframe has 67 columns.\n",
      "There are 25 columns that have missing values.\n"
     ]
    },
    {
     "data": {
      "text/html": [
       "<div>\n",
       "<style scoped>\n",
       "    .dataframe tbody tr th:only-of-type {\n",
       "        vertical-align: middle;\n",
       "    }\n",
       "\n",
       "    .dataframe tbody tr th {\n",
       "        vertical-align: top;\n",
       "    }\n",
       "\n",
       "    .dataframe thead th {\n",
       "        text-align: right;\n",
       "    }\n",
       "</style>\n",
       "<table border=\"1\" class=\"dataframe\">\n",
       "  <thead>\n",
       "    <tr style=\"text-align: right;\">\n",
       "      <th></th>\n",
       "      <th>Missing Values</th>\n",
       "      <th>% of Total Values</th>\n",
       "      <th>Dtype</th>\n",
       "    </tr>\n",
       "  </thead>\n",
       "  <tbody>\n",
       "    <tr>\n",
       "      <th>Nb of sec with 37500B &lt; Vol UL</th>\n",
       "      <td>130253</td>\n",
       "      <td>86.8</td>\n",
       "      <td>float64</td>\n",
       "    </tr>\n",
       "    <tr>\n",
       "      <th>Nb of sec with 6250B &lt; Vol UL &lt; 37500B</th>\n",
       "      <td>111842</td>\n",
       "      <td>74.6</td>\n",
       "      <td>float64</td>\n",
       "    </tr>\n",
       "    <tr>\n",
       "      <th>Nb of sec with 125000B &lt; Vol DL</th>\n",
       "      <td>97537</td>\n",
       "      <td>65.0</td>\n",
       "      <td>float64</td>\n",
       "    </tr>\n",
       "    <tr>\n",
       "      <th>Nb of sec with 31250B &lt; Vol DL &lt; 125000B</th>\n",
       "      <td>93585</td>\n",
       "      <td>62.4</td>\n",
       "      <td>float64</td>\n",
       "    </tr>\n",
       "    <tr>\n",
       "      <th>Nb of sec with 1250B &lt; Vol UL &lt; 6250B</th>\n",
       "      <td>92893</td>\n",
       "      <td>61.9</td>\n",
       "      <td>float64</td>\n",
       "    </tr>\n",
       "    <tr>\n",
       "      <th>Nb of sec with 6250B &lt; Vol DL &lt; 31250B</th>\n",
       "      <td>88316</td>\n",
       "      <td>58.9</td>\n",
       "      <td>float64</td>\n",
       "    </tr>\n",
       "    <tr>\n",
       "      <th>TCP DL Retrans. Vol (Bytes)</th>\n",
       "      <td>88145</td>\n",
       "      <td>58.8</td>\n",
       "      <td>float64</td>\n",
       "    </tr>\n",
       "    <tr>\n",
       "      <th>TCP UL Retrans. Vol (Bytes)</th>\n",
       "      <td>88145</td>\n",
       "      <td>58.8</td>\n",
       "      <td>float64</td>\n",
       "    </tr>\n",
       "    <tr>\n",
       "      <th>HTTP UL (Bytes)</th>\n",
       "      <td>81809</td>\n",
       "      <td>54.5</td>\n",
       "      <td>float64</td>\n",
       "    </tr>\n",
       "    <tr>\n",
       "      <th>HTTP DL (Bytes)</th>\n",
       "      <td>81473</td>\n",
       "      <td>54.3</td>\n",
       "      <td>float64</td>\n",
       "    </tr>\n",
       "    <tr>\n",
       "      <th>Avg RTT DL (ms)</th>\n",
       "      <td>27828</td>\n",
       "      <td>18.6</td>\n",
       "      <td>float64</td>\n",
       "    </tr>\n",
       "    <tr>\n",
       "      <th>Avg RTT UL (ms)</th>\n",
       "      <td>27811</td>\n",
       "      <td>18.5</td>\n",
       "      <td>float64</td>\n",
       "    </tr>\n",
       "    <tr>\n",
       "      <th>Last Location Name</th>\n",
       "      <td>1152</td>\n",
       "      <td>0.8</td>\n",
       "      <td>object</td>\n",
       "    </tr>\n",
       "    <tr>\n",
       "      <th>Nb of sec with Vol UL &lt; 1250B</th>\n",
       "      <td>792</td>\n",
       "      <td>0.5</td>\n",
       "      <td>float64</td>\n",
       "    </tr>\n",
       "    <tr>\n",
       "      <th>10 Kbps &lt; UL TP &lt; 50 Kbps (%)</th>\n",
       "      <td>791</td>\n",
       "      <td>0.5</td>\n",
       "      <td>float64</td>\n",
       "    </tr>\n",
       "    <tr>\n",
       "      <th>UL TP &gt; 300 Kbps (%)</th>\n",
       "      <td>791</td>\n",
       "      <td>0.5</td>\n",
       "      <td>float64</td>\n",
       "    </tr>\n",
       "    <tr>\n",
       "      <th>50 Kbps &lt; UL TP &lt; 300 Kbps (%)</th>\n",
       "      <td>791</td>\n",
       "      <td>0.5</td>\n",
       "      <td>float64</td>\n",
       "    </tr>\n",
       "    <tr>\n",
       "      <th>UL TP &lt; 10 Kbps (%)</th>\n",
       "      <td>791</td>\n",
       "      <td>0.5</td>\n",
       "      <td>float64</td>\n",
       "    </tr>\n",
       "    <tr>\n",
       "      <th>Nb of sec with Vol DL &lt; 6250B</th>\n",
       "      <td>754</td>\n",
       "      <td>0.5</td>\n",
       "      <td>float64</td>\n",
       "    </tr>\n",
       "    <tr>\n",
       "      <th>DL TP &gt; 1 Mbps (%)</th>\n",
       "      <td>753</td>\n",
       "      <td>0.5</td>\n",
       "      <td>float64</td>\n",
       "    </tr>\n",
       "    <tr>\n",
       "      <th>250 Kbps &lt; DL TP &lt; 1 Mbps (%)</th>\n",
       "      <td>753</td>\n",
       "      <td>0.5</td>\n",
       "      <td>float64</td>\n",
       "    </tr>\n",
       "    <tr>\n",
       "      <th>50 Kbps &lt; DL TP &lt; 250 Kbps (%)</th>\n",
       "      <td>753</td>\n",
       "      <td>0.5</td>\n",
       "      <td>float64</td>\n",
       "    </tr>\n",
       "    <tr>\n",
       "      <th>DL TP &lt; 50 Kbps (%)</th>\n",
       "      <td>753</td>\n",
       "      <td>0.5</td>\n",
       "      <td>float64</td>\n",
       "    </tr>\n",
       "    <tr>\n",
       "      <th>IMEI</th>\n",
       "      <td>571</td>\n",
       "      <td>0.4</td>\n",
       "      <td>float64</td>\n",
       "    </tr>\n",
       "    <tr>\n",
       "      <th>IMSI</th>\n",
       "      <td>569</td>\n",
       "      <td>0.4</td>\n",
       "      <td>float64</td>\n",
       "    </tr>\n",
       "  </tbody>\n",
       "</table>\n",
       "</div>"
      ],
      "text/plain": [
       "                                          Missing Values  % of Total Values  \\\n",
       "Nb of sec with 37500B < Vol UL                    130253               86.8   \n",
       "Nb of sec with 6250B < Vol UL < 37500B            111842               74.6   \n",
       "Nb of sec with 125000B < Vol DL                    97537               65.0   \n",
       "Nb of sec with 31250B < Vol DL < 125000B           93585               62.4   \n",
       "Nb of sec with 1250B < Vol UL < 6250B              92893               61.9   \n",
       "Nb of sec with 6250B < Vol DL < 31250B             88316               58.9   \n",
       "TCP DL Retrans. Vol (Bytes)                        88145               58.8   \n",
       "TCP UL Retrans. Vol (Bytes)                        88145               58.8   \n",
       "HTTP UL (Bytes)                                    81809               54.5   \n",
       "HTTP DL (Bytes)                                    81473               54.3   \n",
       "Avg RTT DL (ms)                                    27828               18.6   \n",
       "Avg RTT UL (ms)                                    27811               18.5   \n",
       "Last Location Name                                  1152                0.8   \n",
       "Nb of sec with Vol UL < 1250B                        792                0.5   \n",
       "10 Kbps < UL TP < 50 Kbps (%)                        791                0.5   \n",
       "UL TP > 300 Kbps (%)                                 791                0.5   \n",
       "50 Kbps < UL TP < 300 Kbps (%)                       791                0.5   \n",
       "UL TP < 10 Kbps (%)                                  791                0.5   \n",
       "Nb of sec with Vol DL < 6250B                        754                0.5   \n",
       "DL TP > 1 Mbps (%)                                   753                0.5   \n",
       "250 Kbps < DL TP < 1 Mbps (%)                        753                0.5   \n",
       "50 Kbps < DL TP < 250 Kbps (%)                       753                0.5   \n",
       "DL TP < 50 Kbps (%)                                  753                0.5   \n",
       "IMEI                                                 571                0.4   \n",
       "IMSI                                                 569                0.4   \n",
       "\n",
       "                                            Dtype  \n",
       "Nb of sec with 37500B < Vol UL            float64  \n",
       "Nb of sec with 6250B < Vol UL < 37500B    float64  \n",
       "Nb of sec with 125000B < Vol DL           float64  \n",
       "Nb of sec with 31250B < Vol DL < 125000B  float64  \n",
       "Nb of sec with 1250B < Vol UL < 6250B     float64  \n",
       "Nb of sec with 6250B < Vol DL < 31250B    float64  \n",
       "TCP DL Retrans. Vol (Bytes)               float64  \n",
       "TCP UL Retrans. Vol (Bytes)               float64  \n",
       "HTTP UL (Bytes)                           float64  \n",
       "HTTP DL (Bytes)                           float64  \n",
       "Avg RTT DL (ms)                           float64  \n",
       "Avg RTT UL (ms)                           float64  \n",
       "Last Location Name                         object  \n",
       "Nb of sec with Vol UL < 1250B             float64  \n",
       "10 Kbps < UL TP < 50 Kbps (%)             float64  \n",
       "UL TP > 300 Kbps (%)                      float64  \n",
       "50 Kbps < UL TP < 300 Kbps (%)            float64  \n",
       "UL TP < 10 Kbps (%)                       float64  \n",
       "Nb of sec with Vol DL < 6250B             float64  \n",
       "DL TP > 1 Mbps (%)                        float64  \n",
       "250 Kbps < DL TP < 1 Mbps (%)             float64  \n",
       "50 Kbps < DL TP < 250 Kbps (%)            float64  \n",
       "DL TP < 50 Kbps (%)                       float64  \n",
       "IMEI                                      float64  \n",
       "IMSI                                      float64  "
      ]
     },
     "execution_count": 171,
     "metadata": {},
     "output_type": "execute_result"
    }
   ],
   "source": [
    "missing_values_table(df)"
   ]
  },
  {
   "cell_type": "markdown",
   "id": "8ae88559",
   "metadata": {},
   "source": [
    "Fix Missing<br>\n",
    "Since outliers have been replaced with median, i fill missing values with mean"
   ]
  },
  {
   "cell_type": "code",
   "execution_count": 172,
   "id": "1a7e119f",
   "metadata": {},
   "outputs": [],
   "source": [
    "df['TCP DL Retrans. Vol (Bytes)'] = df['TCP DL Retrans. Vol (Bytes)'].fillna(df['TCP DL Retrans. Vol (Bytes)'].mean())\n",
    "df['TCP UL Retrans. Vol (Bytes)'] = df['TCP UL Retrans. Vol (Bytes)'].fillna(df['TCP UL Retrans. Vol (Bytes)'].mean())\n",
    "df['Avg RTT DL (ms)'] = df['Avg RTT DL (ms)'].fillna(df['Avg RTT DL (ms)'].mean())\n",
    "df['Avg RTT UL (ms)'] = df['Avg RTT UL (ms)'].fillna(df['Avg RTT UL (ms)'].mean())\n"
   ]
  },
  {
   "cell_type": "markdown",
   "id": "83d605b4",
   "metadata": {},
   "source": [
    "<h1>Fix Outliers"
   ]
  },
  {
   "cell_type": "code",
   "execution_count": 173,
   "id": "a3e47842",
   "metadata": {},
   "outputs": [
    {
     "data": {
      "text/plain": [
       "<AxesSubplot:xlabel='Avg RTT DL (ms)'>"
      ]
     },
     "execution_count": 173,
     "metadata": {},
     "output_type": "execute_result"
    },
    {
     "data": {
      "image/png": "[encoded data removed]",
      "text/plain": [
       "<Figure size 432x288 with 1 Axes>"
      ]
     },
     "metadata": {},
     "output_type": "display_data"
    }
   ],
   "source": [
    "plt.figure(figsize=(6, 4))\n",
    "sns.boxplot(df['Avg RTT DL (ms)'], orient='vert')"
   ]
  },
  {
   "cell_type": "code",
   "execution_count": 174,
   "id": "a5786fa7",
   "metadata": {},
   "outputs": [],
   "source": [
    "# get total of all experience metrics\n",
    "df['Total TCP DL and UL'] = df['TCP DL Retrans. Vol (Bytes)'] + df['TCP UL Retrans. Vol (Bytes)']\n",
    "df['Total RTT DL and UL'] = df['Avg RTT DL (ms)'] + df['Avg RTT UL (ms)']\n",
    "df['Total Bearer TP DL and UL'] = df['Avg Bearer TP DL (kbps)'] + df['Avg Bearer TP UL (kbps)']"
   ]
  },
  {
   "cell_type": "code",
   "execution_count": 175,
   "id": "9875e543",
   "metadata": {},
   "outputs": [],
   "source": [
    "experience_features = ['Total Bearer TP DL and UL', 'Total RTT DL and UL', 'Total TCP DL and UL']"
   ]
  },
  {
   "cell_type": "code",
   "execution_count": 176,
   "id": "f8c900f4",
   "metadata": {},
   "outputs": [
    {
     "data": {
      "text/html": [
       "<div>\n",
       "<style scoped>\n",
       "    .dataframe tbody tr th:only-of-type {\n",
       "        vertical-align: middle;\n",
       "    }\n",
       "\n",
       "    .dataframe tbody tr th {\n",
       "        vertical-align: top;\n",
       "    }\n",
       "\n",
       "    .dataframe thead th {\n",
       "        text-align: right;\n",
       "    }\n",
       "</style>\n",
       "<table border=\"1\" class=\"dataframe\">\n",
       "  <thead>\n",
       "    <tr style=\"text-align: right;\">\n",
       "      <th></th>\n",
       "      <th>Total Bearer TP DL and UL</th>\n",
       "      <th>Total RTT DL and UL</th>\n",
       "      <th>Total TCP DL and UL</th>\n",
       "    </tr>\n",
       "  </thead>\n",
       "  <tbody>\n",
       "    <tr>\n",
       "      <th>143629</th>\n",
       "      <td>16225.0</td>\n",
       "      <td>92.0</td>\n",
       "      <td>31676294.0</td>\n",
       "    </tr>\n",
       "    <tr>\n",
       "      <th>114427</th>\n",
       "      <td>51375.0</td>\n",
       "      <td>49.0</td>\n",
       "      <td>31664662.0</td>\n",
       "    </tr>\n",
       "    <tr>\n",
       "      <th>89015</th>\n",
       "      <td>9361.0</td>\n",
       "      <td>50.0</td>\n",
       "      <td>31663032.0</td>\n",
       "    </tr>\n",
       "    <tr>\n",
       "      <th>114675</th>\n",
       "      <td>27858.0</td>\n",
       "      <td>86.0</td>\n",
       "      <td>31658308.0</td>\n",
       "    </tr>\n",
       "    <tr>\n",
       "      <th>140950</th>\n",
       "      <td>2588.0</td>\n",
       "      <td>86.0</td>\n",
       "      <td>31657498.0</td>\n",
       "    </tr>\n",
       "    <tr>\n",
       "      <th>76378</th>\n",
       "      <td>61512.0</td>\n",
       "      <td>57.0</td>\n",
       "      <td>31642448.0</td>\n",
       "    </tr>\n",
       "    <tr>\n",
       "      <th>114422</th>\n",
       "      <td>33223.0</td>\n",
       "      <td>109.0</td>\n",
       "      <td>31641094.0</td>\n",
       "    </tr>\n",
       "    <tr>\n",
       "      <th>68702</th>\n",
       "      <td>19015.0</td>\n",
       "      <td>123.0</td>\n",
       "      <td>31637910.0</td>\n",
       "    </tr>\n",
       "    <tr>\n",
       "      <th>1844</th>\n",
       "      <td>7736.0</td>\n",
       "      <td>84.0</td>\n",
       "      <td>31633212.0</td>\n",
       "    </tr>\n",
       "    <tr>\n",
       "      <th>2438</th>\n",
       "      <td>45667.0</td>\n",
       "      <td>101.0</td>\n",
       "      <td>31632878.0</td>\n",
       "    </tr>\n",
       "  </tbody>\n",
       "</table>\n",
       "</div>"
      ],
      "text/plain": [
       "        Total Bearer TP DL and UL  Total RTT DL and UL  Total TCP DL and UL\n",
       "143629                    16225.0                 92.0           31676294.0\n",
       "114427                    51375.0                 49.0           31664662.0\n",
       "89015                      9361.0                 50.0           31663032.0\n",
       "114675                    27858.0                 86.0           31658308.0\n",
       "140950                     2588.0                 86.0           31657498.0\n",
       "76378                     61512.0                 57.0           31642448.0\n",
       "114422                    33223.0                109.0           31641094.0\n",
       "68702                     19015.0                123.0           31637910.0\n",
       "1844                       7736.0                 84.0           31633212.0\n",
       "2438                      45667.0                101.0           31632878.0"
      ]
     },
     "execution_count": 176,
     "metadata": {},
     "output_type": "execute_result"
    }
   ],
   "source": [
    "df[experience_features].sort_values(by = 'Total TCP DL and UL', ascending=False)[:10]\n"
   ]
  },
  {
   "cell_type": "markdown",
   "id": "a0919198",
   "metadata": {},
   "source": [
    " \n",
    "Aggregate per customer,\n",
    "\n",
    "Average TCP retransmission"
   ]
  },
  {
   "cell_type": "code",
   "execution_count": 177,
   "id": "fc692437",
   "metadata": {},
   "outputs": [],
   "source": [
    "ave_tcp = df.groupby('MSISDN/Number')['Total TCP DL and UL'].mean().reset_index(name='Average TCP Retransmission').\\\n",
    "            sort_values(by='Average TCP Retransmission', ascending=False)"
   ]
  },
  {
   "cell_type": "markdown",
   "id": "77670011",
   "metadata": {},
   "source": [
    "Average RTT"
   ]
  },
  {
   "cell_type": "code",
   "execution_count": 178,
   "id": "16a74b7b",
   "metadata": {},
   "outputs": [],
   "source": [
    "ave_rtt = df.groupby('MSISDN/Number')['Total RTT DL and UL'].mean().reset_index(name='Average RT Time').\\\n",
    "            sort_values(by='Average RT Time', ascending=False)"
   ]
  },
  {
   "cell_type": "markdown",
   "id": "76cbe329",
   "metadata": {},
   "source": [
    "Handset type per Customer"
   ]
  },
  {
   "cell_type": "code",
   "execution_count": 179,
   "id": "27f22729",
   "metadata": {},
   "outputs": [],
   "source": [
    "handset_type = df.groupby('MSISDN/Number')['Handset Type'].count().reset_index(name='Handset Type').\\\n",
    "            sort_values(by='Handset Type', ascending=False)"
   ]
  },
  {
   "cell_type": "markdown",
   "id": "8fafde7a",
   "metadata": {},
   "source": [
    "Average throughput per customer\n",
    "\n"
   ]
  },
  {
   "cell_type": "code",
   "execution_count": 180,
   "id": "b769ba0a",
   "metadata": {},
   "outputs": [],
   "source": [
    "ave_tp = df.groupby('MSISDN/Number')['Total Bearer TP DL and UL'].mean().reset_index(name='Average Throughput').\\\n",
    "            sort_values(by='Average Throughput', ascending=False)"
   ]
  },
  {
   "cell_type": "markdown",
   "id": "d4e7b5e2",
   "metadata": {},
   "source": [
    "<h1>Task 3.2 - Compute & list 10 of the top, bottom and most frequent"
   ]
  },
  {
   "cell_type": "markdown",
   "id": "fb44ada2",
   "metadata": {},
   "source": [
    "Top 10 TCP"
   ]
  },
  {
   "cell_type": "code",
   "execution_count": 181,
   "id": "a2ef2b77",
   "metadata": {},
   "outputs": [
    {
     "name": "stdout",
     "output_type": "stream",
     "text": [
      "Top 10 TCP\n"
     ]
    },
    {
     "data": {
      "text/html": [
       "<div>\n",
       "<style scoped>\n",
       "    .dataframe tbody tr th:only-of-type {\n",
       "        vertical-align: middle;\n",
       "    }\n",
       "\n",
       "    .dataframe tbody tr th {\n",
       "        vertical-align: top;\n",
       "    }\n",
       "\n",
       "    .dataframe thead th {\n",
       "        text-align: right;\n",
       "    }\n",
       "</style>\n",
       "<table border=\"1\" class=\"dataframe\">\n",
       "  <thead>\n",
       "    <tr style=\"text-align: right;\">\n",
       "      <th></th>\n",
       "      <th>MSISDN/Number</th>\n",
       "      <th>Average TCP Retransmission</th>\n",
       "    </tr>\n",
       "  </thead>\n",
       "  <tbody>\n",
       "    <tr>\n",
       "      <th>23511</th>\n",
       "      <td>3.365014e+10</td>\n",
       "      <td>31663032.0</td>\n",
       "    </tr>\n",
       "    <tr>\n",
       "      <th>106738</th>\n",
       "      <td>3.378929e+10</td>\n",
       "      <td>31658308.0</td>\n",
       "    </tr>\n",
       "    <tr>\n",
       "      <th>49021</th>\n",
       "      <td>3.366255e+10</td>\n",
       "      <td>31657498.0</td>\n",
       "    </tr>\n",
       "    <tr>\n",
       "      <th>46432</th>\n",
       "      <td>3.366196e+10</td>\n",
       "      <td>31642448.0</td>\n",
       "    </tr>\n",
       "    <tr>\n",
       "      <th>35093</th>\n",
       "      <td>3.365929e+10</td>\n",
       "      <td>31641094.0</td>\n",
       "    </tr>\n",
       "    <tr>\n",
       "      <th>57531</th>\n",
       "      <td>3.366479e+10</td>\n",
       "      <td>31637910.0</td>\n",
       "    </tr>\n",
       "    <tr>\n",
       "      <th>71076</th>\n",
       "      <td>3.366911e+10</td>\n",
       "      <td>31633212.0</td>\n",
       "    </tr>\n",
       "    <tr>\n",
       "      <th>86209</th>\n",
       "      <td>3.369872e+10</td>\n",
       "      <td>31632878.0</td>\n",
       "    </tr>\n",
       "    <tr>\n",
       "      <th>34498</th>\n",
       "      <td>3.365916e+10</td>\n",
       "      <td>31626984.0</td>\n",
       "    </tr>\n",
       "    <tr>\n",
       "      <th>57166</th>\n",
       "      <td>3.366470e+10</td>\n",
       "      <td>31616370.0</td>\n",
       "    </tr>\n",
       "  </tbody>\n",
       "</table>\n",
       "</div>"
      ],
      "text/plain": [
       "        MSISDN/Number  Average TCP Retransmission\n",
       "23511    3.365014e+10                  31663032.0\n",
       "106738   3.378929e+10                  31658308.0\n",
       "49021    3.366255e+10                  31657498.0\n",
       "46432    3.366196e+10                  31642448.0\n",
       "35093    3.365929e+10                  31641094.0\n",
       "57531    3.366479e+10                  31637910.0\n",
       "71076    3.366911e+10                  31633212.0\n",
       "86209    3.369872e+10                  31632878.0\n",
       "34498    3.365916e+10                  31626984.0\n",
       "57166    3.366470e+10                  31616370.0"
      ]
     },
     "execution_count": 181,
     "metadata": {},
     "output_type": "execute_result"
    }
   ],
   "source": [
    "top_10_tcp = ave_tcp[:10]\n",
    "least_10_tcp = ave_tcp[-10:]\n",
    "# most_10_tcp = ave_tcp.mode()[:10]\n",
    "print('Top 10 TCP')\n",
    "top_10_tcp\n"
   ]
  },
  {
   "cell_type": "markdown",
   "id": "2af03c64",
   "metadata": {},
   "source": [
    "Bottom 10 TCP"
   ]
  },
  {
   "cell_type": "code",
   "execution_count": 182,
   "id": "7ac4a932",
   "metadata": {},
   "outputs": [
    {
     "name": "stdout",
     "output_type": "stream",
     "text": [
      "Bottom 10 TCP\n"
     ]
    },
    {
     "data": {
      "text/html": [
       "<div>\n",
       "<style scoped>\n",
       "    .dataframe tbody tr th:only-of-type {\n",
       "        vertical-align: middle;\n",
       "    }\n",
       "\n",
       "    .dataframe tbody tr th {\n",
       "        vertical-align: top;\n",
       "    }\n",
       "\n",
       "    .dataframe thead th {\n",
       "        text-align: right;\n",
       "    }\n",
       "</style>\n",
       "<table border=\"1\" class=\"dataframe\">\n",
       "  <thead>\n",
       "    <tr style=\"text-align: right;\">\n",
       "      <th></th>\n",
       "      <th>MSISDN/Number</th>\n",
       "      <th>Average TCP Retransmission</th>\n",
       "    </tr>\n",
       "  </thead>\n",
       "  <tbody>\n",
       "    <tr>\n",
       "      <th>95774</th>\n",
       "      <td>3.376162e+10</td>\n",
       "      <td>8.0</td>\n",
       "    </tr>\n",
       "    <tr>\n",
       "      <th>87156</th>\n",
       "      <td>3.369900e+10</td>\n",
       "      <td>8.0</td>\n",
       "    </tr>\n",
       "    <tr>\n",
       "      <th>71778</th>\n",
       "      <td>3.366933e+10</td>\n",
       "      <td>8.0</td>\n",
       "    </tr>\n",
       "    <tr>\n",
       "      <th>100663</th>\n",
       "      <td>3.376399e+10</td>\n",
       "      <td>8.0</td>\n",
       "    </tr>\n",
       "    <tr>\n",
       "      <th>95213</th>\n",
       "      <td>3.376151e+10</td>\n",
       "      <td>8.0</td>\n",
       "    </tr>\n",
       "    <tr>\n",
       "      <th>71705</th>\n",
       "      <td>3.366931e+10</td>\n",
       "      <td>8.0</td>\n",
       "    </tr>\n",
       "    <tr>\n",
       "      <th>100616</th>\n",
       "      <td>3.376394e+10</td>\n",
       "      <td>8.0</td>\n",
       "    </tr>\n",
       "    <tr>\n",
       "      <th>95331</th>\n",
       "      <td>3.376154e+10</td>\n",
       "      <td>8.0</td>\n",
       "    </tr>\n",
       "    <tr>\n",
       "      <th>95322</th>\n",
       "      <td>3.376154e+10</td>\n",
       "      <td>4.0</td>\n",
       "    </tr>\n",
       "    <tr>\n",
       "      <th>56622</th>\n",
       "      <td>3.366454e+10</td>\n",
       "      <td>4.0</td>\n",
       "    </tr>\n",
       "  </tbody>\n",
       "</table>\n",
       "</div>"
      ],
      "text/plain": [
       "        MSISDN/Number  Average TCP Retransmission\n",
       "95774    3.376162e+10                         8.0\n",
       "87156    3.369900e+10                         8.0\n",
       "71778    3.366933e+10                         8.0\n",
       "100663   3.376399e+10                         8.0\n",
       "95213    3.376151e+10                         8.0\n",
       "71705    3.366931e+10                         8.0\n",
       "100616   3.376394e+10                         8.0\n",
       "95331    3.376154e+10                         8.0\n",
       "95322    3.376154e+10                         4.0\n",
       "56622    3.366454e+10                         4.0"
      ]
     },
     "execution_count": 182,
     "metadata": {},
     "output_type": "execute_result"
    }
   ],
   "source": [
    "print('Bottom 10 TCP')\n",
    "least_10_tcp"
   ]
  },
  {
   "cell_type": "markdown",
   "id": "bd629ee2",
   "metadata": {},
   "source": [
    "Top 10 RTT"
   ]
  },
  {
   "cell_type": "code",
   "execution_count": 183,
   "id": "6fc09098",
   "metadata": {},
   "outputs": [
    {
     "name": "stdout",
     "output_type": "stream",
     "text": [
      "Top 10 RTT\n"
     ]
    },
    {
     "data": {
      "text/html": [
       "<div>\n",
       "<style scoped>\n",
       "    .dataframe tbody tr th:only-of-type {\n",
       "        vertical-align: middle;\n",
       "    }\n",
       "\n",
       "    .dataframe tbody tr th {\n",
       "        vertical-align: top;\n",
       "    }\n",
       "\n",
       "    .dataframe thead th {\n",
       "        text-align: right;\n",
       "    }\n",
       "</style>\n",
       "<table border=\"1\" class=\"dataframe\">\n",
       "  <thead>\n",
       "    <tr style=\"text-align: right;\">\n",
       "      <th></th>\n",
       "      <th>MSISDN/Number</th>\n",
       "      <th>Average RT Time</th>\n",
       "    </tr>\n",
       "  </thead>\n",
       "  <tbody>\n",
       "    <tr>\n",
       "      <th>61786</th>\n",
       "      <td>3.366606e+10</td>\n",
       "      <td>318.0</td>\n",
       "    </tr>\n",
       "    <tr>\n",
       "      <th>82410</th>\n",
       "      <td>3.368795e+10</td>\n",
       "      <td>317.0</td>\n",
       "    </tr>\n",
       "    <tr>\n",
       "      <th>43442</th>\n",
       "      <td>3.366125e+10</td>\n",
       "      <td>315.0</td>\n",
       "    </tr>\n",
       "    <tr>\n",
       "      <th>97724</th>\n",
       "      <td>3.376243e+10</td>\n",
       "      <td>314.0</td>\n",
       "    </tr>\n",
       "    <tr>\n",
       "      <th>96914</th>\n",
       "      <td>3.376204e+10</td>\n",
       "      <td>312.0</td>\n",
       "    </tr>\n",
       "    <tr>\n",
       "      <th>40719</th>\n",
       "      <td>3.366060e+10</td>\n",
       "      <td>311.0</td>\n",
       "    </tr>\n",
       "    <tr>\n",
       "      <th>37520</th>\n",
       "      <td>3.365983e+10</td>\n",
       "      <td>309.0</td>\n",
       "    </tr>\n",
       "    <tr>\n",
       "      <th>35692</th>\n",
       "      <td>3.365942e+10</td>\n",
       "      <td>308.0</td>\n",
       "    </tr>\n",
       "    <tr>\n",
       "      <th>47286</th>\n",
       "      <td>3.366215e+10</td>\n",
       "      <td>306.0</td>\n",
       "    </tr>\n",
       "    <tr>\n",
       "      <th>12415</th>\n",
       "      <td>3.362454e+10</td>\n",
       "      <td>306.0</td>\n",
       "    </tr>\n",
       "  </tbody>\n",
       "</table>\n",
       "</div>"
      ],
      "text/plain": [
       "       MSISDN/Number  Average RT Time\n",
       "61786   3.366606e+10            318.0\n",
       "82410   3.368795e+10            317.0\n",
       "43442   3.366125e+10            315.0\n",
       "97724   3.376243e+10            314.0\n",
       "96914   3.376204e+10            312.0\n",
       "40719   3.366060e+10            311.0\n",
       "37520   3.365983e+10            309.0\n",
       "35692   3.365942e+10            308.0\n",
       "47286   3.366215e+10            306.0\n",
       "12415   3.362454e+10            306.0"
      ]
     },
     "execution_count": 183,
     "metadata": {},
     "output_type": "execute_result"
    }
   ],
   "source": [
    "top_10_rtt = ave_rtt[:10]\n",
    "least_10_rtt = ave_rtt[-10:]\n",
    "# most_10_rtt = ave_rtt.mode()[:10]\n",
    "print('Top 10 RTT')\n",
    "top_10_rtt"
   ]
  },
  {
   "cell_type": "markdown",
   "id": "2fa436ae",
   "metadata": {},
   "source": [
    "Bottom 10 RTT"
   ]
  },
  {
   "cell_type": "code",
   "execution_count": 184,
   "id": "fb4c71d5",
   "metadata": {},
   "outputs": [
    {
     "name": "stdout",
     "output_type": "stream",
     "text": [
      "Bottom 10 RTT\n"
     ]
    },
    {
     "data": {
      "text/html": [
       "<div>\n",
       "<style scoped>\n",
       "    .dataframe tbody tr th:only-of-type {\n",
       "        vertical-align: middle;\n",
       "    }\n",
       "\n",
       "    .dataframe tbody tr th {\n",
       "        vertical-align: top;\n",
       "    }\n",
       "\n",
       "    .dataframe thead th {\n",
       "        text-align: right;\n",
       "    }\n",
       "</style>\n",
       "<table border=\"1\" class=\"dataframe\">\n",
       "  <thead>\n",
       "    <tr style=\"text-align: right;\">\n",
       "      <th></th>\n",
       "      <th>MSISDN/Number</th>\n",
       "      <th>Average RT Time</th>\n",
       "    </tr>\n",
       "  </thead>\n",
       "  <tbody>\n",
       "    <tr>\n",
       "      <th>74434</th>\n",
       "      <td>3.367220e+10</td>\n",
       "      <td>9.0</td>\n",
       "    </tr>\n",
       "    <tr>\n",
       "      <th>3882</th>\n",
       "      <td>3.361085e+10</td>\n",
       "      <td>9.0</td>\n",
       "    </tr>\n",
       "    <tr>\n",
       "      <th>21980</th>\n",
       "      <td>3.364768e+10</td>\n",
       "      <td>8.0</td>\n",
       "    </tr>\n",
       "    <tr>\n",
       "      <th>69662</th>\n",
       "      <td>3.366862e+10</td>\n",
       "      <td>6.0</td>\n",
       "    </tr>\n",
       "    <tr>\n",
       "      <th>66098</th>\n",
       "      <td>3.366748e+10</td>\n",
       "      <td>5.0</td>\n",
       "    </tr>\n",
       "    <tr>\n",
       "      <th>36039</th>\n",
       "      <td>3.365949e+10</td>\n",
       "      <td>5.0</td>\n",
       "    </tr>\n",
       "    <tr>\n",
       "      <th>83396</th>\n",
       "      <td>3.369505e+10</td>\n",
       "      <td>4.0</td>\n",
       "    </tr>\n",
       "    <tr>\n",
       "      <th>39066</th>\n",
       "      <td>3.366020e+10</td>\n",
       "      <td>2.0</td>\n",
       "    </tr>\n",
       "    <tr>\n",
       "      <th>44748</th>\n",
       "      <td>3.366158e+10</td>\n",
       "      <td>0.0</td>\n",
       "    </tr>\n",
       "    <tr>\n",
       "      <th>28878</th>\n",
       "      <td>3.365298e+10</td>\n",
       "      <td>0.0</td>\n",
       "    </tr>\n",
       "  </tbody>\n",
       "</table>\n",
       "</div>"
      ],
      "text/plain": [
       "       MSISDN/Number  Average RT Time\n",
       "74434   3.367220e+10              9.0\n",
       "3882    3.361085e+10              9.0\n",
       "21980   3.364768e+10              8.0\n",
       "69662   3.366862e+10              6.0\n",
       "66098   3.366748e+10              5.0\n",
       "36039   3.365949e+10              5.0\n",
       "83396   3.369505e+10              4.0\n",
       "39066   3.366020e+10              2.0\n",
       "44748   3.366158e+10              0.0\n",
       "28878   3.365298e+10              0.0"
      ]
     },
     "execution_count": 184,
     "metadata": {},
     "output_type": "execute_result"
    }
   ],
   "source": [
    "print('Bottom 10 RTT')\n",
    "least_10_rtt"
   ]
  },
  {
   "cell_type": "markdown",
   "id": "e08a08e8",
   "metadata": {},
   "source": [
    "Most RTT"
   ]
  },
  {
   "cell_type": "code",
   "execution_count": 185,
   "id": "e57529e6",
   "metadata": {},
   "outputs": [
    {
     "name": "stdout",
     "output_type": "stream",
     "text": [
      "Top 10 TP\n"
     ]
    },
    {
     "data": {
      "text/html": [
       "<div>\n",
       "<style scoped>\n",
       "    .dataframe tbody tr th:only-of-type {\n",
       "        vertical-align: middle;\n",
       "    }\n",
       "\n",
       "    .dataframe tbody tr th {\n",
       "        vertical-align: top;\n",
       "    }\n",
       "\n",
       "    .dataframe thead th {\n",
       "        text-align: right;\n",
       "    }\n",
       "</style>\n",
       "<table border=\"1\" class=\"dataframe\">\n",
       "  <thead>\n",
       "    <tr style=\"text-align: right;\">\n",
       "      <th></th>\n",
       "      <th>MSISDN/Number</th>\n",
       "      <th>Average Throughput</th>\n",
       "    </tr>\n",
       "  </thead>\n",
       "  <tbody>\n",
       "    <tr>\n",
       "      <th>89296</th>\n",
       "      <td>3.369967e+10</td>\n",
       "      <td>72416.0</td>\n",
       "    </tr>\n",
       "    <tr>\n",
       "      <th>94398</th>\n",
       "      <td>3.376118e+10</td>\n",
       "      <td>71794.0</td>\n",
       "    </tr>\n",
       "    <tr>\n",
       "      <th>58043</th>\n",
       "      <td>3.366491e+10</td>\n",
       "      <td>71766.0</td>\n",
       "    </tr>\n",
       "    <tr>\n",
       "      <th>79451</th>\n",
       "      <td>3.368207e+10</td>\n",
       "      <td>71635.0</td>\n",
       "    </tr>\n",
       "    <tr>\n",
       "      <th>21722</th>\n",
       "      <td>3.364688e+10</td>\n",
       "      <td>71537.0</td>\n",
       "    </tr>\n",
       "    <tr>\n",
       "      <th>71240</th>\n",
       "      <td>3.366916e+10</td>\n",
       "      <td>71409.0</td>\n",
       "    </tr>\n",
       "    <tr>\n",
       "      <th>86837</th>\n",
       "      <td>3.369891e+10</td>\n",
       "      <td>71130.0</td>\n",
       "    </tr>\n",
       "    <tr>\n",
       "      <th>24228</th>\n",
       "      <td>3.365031e+10</td>\n",
       "      <td>70999.0</td>\n",
       "    </tr>\n",
       "    <tr>\n",
       "      <th>16793</th>\n",
       "      <td>3.363254e+10</td>\n",
       "      <td>70450.0</td>\n",
       "    </tr>\n",
       "    <tr>\n",
       "      <th>36115</th>\n",
       "      <td>3.365951e+10</td>\n",
       "      <td>70344.0</td>\n",
       "    </tr>\n",
       "  </tbody>\n",
       "</table>\n",
       "</div>"
      ],
      "text/plain": [
       "       MSISDN/Number  Average Throughput\n",
       "89296   3.369967e+10             72416.0\n",
       "94398   3.376118e+10             71794.0\n",
       "58043   3.366491e+10             71766.0\n",
       "79451   3.368207e+10             71635.0\n",
       "21722   3.364688e+10             71537.0\n",
       "71240   3.366916e+10             71409.0\n",
       "86837   3.369891e+10             71130.0\n",
       "24228   3.365031e+10             70999.0\n",
       "16793   3.363254e+10             70450.0\n",
       "36115   3.365951e+10             70344.0"
      ]
     },
     "execution_count": 185,
     "metadata": {},
     "output_type": "execute_result"
    }
   ],
   "source": [
    "top_10_tp = ave_tp[:10]\n",
    "least_10_tp = ave_tp[-10:]\n",
    "# most_10_tp = ave_tp.mode()[:10]\n",
    "print('Top 10 TP')\n",
    "top_10_tp"
   ]
  },
  {
   "cell_type": "markdown",
   "id": "4436ced3",
   "metadata": {},
   "source": [
    "Bottom 10 Through put"
   ]
  },
  {
   "cell_type": "code",
   "execution_count": 186,
   "id": "82e27a75",
   "metadata": {},
   "outputs": [
    {
     "data": {
      "text/html": [
       "<div>\n",
       "<style scoped>\n",
       "    .dataframe tbody tr th:only-of-type {\n",
       "        vertical-align: middle;\n",
       "    }\n",
       "\n",
       "    .dataframe tbody tr th {\n",
       "        vertical-align: top;\n",
       "    }\n",
       "\n",
       "    .dataframe thead th {\n",
       "        text-align: right;\n",
       "    }\n",
       "</style>\n",
       "<table border=\"1\" class=\"dataframe\">\n",
       "  <thead>\n",
       "    <tr style=\"text-align: right;\">\n",
       "      <th></th>\n",
       "      <th>MSISDN/Number</th>\n",
       "      <th>Average Throughput</th>\n",
       "    </tr>\n",
       "  </thead>\n",
       "  <tbody>\n",
       "    <tr>\n",
       "      <th>94744</th>\n",
       "      <td>3.376131e+10</td>\n",
       "      <td>0.0</td>\n",
       "    </tr>\n",
       "    <tr>\n",
       "      <th>28745</th>\n",
       "      <td>3.365279e+10</td>\n",
       "      <td>0.0</td>\n",
       "    </tr>\n",
       "    <tr>\n",
       "      <th>34096</th>\n",
       "      <td>3.365908e+10</td>\n",
       "      <td>0.0</td>\n",
       "    </tr>\n",
       "    <tr>\n",
       "      <th>93060</th>\n",
       "      <td>3.376059e+10</td>\n",
       "      <td>0.0</td>\n",
       "    </tr>\n",
       "    <tr>\n",
       "      <th>857</th>\n",
       "      <td>3.360345e+10</td>\n",
       "      <td>0.0</td>\n",
       "    </tr>\n",
       "    <tr>\n",
       "      <th>94815</th>\n",
       "      <td>3.376134e+10</td>\n",
       "      <td>0.0</td>\n",
       "    </tr>\n",
       "    <tr>\n",
       "      <th>80273</th>\n",
       "      <td>3.368377e+10</td>\n",
       "      <td>0.0</td>\n",
       "    </tr>\n",
       "    <tr>\n",
       "      <th>71499</th>\n",
       "      <td>3.366924e+10</td>\n",
       "      <td>0.0</td>\n",
       "    </tr>\n",
       "    <tr>\n",
       "      <th>71456</th>\n",
       "      <td>3.366923e+10</td>\n",
       "      <td>0.0</td>\n",
       "    </tr>\n",
       "    <tr>\n",
       "      <th>32396</th>\n",
       "      <td>3.365873e+10</td>\n",
       "      <td>0.0</td>\n",
       "    </tr>\n",
       "  </tbody>\n",
       "</table>\n",
       "</div>"
      ],
      "text/plain": [
       "       MSISDN/Number  Average Throughput\n",
       "94744   3.376131e+10                 0.0\n",
       "28745   3.365279e+10                 0.0\n",
       "34096   3.365908e+10                 0.0\n",
       "93060   3.376059e+10                 0.0\n",
       "857     3.360345e+10                 0.0\n",
       "94815   3.376134e+10                 0.0\n",
       "80273   3.368377e+10                 0.0\n",
       "71499   3.366924e+10                 0.0\n",
       "71456   3.366923e+10                 0.0\n",
       "32396   3.365873e+10                 0.0"
      ]
     },
     "execution_count": 186,
     "metadata": {},
     "output_type": "execute_result"
    }
   ],
   "source": [
    "least_10_tp"
   ]
  },
  {
   "cell_type": "markdown",
   "id": "0ed5a208",
   "metadata": {},
   "source": [
    "Apparently, Many Customers have an average Throughput of 0.0\n",
    "\n",
    "Most 10 Handset Type"
   ]
  },
  {
   "cell_type": "code",
   "execution_count": 187,
   "id": "f2c126ce",
   "metadata": {},
   "outputs": [
    {
     "data": {
      "text/html": [
       "<div>\n",
       "<style scoped>\n",
       "    .dataframe tbody tr th:only-of-type {\n",
       "        vertical-align: middle;\n",
       "    }\n",
       "\n",
       "    .dataframe tbody tr th {\n",
       "        vertical-align: top;\n",
       "    }\n",
       "\n",
       "    .dataframe thead th {\n",
       "        text-align: right;\n",
       "    }\n",
       "</style>\n",
       "<table border=\"1\" class=\"dataframe\">\n",
       "  <thead>\n",
       "    <tr style=\"text-align: right;\">\n",
       "      <th></th>\n",
       "      <th>MSISDN/Number</th>\n",
       "      <th>Handset Type</th>\n",
       "    </tr>\n",
       "  </thead>\n",
       "  <tbody>\n",
       "    <tr>\n",
       "      <th>13526</th>\n",
       "      <td>3.362632e+10</td>\n",
       "      <td>1083</td>\n",
       "    </tr>\n",
       "    <tr>\n",
       "      <th>13180</th>\n",
       "      <td>3.362578e+10</td>\n",
       "      <td>17</td>\n",
       "    </tr>\n",
       "    <tr>\n",
       "      <th>6437</th>\n",
       "      <td>3.361489e+10</td>\n",
       "      <td>17</td>\n",
       "    </tr>\n",
       "    <tr>\n",
       "      <th>37052</th>\n",
       "      <td>3.365973e+10</td>\n",
       "      <td>16</td>\n",
       "    </tr>\n",
       "    <tr>\n",
       "      <th>92923</th>\n",
       "      <td>3.376054e+10</td>\n",
       "      <td>15</td>\n",
       "    </tr>\n",
       "    <tr>\n",
       "      <th>76363</th>\n",
       "      <td>3.367588e+10</td>\n",
       "      <td>15</td>\n",
       "    </tr>\n",
       "    <tr>\n",
       "      <th>65118</th>\n",
       "      <td>3.366716e+10</td>\n",
       "      <td>13</td>\n",
       "    </tr>\n",
       "    <tr>\n",
       "      <th>13994</th>\n",
       "      <td>3.362708e+10</td>\n",
       "      <td>12</td>\n",
       "    </tr>\n",
       "    <tr>\n",
       "      <th>1279</th>\n",
       "      <td>3.360452e+10</td>\n",
       "      <td>12</td>\n",
       "    </tr>\n",
       "    <tr>\n",
       "      <th>92577</th>\n",
       "      <td>3.376041e+10</td>\n",
       "      <td>12</td>\n",
       "    </tr>\n",
       "  </tbody>\n",
       "</table>\n",
       "</div>"
      ],
      "text/plain": [
       "       MSISDN/Number  Handset Type\n",
       "13526   3.362632e+10          1083\n",
       "13180   3.362578e+10            17\n",
       "6437    3.361489e+10            17\n",
       "37052   3.365973e+10            16\n",
       "92923   3.376054e+10            15\n",
       "76363   3.367588e+10            15\n",
       "65118   3.366716e+10            13\n",
       "13994   3.362708e+10            12\n",
       "1279    3.360452e+10            12\n",
       "92577   3.376041e+10            12"
      ]
     },
     "execution_count": 187,
     "metadata": {},
     "output_type": "execute_result"
    }
   ],
   "source": [
    "handset_type[:10]"
   ]
  },
  {
   "cell_type": "markdown",
   "id": "69c790cf",
   "metadata": {},
   "source": [
    "Am surprised, 1 customer used 1083 diffrent phones. Wow\n",
    "\n",
    "The distribution of the average throughput per handset type and provide interpretation for your findings. \n",
    "<h1>Task 3.3 - Compute & report"
   ]
  },
  {
   "cell_type": "code",
   "execution_count": 188,
   "id": "f80de6ba",
   "metadata": {},
   "outputs": [
    {
     "data": {
      "text/html": [
       "<div>\n",
       "<style scoped>\n",
       "    .dataframe tbody tr th:only-of-type {\n",
       "        vertical-align: middle;\n",
       "    }\n",
       "\n",
       "    .dataframe tbody tr th {\n",
       "        vertical-align: top;\n",
       "    }\n",
       "\n",
       "    .dataframe thead th {\n",
       "        text-align: right;\n",
       "    }\n",
       "</style>\n",
       "<table border=\"1\" class=\"dataframe\">\n",
       "  <thead>\n",
       "    <tr style=\"text-align: right;\">\n",
       "      <th></th>\n",
       "      <th>Handset Type</th>\n",
       "      <th>Average TP per Handset</th>\n",
       "    </tr>\n",
       "  </thead>\n",
       "  <tbody>\n",
       "    <tr>\n",
       "      <th>966</th>\n",
       "      <td>Samsung Galaxy S9+</td>\n",
       "      <td>67383.0</td>\n",
       "    </tr>\n",
       "    <tr>\n",
       "      <th>124</th>\n",
       "      <td>Asustek Asus Ze550Kl Zenfone2 Laser</td>\n",
       "      <td>62989.0</td>\n",
       "    </tr>\n",
       "    <tr>\n",
       "      <th>349</th>\n",
       "      <td>Huawei E8372</td>\n",
       "      <td>58190.0</td>\n",
       "    </tr>\n",
       "    <tr>\n",
       "      <th>423</th>\n",
       "      <td>Huawei P9 Plus</td>\n",
       "      <td>56918.0</td>\n",
       "    </tr>\n",
       "    <tr>\n",
       "      <th>3</th>\n",
       "      <td>A-Link Telecom I. Cubot Nova</td>\n",
       "      <td>56217.0</td>\n",
       "    </tr>\n",
       "    <tr>\n",
       "      <th>1219</th>\n",
       "      <td>Tecno Telecom (H. Phantom6 Plus</td>\n",
       "      <td>54197.0</td>\n",
       "    </tr>\n",
       "    <tr>\n",
       "      <th>770</th>\n",
       "      <td>Oppo Cph1877</td>\n",
       "      <td>53058.0</td>\n",
       "    </tr>\n",
       "    <tr>\n",
       "      <th>95</th>\n",
       "      <td>Archos Sa 55 Diamond Selfie ( Lite)</td>\n",
       "      <td>51797.0</td>\n",
       "    </tr>\n",
       "    <tr>\n",
       "      <th>489</th>\n",
       "      <td>Kvd Internationa. Doogee S55 Lite</td>\n",
       "      <td>51389.0</td>\n",
       "    </tr>\n",
       "    <tr>\n",
       "      <th>1384</th>\n",
       "      <td>Zte Blade V8 Blade V8</td>\n",
       "      <td>50950.0</td>\n",
       "    </tr>\n",
       "  </tbody>\n",
       "</table>\n",
       "</div>"
      ],
      "text/plain": [
       "                             Handset Type  Average TP per Handset\n",
       "966                    Samsung Galaxy S9+                 67383.0\n",
       "124   Asustek Asus Ze550Kl Zenfone2 Laser                 62989.0\n",
       "349                          Huawei E8372                 58190.0\n",
       "423                        Huawei P9 Plus                 56918.0\n",
       "3            A-Link Telecom I. Cubot Nova                 56217.0\n",
       "1219      Tecno Telecom (H. Phantom6 Plus                 54197.0\n",
       "770                          Oppo Cph1877                 53058.0\n",
       "95    Archos Sa 55 Diamond Selfie ( Lite)                 51797.0\n",
       "489     Kvd Internationa. Doogee S55 Lite                 51389.0\n",
       "1384                Zte Blade V8 Blade V8                 50950.0"
      ]
     },
     "execution_count": 188,
     "metadata": {},
     "output_type": "execute_result"
    }
   ],
   "source": [
    "handset_tp = df.groupby('Handset Type')['Total Bearer TP DL and UL'].mean().reset_index(name='Average TP per Handset').\\\n",
    "                                    sort_values(by='Average TP per Handset', ascending=False)\n",
    "handset_tp[:10]\n"
   ]
  },
  {
   "cell_type": "code",
   "execution_count": 189,
   "id": "cfb67e21",
   "metadata": {},
   "outputs": [
    {
     "data": {
      "image/png": "[encoded data removed]",
      "text/plain": [
       "<Figure size 720x504 with 1 Axes>"
      ]
     },
     "metadata": {},
     "output_type": "display_data"
    }
   ],
   "source": [
    "plt.figure(figsize=(10, 7))\n",
    "sns.barplot(data = handset_tp[:10], x='Handset Type', y='Average TP per Handset')\n",
    "plt.title('Top 10 Handset Type based on TP Download and Upload', size=20)\n",
    "plt.xticks(rotation=75, fontsize=14)\n",
    "plt.yticks( fontsize=14)\n",
    "plt.xlabel('Handset Type', fontsize=16)\n",
    "plt.ylabel('Average TP per Handset', fontsize=16)\n",
    "plt.show()"
   ]
  },
  {
   "cell_type": "markdown",
   "id": "196fbf8b",
   "metadata": {},
   "source": [
    "Interpretation:: Huawei phones seems to have poor connection most times has many of such phone (huawei) has higher retransmission rates"
   ]
  },
  {
   "cell_type": "markdown",
   "id": "f29ca475",
   "metadata": {},
   "source": [
    "Task 3.4\n",
    "Using the experience metrics above, perform a ​ k-​means clustering (where ​ k = 3) to segment users into groups of experices and provide a brief description of each cluster  "
   ]
  },
  {
   "cell_type": "code",
   "execution_count": 190,
   "id": "d5e12f3b",
   "metadata": {},
   "outputs": [
    {
     "data": {
      "text/html": [
       "<div>\n",
       "<style scoped>\n",
       "    .dataframe tbody tr th:only-of-type {\n",
       "        vertical-align: middle;\n",
       "    }\n",
       "\n",
       "    .dataframe tbody tr th {\n",
       "        vertical-align: top;\n",
       "    }\n",
       "\n",
       "    .dataframe thead th {\n",
       "        text-align: right;\n",
       "    }\n",
       "</style>\n",
       "<table border=\"1\" class=\"dataframe\">\n",
       "  <thead>\n",
       "    <tr style=\"text-align: right;\">\n",
       "      <th></th>\n",
       "      <th>Total Bearer TP DL and UL</th>\n",
       "      <th>Total RTT DL and UL</th>\n",
       "      <th>Total TCP DL and UL</th>\n",
       "    </tr>\n",
       "  </thead>\n",
       "  <tbody>\n",
       "    <tr>\n",
       "      <th>0</th>\n",
       "      <td>67.0</td>\n",
       "      <td>47.000000</td>\n",
       "      <td>3.451561e+06</td>\n",
       "    </tr>\n",
       "    <tr>\n",
       "      <th>1</th>\n",
       "      <td>42.0</td>\n",
       "      <td>70.000000</td>\n",
       "      <td>3.451561e+06</td>\n",
       "    </tr>\n",
       "    <tr>\n",
       "      <th>2</th>\n",
       "      <td>15.0</td>\n",
       "      <td>65.075822</td>\n",
       "      <td>3.451561e+06</td>\n",
       "    </tr>\n",
       "    <tr>\n",
       "      <th>3</th>\n",
       "      <td>88.0</td>\n",
       "      <td>65.075822</td>\n",
       "      <td>3.451561e+06</td>\n",
       "    </tr>\n",
       "    <tr>\n",
       "      <th>4</th>\n",
       "      <td>15.0</td>\n",
       "      <td>65.075822</td>\n",
       "      <td>3.451561e+06</td>\n",
       "    </tr>\n",
       "  </tbody>\n",
       "</table>\n",
       "</div>"
      ],
      "text/plain": [
       "   Total Bearer TP DL and UL  Total RTT DL and UL  Total TCP DL and UL\n",
       "0                       67.0            47.000000         3.451561e+06\n",
       "1                       42.0            70.000000         3.451561e+06\n",
       "2                       15.0            65.075822         3.451561e+06\n",
       "3                       88.0            65.075822         3.451561e+06\n",
       "4                       15.0            65.075822         3.451561e+06"
      ]
     },
     "execution_count": 190,
     "metadata": {},
     "output_type": "execute_result"
    }
   ],
   "source": [
    "df_experience = df[experience_features]\n",
    "df_experience.head()"
   ]
  },
  {
   "cell_type": "markdown",
   "id": "61fbefd5",
   "metadata": {},
   "source": [
    "For Ease of Use and Simplicity, i will standardize the data and convert Handset Type to numerical values by encoding where 1 - Samsung Galaxy A5 Sm-A520F etc. i will also drop MSISDN/Number when doing the clustering has it wont add any value to how it should be clustered."
   ]
  },
  {
   "cell_type": "code",
   "execution_count": 191,
   "id": "c5f3f2d8",
   "metadata": {},
   "outputs": [],
   "source": [
    "from sklearn.preprocessing import StandardScaler\n",
    "scaler = StandardScaler()\n",
    "df_exp = df_experience.copy()\n",
    "X = scaler.fit_transform(df_exp)"
   ]
  },
  {
   "cell_type": "code",
   "execution_count": 192,
   "id": "b17f00d7",
   "metadata": {},
   "outputs": [],
   "source": [
    "# initialize kmeans\n",
    "kmeans = KMeans(n_clusters=3, init='k-means++', random_state=21)"
   ]
  },
  {
   "cell_type": "code",
   "execution_count": 193,
   "id": "a1596aa3",
   "metadata": {},
   "outputs": [
    {
     "data": {
      "text/html": [
       "<style>#sk-container-id-7 {color: black;background-color: white;}#sk-container-id-7 pre{padding: 0;}#sk-container-id-7 div.sk-toggleable {background-color: white;}#sk-container-id-7 label.sk-toggleable__label {cursor: pointer;display: block;width: 100%;margin-bottom: 0;padding: 0.3em;box-sizing: border-box;text-align: center;}#sk-container-id-7 label.sk-toggleable__label-arrow:before {content: \"▸\";float: left;margin-right: 0.25em;color: #696969;}#sk-container-id-7 label.sk-toggleable__label-arrow:hover:before {color: black;}#sk-container-id-7 div.sk-estimator:hover label.sk-toggleable__label-arrow:before {color: black;}#sk-container-id-7 div.sk-toggleable__content {max-height: 0;max-width: 0;overflow: hidden;text-align: left;background-color: #f0f8ff;}#sk-container-id-7 div.sk-toggleable__content pre {margin: 0.2em;color: black;border-radius: 0.25em;background-color: #f0f8ff;}#sk-container-id-7 input.sk-toggleable__control:checked~div.sk-toggleable__content {max-height: 200px;max-width: 100%;overflow: auto;}#sk-container-id-7 input.sk-toggleable__control:checked~label.sk-toggleable__label-arrow:before {content: \"▾\";}#sk-container-id-7 div.sk-estimator input.sk-toggleable__control:checked~label.sk-toggleable__label {background-color: #d4ebff;}#sk-container-id-7 div.sk-label input.sk-toggleable__control:checked~label.sk-toggleable__label {background-color: #d4ebff;}#sk-container-id-7 input.sk-hidden--visually {border: 0;clip: rect(1px 1px 1px 1px);clip: rect(1px, 1px, 1px, 1px);height: 1px;margin: -1px;overflow: hidden;padding: 0;position: absolute;width: 1px;}#sk-container-id-7 div.sk-estimator {font-family: monospace;background-color: #f0f8ff;border: 1px dotted black;border-radius: 0.25em;box-sizing: border-box;margin-bottom: 0.5em;}#sk-container-id-7 div.sk-estimator:hover {background-color: #d4ebff;}#sk-container-id-7 div.sk-parallel-item::after {content: \"\";width: 100%;border-bottom: 1px solid gray;flex-grow: 1;}#sk-container-id-7 div.sk-label:hover label.sk-toggleable__label {background-color: #d4ebff;}#sk-container-id-7 div.sk-serial::before {content: \"\";position: absolute;border-left: 1px solid gray;box-sizing: border-box;top: 0;bottom: 0;left: 50%;z-index: 0;}#sk-container-id-7 div.sk-serial {display: flex;flex-direction: column;align-items: center;background-color: white;padding-right: 0.2em;padding-left: 0.2em;position: relative;}#sk-container-id-7 div.sk-item {position: relative;z-index: 1;}#sk-container-id-7 div.sk-parallel {display: flex;align-items: stretch;justify-content: center;background-color: white;position: relative;}#sk-container-id-7 div.sk-item::before, #sk-container-id-7 div.sk-parallel-item::before {content: \"\";position: absolute;border-left: 1px solid gray;box-sizing: border-box;top: 0;bottom: 0;left: 50%;z-index: -1;}#sk-container-id-7 div.sk-parallel-item {display: flex;flex-direction: column;z-index: 1;position: relative;background-color: white;}#sk-container-id-7 div.sk-parallel-item:first-child::after {align-self: flex-end;width: 50%;}#sk-container-id-7 div.sk-parallel-item:last-child::after {align-self: flex-start;width: 50%;}#sk-container-id-7 div.sk-parallel-item:only-child::after {width: 0;}#sk-container-id-7 div.sk-dashed-wrapped {border: 1px dashed gray;margin: 0 0.4em 0.5em 0.4em;box-sizing: border-box;padding-bottom: 0.4em;background-color: white;}#sk-container-id-7 div.sk-label label {font-family: monospace;font-weight: bold;display: inline-block;line-height: 1.2em;}#sk-container-id-7 div.sk-label-container {text-align: center;}#sk-container-id-7 div.sk-container {/* jupyter's `normalize.less` sets `[hidden] { display: none; }` but bootstrap.min.css set `[hidden] { display: none !important; }` so we also need the `!important` here to be able to override the default hidden behavior on the sphinx rendered scikit-learn.org. See: https://github.com/scikit-learn/scikit-learn/issues/21755 */display: inline-block !important;position: relative;}#sk-container-id-7 div.sk-text-repr-fallback {display: none;}</style><div id=\"sk-container-id-7\" class=\"sk-top-container\"><div class=\"sk-text-repr-fallback\"><pre>KMeans(n_clusters=3, random_state=21)</pre><b>In a Jupyter environment, please rerun this cell to show the HTML representation or trust the notebook. <br />On GitHub, the HTML representation is unable to render, please try loading this page with nbviewer.org.</b></div><div class=\"sk-container\" hidden><div class=\"sk-item\"><div class=\"sk-estimator sk-toggleable\"><input class=\"sk-toggleable__control sk-hidden--visually\" id=\"sk-estimator-id-7\" type=\"checkbox\" checked><label for=\"sk-estimator-id-7\" class=\"sk-toggleable__label sk-toggleable__label-arrow\">KMeans</label><div class=\"sk-toggleable__content\"><pre>KMeans(n_clusters=3, random_state=21)</pre></div></div></div></div></div>"
      ],
      "text/plain": [
       "KMeans(n_clusters=3, random_state=21)"
      ]
     },
     "execution_count": 193,
     "metadata": {},
     "output_type": "execute_result"
    }
   ],
   "source": [
    "# divide into 3 cluster\n",
    "kmeans.fit(X)"
   ]
  },
  {
   "cell_type": "markdown",
   "id": "00c0dd30",
   "metadata": {},
   "source": [
    "<h1> Result Interpretation"
   ]
  },
  {
   "cell_type": "code",
   "execution_count": 194,
   "id": "718cf803",
   "metadata": {},
   "outputs": [],
   "source": [
    "# We create a new data frame with the original features and add a new column with the assigned clusters for each point.\n",
    "df_segm_kmeans = df_exp.copy()\n",
    "df_segm_kmeans['Segment K-means'] = kmeans.labels_"
   ]
  },
  {
   "cell_type": "code",
   "execution_count": 195,
   "id": "d53d7863",
   "metadata": {},
   "outputs": [
    {
     "data": {
      "text/html": [
       "<div>\n",
       "<style scoped>\n",
       "    .dataframe tbody tr th:only-of-type {\n",
       "        vertical-align: middle;\n",
       "    }\n",
       "\n",
       "    .dataframe tbody tr th {\n",
       "        vertical-align: top;\n",
       "    }\n",
       "\n",
       "    .dataframe thead th {\n",
       "        text-align: right;\n",
       "    }\n",
       "</style>\n",
       "<table border=\"1\" class=\"dataframe\">\n",
       "  <thead>\n",
       "    <tr style=\"text-align: right;\">\n",
       "      <th></th>\n",
       "      <th>Total Bearer TP DL and UL</th>\n",
       "      <th>Total RTT DL and UL</th>\n",
       "      <th>Total TCP DL and UL</th>\n",
       "    </tr>\n",
       "    <tr>\n",
       "      <th>Segment K-means</th>\n",
       "      <th></th>\n",
       "      <th></th>\n",
       "      <th></th>\n",
       "    </tr>\n",
       "  </thead>\n",
       "  <tbody>\n",
       "    <tr>\n",
       "      <th>0</th>\n",
       "      <td>33496.290302</td>\n",
       "      <td>102.964115</td>\n",
       "      <td>2.126620e+06</td>\n",
       "    </tr>\n",
       "    <tr>\n",
       "      <th>1</th>\n",
       "      <td>28963.426152</td>\n",
       "      <td>107.077561</td>\n",
       "      <td>1.872543e+07</td>\n",
       "    </tr>\n",
       "    <tr>\n",
       "      <th>2</th>\n",
       "      <td>1807.350747</td>\n",
       "      <td>51.838721</td>\n",
       "      <td>2.958258e+06</td>\n",
       "    </tr>\n",
       "  </tbody>\n",
       "</table>\n",
       "</div>"
      ],
      "text/plain": [
       "                 Total Bearer TP DL and UL  Total RTT DL and UL  \\\n",
       "Segment K-means                                                   \n",
       "0                             33496.290302           102.964115   \n",
       "1                             28963.426152           107.077561   \n",
       "2                              1807.350747            51.838721   \n",
       "\n",
       "                 Total TCP DL and UL  \n",
       "Segment K-means                       \n",
       "0                       2.126620e+06  \n",
       "1                       1.872543e+07  \n",
       "2                       2.958258e+06  "
      ]
     },
     "execution_count": 195,
     "metadata": {},
     "output_type": "execute_result"
    }
   ],
   "source": [
    "# Calculate mean values for the clusters\n",
    "df_segm_analysis = df_segm_kmeans.groupby(['Segment K-means']).mean()\n",
    "df_segm_analysis"
   ]
  },
  {
   "cell_type": "code",
   "execution_count": 196,
   "id": "5a4e407e",
   "metadata": {},
   "outputs": [
    {
     "data": {
      "text/html": [
       "<div>\n",
       "<style scoped>\n",
       "    .dataframe tbody tr th:only-of-type {\n",
       "        vertical-align: middle;\n",
       "    }\n",
       "\n",
       "    .dataframe tbody tr th {\n",
       "        vertical-align: top;\n",
       "    }\n",
       "\n",
       "    .dataframe thead th {\n",
       "        text-align: right;\n",
       "    }\n",
       "</style>\n",
       "<table border=\"1\" class=\"dataframe\">\n",
       "  <thead>\n",
       "    <tr style=\"text-align: right;\">\n",
       "      <th></th>\n",
       "      <th>Total Bearer TP DL and UL</th>\n",
       "      <th>Total RTT DL and UL</th>\n",
       "      <th>Total TCP DL and UL</th>\n",
       "    </tr>\n",
       "    <tr>\n",
       "      <th>Segment K-means</th>\n",
       "      <th></th>\n",
       "      <th></th>\n",
       "      <th></th>\n",
       "    </tr>\n",
       "  </thead>\n",
       "  <tbody>\n",
       "    <tr>\n",
       "      <th>0</th>\n",
       "      <td>33496.290302</td>\n",
       "      <td>102.964115</td>\n",
       "      <td>2.126620e+06</td>\n",
       "    </tr>\n",
       "    <tr>\n",
       "      <th>1</th>\n",
       "      <td>28963.426152</td>\n",
       "      <td>107.077561</td>\n",
       "      <td>1.872543e+07</td>\n",
       "    </tr>\n",
       "    <tr>\n",
       "      <th>2</th>\n",
       "      <td>1807.350747</td>\n",
       "      <td>51.838721</td>\n",
       "      <td>2.958258e+06</td>\n",
       "    </tr>\n",
       "  </tbody>\n",
       "</table>\n",
       "</div>"
      ],
      "text/plain": [
       "                 Total Bearer TP DL and UL  Total RTT DL and UL  \\\n",
       "Segment K-means                                                   \n",
       "0                             33496.290302           102.964115   \n",
       "1                             28963.426152           107.077561   \n",
       "2                              1807.350747            51.838721   \n",
       "\n",
       "                 Total TCP DL and UL  \n",
       "Segment K-means                       \n",
       "0                       2.126620e+06  \n",
       "1                       1.872543e+07  \n",
       "2                       2.958258e+06  "
      ]
     },
     "execution_count": 196,
     "metadata": {},
     "output_type": "execute_result"
    }
   ],
   "source": [
    "df_segm_analysis"
   ]
  },
  {
   "cell_type": "code",
   "execution_count": 197,
   "id": "f73151d5",
   "metadata": {},
   "outputs": [],
   "source": [
    "# Add the segment labels to our table\n",
    "df_segm_kmeans['Labels'] = df_segm_kmeans['Segment K-means'].map({0:'not-so-rich', \n",
    "                                                                  1:'standard',\n",
    "                                                                  2:'fewer opportunities', \n",
    "                                                                  })"
   ]
  },
  {
   "cell_type": "markdown",
   "id": "8b2d6a0f",
   "metadata": {},
   "source": [
    "<h1> Task 4 Satisfaction analysis"
   ]
  },
  {
   "cell_type": "markdown",
   "id": "31f23d61",
   "metadata": {},
   "source": [
    "Engagement Score for each User"
   ]
  },
  {
   "cell_type": "code",
   "execution_count": 209,
   "id": "629580f3",
   "metadata": {},
   "outputs": [
    {
     "data": {
      "text/html": [
       "<style>#sk-container-id-8 {color: black;background-color: white;}#sk-container-id-8 pre{padding: 0;}#sk-container-id-8 div.sk-toggleable {background-color: white;}#sk-container-id-8 label.sk-toggleable__label {cursor: pointer;display: block;width: 100%;margin-bottom: 0;padding: 0.3em;box-sizing: border-box;text-align: center;}#sk-container-id-8 label.sk-toggleable__label-arrow:before {content: \"▸\";float: left;margin-right: 0.25em;color: #696969;}#sk-container-id-8 label.sk-toggleable__label-arrow:hover:before {color: black;}#sk-container-id-8 div.sk-estimator:hover label.sk-toggleable__label-arrow:before {color: black;}#sk-container-id-8 div.sk-toggleable__content {max-height: 0;max-width: 0;overflow: hidden;text-align: left;background-color: #f0f8ff;}#sk-container-id-8 div.sk-toggleable__content pre {margin: 0.2em;color: black;border-radius: 0.25em;background-color: #f0f8ff;}#sk-container-id-8 input.sk-toggleable__control:checked~div.sk-toggleable__content {max-height: 200px;max-width: 100%;overflow: auto;}#sk-container-id-8 input.sk-toggleable__control:checked~label.sk-toggleable__label-arrow:before {content: \"▾\";}#sk-container-id-8 div.sk-estimator input.sk-toggleable__control:checked~label.sk-toggleable__label {background-color: #d4ebff;}#sk-container-id-8 div.sk-label input.sk-toggleable__control:checked~label.sk-toggleable__label {background-color: #d4ebff;}#sk-container-id-8 input.sk-hidden--visually {border: 0;clip: rect(1px 1px 1px 1px);clip: rect(1px, 1px, 1px, 1px);height: 1px;margin: -1px;overflow: hidden;padding: 0;position: absolute;width: 1px;}#sk-container-id-8 div.sk-estimator {font-family: monospace;background-color: #f0f8ff;border: 1px dotted black;border-radius: 0.25em;box-sizing: border-box;margin-bottom: 0.5em;}#sk-container-id-8 div.sk-estimator:hover {background-color: #d4ebff;}#sk-container-id-8 div.sk-parallel-item::after {content: \"\";width: 100%;border-bottom: 1px solid gray;flex-grow: 1;}#sk-container-id-8 div.sk-label:hover label.sk-toggleable__label {background-color: #d4ebff;}#sk-container-id-8 div.sk-serial::before {content: \"\";position: absolute;border-left: 1px solid gray;box-sizing: border-box;top: 0;bottom: 0;left: 50%;z-index: 0;}#sk-container-id-8 div.sk-serial {display: flex;flex-direction: column;align-items: center;background-color: white;padding-right: 0.2em;padding-left: 0.2em;position: relative;}#sk-container-id-8 div.sk-item {position: relative;z-index: 1;}#sk-container-id-8 div.sk-parallel {display: flex;align-items: stretch;justify-content: center;background-color: white;position: relative;}#sk-container-id-8 div.sk-item::before, #sk-container-id-8 div.sk-parallel-item::before {content: \"\";position: absolute;border-left: 1px solid gray;box-sizing: border-box;top: 0;bottom: 0;left: 50%;z-index: -1;}#sk-container-id-8 div.sk-parallel-item {display: flex;flex-direction: column;z-index: 1;position: relative;background-color: white;}#sk-container-id-8 div.sk-parallel-item:first-child::after {align-self: flex-end;width: 50%;}#sk-container-id-8 div.sk-parallel-item:last-child::after {align-self: flex-start;width: 50%;}#sk-container-id-8 div.sk-parallel-item:only-child::after {width: 0;}#sk-container-id-8 div.sk-dashed-wrapped {border: 1px dashed gray;margin: 0 0.4em 0.5em 0.4em;box-sizing: border-box;padding-bottom: 0.4em;background-color: white;}#sk-container-id-8 div.sk-label label {font-family: monospace;font-weight: bold;display: inline-block;line-height: 1.2em;}#sk-container-id-8 div.sk-label-container {text-align: center;}#sk-container-id-8 div.sk-container {/* jupyter's `normalize.less` sets `[hidden] { display: none; }` but bootstrap.min.css set `[hidden] { display: none !important; }` so we also need the `!important` here to be able to override the default hidden behavior on the sphinx rendered scikit-learn.org. See: https://github.com/scikit-learn/scikit-learn/issues/21755 */display: inline-block !important;position: relative;}#sk-container-id-8 div.sk-text-repr-fallback {display: none;}</style><div id=\"sk-container-id-8\" class=\"sk-top-container\"><div class=\"sk-text-repr-fallback\"><pre>KMeans(n_clusters=3, random_state=221)</pre><b>In a Jupyter environment, please rerun this cell to show the HTML representation or trust the notebook. <br />On GitHub, the HTML representation is unable to render, please try loading this page with nbviewer.org.</b></div><div class=\"sk-container\" hidden><div class=\"sk-item\"><div class=\"sk-estimator sk-toggleable\"><input class=\"sk-toggleable__control sk-hidden--visually\" id=\"sk-estimator-id-8\" type=\"checkbox\" checked><label for=\"sk-estimator-id-8\" class=\"sk-toggleable__label sk-toggleable__label-arrow\">KMeans</label><div class=\"sk-toggleable__content\"><pre>KMeans(n_clusters=3, random_state=221)</pre></div></div></div></div></div>"
      ],
      "text/plain": [
       "KMeans(n_clusters=3, random_state=221)"
      ]
     },
     "execution_count": 209,
     "metadata": {},
     "output_type": "execute_result"
    }
   ],
   "source": [
    "kmeans = KMeans(n_clusters=3, init='k-means++', random_state=221)\n",
    "kmeans.fit(df_metrics_norm)"
   ]
  },
  {
   "cell_type": "code",
   "execution_count": 210,
   "id": "3db0e641",
   "metadata": {},
   "outputs": [
    {
     "data": {
      "text/html": [
       "<div>\n",
       "<style scoped>\n",
       "    .dataframe tbody tr th:only-of-type {\n",
       "        vertical-align: middle;\n",
       "    }\n",
       "\n",
       "    .dataframe tbody tr th {\n",
       "        vertical-align: top;\n",
       "    }\n",
       "\n",
       "    .dataframe thead th {\n",
       "        text-align: right;\n",
       "    }\n",
       "</style>\n",
       "<table border=\"1\" class=\"dataframe\">\n",
       "  <thead>\n",
       "    <tr style=\"text-align: right;\">\n",
       "      <th></th>\n",
       "      <th>Total Download and Upload</th>\n",
       "      <th>xDR Session</th>\n",
       "      <th>session duration</th>\n",
       "    </tr>\n",
       "    <tr>\n",
       "      <th>Cluster K-means</th>\n",
       "      <th></th>\n",
       "      <th></th>\n",
       "      <th></th>\n",
       "    </tr>\n",
       "  </thead>\n",
       "  <tbody>\n",
       "    <tr>\n",
       "      <th>0</th>\n",
       "      <td>0.278013</td>\n",
       "      <td>0.000797</td>\n",
       "      <td>0.002542</td>\n",
       "    </tr>\n",
       "    <tr>\n",
       "      <th>1</th>\n",
       "      <td>0.734680</td>\n",
       "      <td>0.000789</td>\n",
       "      <td>0.002543</td>\n",
       "    </tr>\n",
       "    <tr>\n",
       "      <th>2</th>\n",
       "      <td>0.529603</td>\n",
       "      <td>1.000000</td>\n",
       "      <td>1.000000</td>\n",
       "    </tr>\n",
       "  </tbody>\n",
       "</table>\n",
       "</div>"
      ],
      "text/plain": [
       "                 Total Download and Upload  xDR Session  session duration\n",
       "Cluster K-means                                                          \n",
       "0                                 0.278013     0.000797          0.002542\n",
       "1                                 0.734680     0.000789          0.002543\n",
       "2                                 0.529603     1.000000          1.000000"
      ]
     },
     "execution_count": 210,
     "metadata": {},
     "output_type": "execute_result"
    }
   ],
   "source": [
    "df_metrics_norm['Cluster K-means'] = kmeans.labels_\n",
    "df_metrics_norm.groupby('Cluster K-means').mean()"
   ]
  },
  {
   "cell_type": "code",
   "execution_count": 211,
   "id": "c6873735",
   "metadata": {},
   "outputs": [
    {
     "data": {
      "text/html": [
       "<div>\n",
       "<style scoped>\n",
       "    .dataframe tbody tr th:only-of-type {\n",
       "        vertical-align: middle;\n",
       "    }\n",
       "\n",
       "    .dataframe tbody tr th {\n",
       "        vertical-align: top;\n",
       "    }\n",
       "\n",
       "    .dataframe thead th {\n",
       "        text-align: right;\n",
       "    }\n",
       "</style>\n",
       "<table border=\"1\" class=\"dataframe\">\n",
       "  <thead>\n",
       "    <tr style=\"text-align: right;\">\n",
       "      <th></th>\n",
       "      <th>Type1</th>\n",
       "      <th>Type2</th>\n",
       "      <th>Type3</th>\n",
       "      <th>id</th>\n",
       "      <th>cluster</th>\n",
       "      <th>dist_0</th>\n",
       "      <th>dist_1</th>\n",
       "      <th>dist_2</th>\n",
       "      <th>dist_3</th>\n",
       "      <th>dist_4</th>\n",
       "    </tr>\n",
       "  </thead>\n",
       "  <tbody>\n",
       "    <tr>\n",
       "      <th>0</th>\n",
       "      <td>0.0</td>\n",
       "      <td>0.00</td>\n",
       "      <td>0.00</td>\n",
       "      <td>1000</td>\n",
       "      <td>4</td>\n",
       "      <td>524.900000</td>\n",
       "      <td>505.540819</td>\n",
       "      <td>6.372000e+01</td>\n",
       "      <td>1008.915877</td>\n",
       "      <td>0.000000</td>\n",
       "    </tr>\n",
       "    <tr>\n",
       "      <th>1</th>\n",
       "      <td>0.0</td>\n",
       "      <td>63.72</td>\n",
       "      <td>0.00</td>\n",
       "      <td>10001</td>\n",
       "      <td>2</td>\n",
       "      <td>461.180000</td>\n",
       "      <td>487.295802</td>\n",
       "      <td>2.842171e-14</td>\n",
       "      <td>946.066195</td>\n",
       "      <td>63.720000</td>\n",
       "    </tr>\n",
       "    <tr>\n",
       "      <th>2</th>\n",
       "      <td>473.6</td>\n",
       "      <td>174.00</td>\n",
       "      <td>31.60</td>\n",
       "      <td>10002</td>\n",
       "      <td>1</td>\n",
       "      <td>590.276486</td>\n",
       "      <td>0.000000</td>\n",
       "      <td>4.872958e+02</td>\n",
       "      <td>957.446929</td>\n",
       "      <td>505.540819</td>\n",
       "    </tr>\n",
       "    <tr>\n",
       "      <th>3</th>\n",
       "      <td>0.0</td>\n",
       "      <td>996.00</td>\n",
       "      <td>160.92</td>\n",
       "      <td>10003</td>\n",
       "      <td>3</td>\n",
       "      <td>497.825729</td>\n",
       "      <td>957.446929</td>\n",
       "      <td>9.460662e+02</td>\n",
       "      <td>0.000000</td>\n",
       "      <td>1008.915877</td>\n",
       "    </tr>\n",
       "    <tr>\n",
       "      <th>4</th>\n",
       "      <td>0.0</td>\n",
       "      <td>524.90</td>\n",
       "      <td>0.00</td>\n",
       "      <td>10004</td>\n",
       "      <td>0</td>\n",
       "      <td>0.000000</td>\n",
       "      <td>590.276486</td>\n",
       "      <td>4.611800e+02</td>\n",
       "      <td>497.825729</td>\n",
       "      <td>524.900000</td>\n",
       "    </tr>\n",
       "  </tbody>\n",
       "</table>\n",
       "</div>"
      ],
      "text/plain": [
       "   Type1   Type2   Type3     id  cluster      dist_0      dist_1  \\\n",
       "0    0.0    0.00    0.00   1000        4  524.900000  505.540819   \n",
       "1    0.0   63.72    0.00  10001        2  461.180000  487.295802   \n",
       "2  473.6  174.00   31.60  10002        1  590.276486    0.000000   \n",
       "3    0.0  996.00  160.92  10003        3  497.825729  957.446929   \n",
       "4    0.0  524.90    0.00  10004        0    0.000000  590.276486   \n",
       "\n",
       "         dist_2       dist_3       dist_4  \n",
       "0  6.372000e+01  1008.915877     0.000000  \n",
       "1  2.842171e-14   946.066195    63.720000  \n",
       "2  4.872958e+02   957.446929   505.540819  \n",
       "3  9.460662e+02     0.000000  1008.915877  \n",
       "4  4.611800e+02   497.825729   524.900000  "
      ]
     },
     "execution_count": 211,
     "metadata": {},
     "output_type": "execute_result"
    }
   ],
   "source": [
    "import scipy.spatial.distance as sdist\n",
    "data = pd.DataFrame({'Type1': [0.0,0.0,473.6, 0.0, 0.0],\n",
    "                    'Type2': [0.0, 63.72, 174.0, 996.0, 524.9],\n",
    "                    'Type3': [0.0, 0.0, 31.6, 160.92, 0.0],\n",
    "                    'id': [1000, 10001, 10002, 10003, 10004]})\n",
    "points = data.drop('id', axis=1)\n",
    "k_means = KMeans(n_clusters=5, random_state=0).fit(points)\n",
    "data['cluster'] = k_means.labels_\n",
    "centroids = k_means.cluster_centers_\n",
    "dists = pd.DataFrame(sdist.cdist(points, centroids),\n",
    "                    columns=['dist_{}'.format(i) for i in range(len(centroids))],\n",
    "                    index=data.index)\n",
    "data = pd.concat([data, dists], axis=1)\n",
    "\n",
    "data"
   ]
  },
  {
   "cell_type": "markdown",
   "id": "dc5e7fcc",
   "metadata": {},
   "source": [
    "kmeans_eng.cluster_centers_"
   ]
  },
  {
   "cell_type": "code",
   "execution_count": 213,
   "id": "362c7afd",
   "metadata": {},
   "outputs": [],
   "source": [
    "from scipy.spatial import distance as sdist\n",
    "df_metrics1 = df[['Total Download and Upload', 'xDR Session', 'session duration']]\n",
    "df_metric_norm = pd.DataFrame(scaler.fit_transform(df_metrics1), columns=df_metrics1.columns)\n",
    "kmeans_eng = KMeans(n_clusters=3, random_state=21).fit(df_metric_norm)"
   ]
  },
  {
   "cell_type": "code",
   "execution_count": 214,
   "id": "6b1b9b9c",
   "metadata": {},
   "outputs": [
    {
     "data": {
      "text/html": [
       "<div>\n",
       "<style scoped>\n",
       "    .dataframe tbody tr th:only-of-type {\n",
       "        vertical-align: middle;\n",
       "    }\n",
       "\n",
       "    .dataframe tbody tr th {\n",
       "        vertical-align: top;\n",
       "    }\n",
       "\n",
       "    .dataframe thead th {\n",
       "        text-align: right;\n",
       "    }\n",
       "</style>\n",
       "<table border=\"1\" class=\"dataframe\">\n",
       "  <thead>\n",
       "    <tr style=\"text-align: right;\">\n",
       "      <th></th>\n",
       "      <th>Total Download and Upload</th>\n",
       "      <th>xDR Session</th>\n",
       "      <th>session duration</th>\n",
       "    </tr>\n",
       "  </thead>\n",
       "  <tbody>\n",
       "    <tr>\n",
       "      <th>0</th>\n",
       "      <td>345629377.0</td>\n",
       "      <td>2</td>\n",
       "      <td>2083209.0</td>\n",
       "    </tr>\n",
       "    <tr>\n",
       "      <th>1</th>\n",
       "      <td>707185356.0</td>\n",
       "      <td>2</td>\n",
       "      <td>1698167.0</td>\n",
       "    </tr>\n",
       "  </tbody>\n",
       "</table>\n",
       "</div>"
      ],
      "text/plain": [
       "   Total Download and Upload  xDR Session  session duration\n",
       "0                345629377.0            2         2083209.0\n",
       "1                707185356.0            2         1698167.0"
      ]
     },
     "execution_count": 214,
     "metadata": {},
     "output_type": "execute_result"
    }
   ],
   "source": [
    "df_metrics1.head(2)"
   ]
  },
  {
   "cell_type": "code",
   "execution_count": 215,
   "id": "92b92e19",
   "metadata": {},
   "outputs": [],
   "source": [
    "from scipy.spatial import distance\n",
    "engagement_score = []\n",
    "# select the least cluster\n",
    "centroids_eng = kmeans_eng.cluster_centers_[:,1]\n",
    "for i in df_metrics1.index:\n",
    "    row = df_metrics1.iloc[i][1]\n",
    "    engagement_score.append(distance.euclidean(row, centroids_eng))"
   ]
  },
  {
   "cell_type": "code",
   "execution_count": 216,
   "id": "10cbe81c",
   "metadata": {},
   "outputs": [
    {
     "data": {
      "text/plain": [
       "[10.16235774175408,\n",
       " 10.16235774175408,\n",
       " 10.83432399360195,\n",
       " 10.83432399360195,\n",
       " 10.83432399360195,\n",
       " 9.755226975546972,\n",
       " 10.83432399360195,\n",
       " 10.16235774175408]"
      ]
     },
     "execution_count": 216,
     "metadata": {},
     "output_type": "execute_result"
    }
   ],
   "source": [
    "engagement_score[:8]"
   ]
  },
  {
   "cell_type": "markdown",
   "id": "88682513",
   "metadata": {},
   "source": [
    "<h1>Experience score to each user"
   ]
  },
  {
   "cell_type": "code",
   "execution_count": 217,
   "id": "1c248fad",
   "metadata": {},
   "outputs": [
    {
     "data": {
      "text/html": [
       "<div>\n",
       "<style scoped>\n",
       "    .dataframe tbody tr th:only-of-type {\n",
       "        vertical-align: middle;\n",
       "    }\n",
       "\n",
       "    .dataframe tbody tr th {\n",
       "        vertical-align: top;\n",
       "    }\n",
       "\n",
       "    .dataframe thead th {\n",
       "        text-align: right;\n",
       "    }\n",
       "</style>\n",
       "<table border=\"1\" class=\"dataframe\">\n",
       "  <thead>\n",
       "    <tr style=\"text-align: right;\">\n",
       "      <th></th>\n",
       "      <th>Total Bearer TP DL and UL</th>\n",
       "      <th>Total RTT DL and UL</th>\n",
       "      <th>Total TCP DL and UL</th>\n",
       "    </tr>\n",
       "  </thead>\n",
       "  <tbody>\n",
       "    <tr>\n",
       "      <th>0</th>\n",
       "      <td>67.0</td>\n",
       "      <td>47.0</td>\n",
       "      <td>3.451561e+06</td>\n",
       "    </tr>\n",
       "    <tr>\n",
       "      <th>1</th>\n",
       "      <td>42.0</td>\n",
       "      <td>70.0</td>\n",
       "      <td>3.451561e+06</td>\n",
       "    </tr>\n",
       "  </tbody>\n",
       "</table>\n",
       "</div>"
      ],
      "text/plain": [
       "   Total Bearer TP DL and UL  Total RTT DL and UL  Total TCP DL and UL\n",
       "0                       67.0                 47.0         3.451561e+06\n",
       "1                       42.0                 70.0         3.451561e+06"
      ]
     },
     "execution_count": 217,
     "metadata": {},
     "output_type": "execute_result"
    }
   ],
   "source": [
    "df_exp.head(2)"
   ]
  },
  {
   "cell_type": "markdown",
   "id": "59a27566",
   "metadata": {},
   "source": [
    "variable X is the standardized experience dataframe"
   ]
  },
  {
   "cell_type": "code",
   "execution_count": 218,
   "id": "ecc4a57f",
   "metadata": {},
   "outputs": [
    {
     "data": {
      "text/html": [
       "<div>\n",
       "<style scoped>\n",
       "    .dataframe tbody tr th:only-of-type {\n",
       "        vertical-align: middle;\n",
       "    }\n",
       "\n",
       "    .dataframe tbody tr th {\n",
       "        vertical-align: top;\n",
       "    }\n",
       "\n",
       "    .dataframe thead th {\n",
       "        text-align: right;\n",
       "    }\n",
       "</style>\n",
       "<table border=\"1\" class=\"dataframe\">\n",
       "  <thead>\n",
       "    <tr style=\"text-align: right;\">\n",
       "      <th></th>\n",
       "      <th>Total Bearer TP DL and UL</th>\n",
       "      <th>Total RTT DL and UL</th>\n",
       "      <th>Total TCP DL and UL</th>\n",
       "      <th>Labels</th>\n",
       "    </tr>\n",
       "  </thead>\n",
       "  <tbody>\n",
       "    <tr>\n",
       "      <th>0</th>\n",
       "      <td>-0.585221</td>\n",
       "      <td>-0.448287</td>\n",
       "      <td>-1.211138e-16</td>\n",
       "      <td>1</td>\n",
       "    </tr>\n",
       "    <tr>\n",
       "      <th>1</th>\n",
       "      <td>-0.586738</td>\n",
       "      <td>0.122121</td>\n",
       "      <td>-1.211138e-16</td>\n",
       "      <td>1</td>\n",
       "    </tr>\n",
       "    <tr>\n",
       "      <th>2</th>\n",
       "      <td>-0.588377</td>\n",
       "      <td>0.000000</td>\n",
       "      <td>-1.211138e-16</td>\n",
       "      <td>1</td>\n",
       "    </tr>\n",
       "  </tbody>\n",
       "</table>\n",
       "</div>"
      ],
      "text/plain": [
       "   Total Bearer TP DL and UL  Total RTT DL and UL  Total TCP DL and UL  Labels\n",
       "0                  -0.585221            -0.448287        -1.211138e-16       1\n",
       "1                  -0.586738             0.122121        -1.211138e-16       1\n",
       "2                  -0.588377             0.000000        -1.211138e-16       1"
      ]
     },
     "execution_count": 218,
     "metadata": {},
     "output_type": "execute_result"
    }
   ],
   "source": [
    "# scale df_exp\n",
    "df_exp_scaled = pd.DataFrame(scaler.fit_transform(df_exp), columns=df_exp.columns)\n",
    "\n",
    "# initialize kmeans and fit\n",
    "kmeans = KMeans(n_clusters=4, init='k-means++', random_state=21)\n",
    "kmeans.fit(df_exp_scaled)\n",
    "df_exp_scaled['Labels'] = kmeans.labels_\n",
    "df_exp_scaled.head(3)"
   ]
  },
  {
   "cell_type": "code",
   "execution_count": 219,
   "id": "ce3fa790",
   "metadata": {},
   "outputs": [
    {
     "data": {
      "image/png": "[encoded data removed]",
      "text/plain": [
       "<Figure size 648x432 with 1 Axes>"
      ]
     },
     "metadata": {},
     "output_type": "display_data"
    }
   ],
   "source": [
    "# which cluster has the least experience?\n",
    "df_exp_scaled['Labels'].value_counts().plot.bar(figsize=(9,6),color=['c', 'grey','m', 'r'], title='Clsuter Distribution')\n",
    "plt.show()"
   ]
  },
  {
   "cell_type": "code",
   "execution_count": 220,
   "id": "88991fec",
   "metadata": {},
   "outputs": [
    {
     "data": {
      "text/html": [
       "<div>\n",
       "<style scoped>\n",
       "    .dataframe tbody tr th:only-of-type {\n",
       "        vertical-align: middle;\n",
       "    }\n",
       "\n",
       "    .dataframe tbody tr th {\n",
       "        vertical-align: top;\n",
       "    }\n",
       "\n",
       "    .dataframe thead th {\n",
       "        text-align: right;\n",
       "    }\n",
       "</style>\n",
       "<table border=\"1\" class=\"dataframe\">\n",
       "  <thead>\n",
       "    <tr style=\"text-align: right;\">\n",
       "      <th></th>\n",
       "      <th>Total Bearer TP DL and UL</th>\n",
       "      <th>Total RTT DL and UL</th>\n",
       "      <th>Total TCP DL and UL</th>\n",
       "    </tr>\n",
       "    <tr>\n",
       "      <th>Labels</th>\n",
       "      <th></th>\n",
       "      <th></th>\n",
       "      <th></th>\n",
       "    </tr>\n",
       "  </thead>\n",
       "  <tbody>\n",
       "    <tr>\n",
       "      <th>0</th>\n",
       "      <td>1.775330</td>\n",
       "      <td>0.163967</td>\n",
       "      <td>-0.363031</td>\n",
       "    </tr>\n",
       "    <tr>\n",
       "      <th>1</th>\n",
       "      <td>-0.493056</td>\n",
       "      <td>-0.326129</td>\n",
       "      <td>-0.122295</td>\n",
       "    </tr>\n",
       "    <tr>\n",
       "      <th>2</th>\n",
       "      <td>1.173701</td>\n",
       "      <td>0.935037</td>\n",
       "      <td>4.096773</td>\n",
       "    </tr>\n",
       "    <tr>\n",
       "      <th>3</th>\n",
       "      <td>0.410766</td>\n",
       "      <td>2.930414</td>\n",
       "      <td>-0.222381</td>\n",
       "    </tr>\n",
       "  </tbody>\n",
       "</table>\n",
       "</div>"
      ],
      "text/plain": [
       "        Total Bearer TP DL and UL  Total RTT DL and UL  Total TCP DL and UL\n",
       "Labels                                                                     \n",
       "0                        1.775330             0.163967            -0.363031\n",
       "1                       -0.493056            -0.326129            -0.122295\n",
       "2                        1.173701             0.935037             4.096773\n",
       "3                        0.410766             2.930414            -0.222381"
      ]
     },
     "execution_count": 220,
     "metadata": {},
     "output_type": "execute_result"
    }
   ],
   "source": [
    "df_exp_scaled.groupby('Labels').mean()"
   ]
  },
  {
   "cell_type": "code",
   "execution_count": 221,
   "id": "7dadefca",
   "metadata": {},
   "outputs": [
    {
     "data": {
      "text/plain": [
       "array([[ 1.77523049,  0.16410243, -0.36275412],\n",
       "       [-0.49303953, -0.32609855, -0.12230985],\n",
       "       [ 1.173689  ,  0.93536321,  4.09789025],\n",
       "       [ 0.41078934,  2.93110512, -0.22222214]])"
      ]
     },
     "execution_count": 221,
     "metadata": {},
     "output_type": "execute_result"
    }
   ],
   "source": [
    "# select the least cluster or cluster with the worst experience\n",
    "centroids = kmeans.cluster_centers_\n",
    "centroids"
   ]
  },
  {
   "cell_type": "code",
   "execution_count": 222,
   "id": "f6b85e2c",
   "metadata": {},
   "outputs": [
    {
     "data": {
      "text/plain": [
       "array([-0.49303953, -0.32609855, -0.12230985])"
      ]
     },
     "execution_count": 222,
     "metadata": {},
     "output_type": "execute_result"
    }
   ],
   "source": [
    "centroids[1,:]\n"
   ]
  },
  {
   "cell_type": "code",
   "execution_count": 223,
   "id": "215b86eb",
   "metadata": {},
   "outputs": [
    {
     "data": {
      "text/plain": [
       "array([0.71666733, 0.92611805, 0.84765104])"
      ]
     },
     "execution_count": 223,
     "metadata": {},
     "output_type": "execute_result"
    }
   ],
   "source": [
    "np.mean(centroids, 0)"
   ]
  },
  {
   "cell_type": "code",
   "execution_count": 224,
   "id": "04bdc6a8",
   "metadata": {},
   "outputs": [],
   "source": [
    "experience_score = []\n",
    "least_centroids = kmeans.cluster_centers_[0,:]\n",
    "for i in df_exp.index:\n",
    "    row = df_exp.iloc[i][1]\n",
    "    experience_score.append(distance.euclidean(row, least_centroids))"
   ]
  },
  {
   "cell_type": "code",
   "execution_count": 225,
   "id": "2fbb36cb",
   "metadata": {},
   "outputs": [
    {
     "data": {
      "text/plain": [
       "[80.5115616269748,\n",
       " 120.34362854133582,\n",
       " 111.81548880400611,\n",
       " 111.81548880400611,\n",
       " 111.81548880400611]"
      ]
     },
     "execution_count": 225,
     "metadata": {},
     "output_type": "execute_result"
    }
   ],
   "source": [
    "experience_score[:5]"
   ]
  },
  {
   "cell_type": "markdown",
   "id": "064c8d10",
   "metadata": {},
   "source": [
    "<h1> Task 1.4"
   ]
  },
  {
   "cell_type": "code",
   "execution_count": 226,
   "id": "80495c64",
   "metadata": {},
   "outputs": [],
   "source": [
    "df['Engagement Score'] = engagement_score\n",
    "df['Experience Score'] = experience_score"
   ]
  },
  {
   "cell_type": "code",
   "execution_count": 227,
   "id": "5f83bbb9",
   "metadata": {},
   "outputs": [
    {
     "data": {
      "text/plain": [
       "(Timestamp('2019-04-04 12:01:18'), Timestamp('2019-04-29 07:28:43'))"
      ]
     },
     "execution_count": 227,
     "metadata": {},
     "output_type": "execute_result"
    }
   ],
   "source": [
    "df['Start'] = pd.to_datetime(df['Start'])\n",
    "df['Start'].min(), df['Start'].max()"
   ]
  },
  {
   "cell_type": "code",
   "execution_count": 228,
   "id": "f22e546e",
   "metadata": {},
   "outputs": [
    {
     "data": {
      "text/html": [
       "<div>\n",
       "<style scoped>\n",
       "    .dataframe tbody tr th:only-of-type {\n",
       "        vertical-align: middle;\n",
       "    }\n",
       "\n",
       "    .dataframe tbody tr th {\n",
       "        vertical-align: top;\n",
       "    }\n",
       "\n",
       "    .dataframe thead th {\n",
       "        text-align: right;\n",
       "    }\n",
       "</style>\n",
       "<table border=\"1\" class=\"dataframe\">\n",
       "  <thead>\n",
       "    <tr style=\"text-align: right;\">\n",
       "      <th></th>\n",
       "      <th>Unnamed: 0</th>\n",
       "      <th>Bearer Id</th>\n",
       "      <th>Start</th>\n",
       "      <th>Start ms</th>\n",
       "      <th>End</th>\n",
       "      <th>End ms</th>\n",
       "      <th>Dur. (ms)</th>\n",
       "      <th>IMSI</th>\n",
       "      <th>MSISDN/Number</th>\n",
       "      <th>IMEI</th>\n",
       "      <th>...</th>\n",
       "      <th>Total Session Gaming</th>\n",
       "      <th>Total Session Other</th>\n",
       "      <th>Total duration all session</th>\n",
       "      <th>xDR Session</th>\n",
       "      <th>session duration</th>\n",
       "      <th>Total TCP DL and UL</th>\n",
       "      <th>Total RTT DL and UL</th>\n",
       "      <th>Total Bearer TP DL and UL</th>\n",
       "      <th>Engagement Score</th>\n",
       "      <th>Experience Score</th>\n",
       "    </tr>\n",
       "  </thead>\n",
       "  <tbody>\n",
       "    <tr>\n",
       "      <th>0</th>\n",
       "      <td>0</td>\n",
       "      <td>13114483460844900352</td>\n",
       "      <td>2019-04-04 12:01:18</td>\n",
       "      <td>770.0</td>\n",
       "      <td>2019-04-25 14:35:31</td>\n",
       "      <td>662.0</td>\n",
       "      <td>1823652.0</td>\n",
       "      <td>2.082014e+14</td>\n",
       "      <td>3.366496e+10</td>\n",
       "      <td>3.552121e+13</td>\n",
       "      <td>...</td>\n",
       "      <td>292426453.0</td>\n",
       "      <td>180558843.0</td>\n",
       "      <td>5.173738e+08</td>\n",
       "      <td>2</td>\n",
       "      <td>2083209.0</td>\n",
       "      <td>3.451561e+06</td>\n",
       "      <td>47.0</td>\n",
       "      <td>67.0</td>\n",
       "      <td>10.162358</td>\n",
       "      <td>80.511562</td>\n",
       "    </tr>\n",
       "    <tr>\n",
       "      <th>1</th>\n",
       "      <td>1</td>\n",
       "      <td>13114483482878900224</td>\n",
       "      <td>2019-04-09 13:04:04</td>\n",
       "      <td>235.0</td>\n",
       "      <td>2019-04-25 08:15:48</td>\n",
       "      <td>606.0</td>\n",
       "      <td>1365104.0</td>\n",
       "      <td>2.082019e+14</td>\n",
       "      <td>3.368185e+10</td>\n",
       "      <td>3.579401e+13</td>\n",
       "      <td>...</td>\n",
       "      <td>609920783.0</td>\n",
       "      <td>541959383.0</td>\n",
       "      <td>1.234090e+09</td>\n",
       "      <td>2</td>\n",
       "      <td>1698167.0</td>\n",
       "      <td>3.451561e+06</td>\n",
       "      <td>70.0</td>\n",
       "      <td>42.0</td>\n",
       "      <td>10.162358</td>\n",
       "      <td>120.343629</td>\n",
       "    </tr>\n",
       "  </tbody>\n",
       "</table>\n",
       "<p>2 rows × 72 columns</p>\n",
       "</div>"
      ],
      "text/plain": [
       "   Unnamed: 0             Bearer Id               Start  Start ms  \\\n",
       "0           0  13114483460844900352 2019-04-04 12:01:18     770.0   \n",
       "1           1  13114483482878900224 2019-04-09 13:04:04     235.0   \n",
       "\n",
       "                   End  End ms  Dur. (ms)          IMSI  MSISDN/Number  \\\n",
       "0  2019-04-25 14:35:31   662.0  1823652.0  2.082014e+14   3.366496e+10   \n",
       "1  2019-04-25 08:15:48   606.0  1365104.0  2.082019e+14   3.368185e+10   \n",
       "\n",
       "           IMEI  ... Total Session Gaming  Total Session Other  \\\n",
       "0  3.552121e+13  ...          292426453.0          180558843.0   \n",
       "1  3.579401e+13  ...          609920783.0          541959383.0   \n",
       "\n",
       "   Total duration all session  xDR Session  session duration  \\\n",
       "0                5.173738e+08            2         2083209.0   \n",
       "1                1.234090e+09            2         1698167.0   \n",
       "\n",
       "   Total TCP DL and UL  Total RTT DL and UL  Total Bearer TP DL and UL  \\\n",
       "0         3.451561e+06                 47.0                       67.0   \n",
       "1         3.451561e+06                 70.0                       42.0   \n",
       "\n",
       "   Engagement Score  Experience Score  \n",
       "0         10.162358         80.511562  \n",
       "1         10.162358        120.343629  \n",
       "\n",
       "[2 rows x 72 columns]"
      ]
     },
     "execution_count": 228,
     "metadata": {},
     "output_type": "execute_result"
    }
   ],
   "source": [
    "df.head(2)"
   ]
  },
  {
   "cell_type": "code",
   "execution_count": 229,
   "id": "27400943",
   "metadata": {},
   "outputs": [
    {
     "data": {
      "text/plain": [
       "0    45.336960\n",
       "1    65.252993\n",
       "2    61.324906\n",
       "3    61.324906\n",
       "4    61.324906\n",
       "Name: Satisfaction Score, dtype: float64"
      ]
     },
     "execution_count": 229,
     "metadata": {},
     "output_type": "execute_result"
    }
   ],
   "source": [
    "df['Satisfaction Score'] = (df['Engagement Score'] + df['Experience Score']) / 2\n",
    "df['Satisfaction Score'].head()"
   ]
  },
  {
   "cell_type": "markdown",
   "id": "a0a481b2",
   "metadata": {},
   "source": [
    "<h1> Top 10 Satisfied Customer"
   ]
  },
  {
   "cell_type": "code",
   "execution_count": 230,
   "id": "d39d10ed",
   "metadata": {},
   "outputs": [
    {
     "data": {
      "text/html": [
       "<div>\n",
       "<style scoped>\n",
       "    .dataframe tbody tr th:only-of-type {\n",
       "        vertical-align: middle;\n",
       "    }\n",
       "\n",
       "    .dataframe tbody tr th {\n",
       "        vertical-align: top;\n",
       "    }\n",
       "\n",
       "    .dataframe thead th {\n",
       "        text-align: right;\n",
       "    }\n",
       "</style>\n",
       "<table border=\"1\" class=\"dataframe\">\n",
       "  <thead>\n",
       "    <tr style=\"text-align: right;\">\n",
       "      <th></th>\n",
       "      <th>MSISDN/Number</th>\n",
       "      <th>Satisfaction Score</th>\n",
       "    </tr>\n",
       "  </thead>\n",
       "  <tbody>\n",
       "    <tr>\n",
       "      <th>13526</th>\n",
       "      <td>3.362632e+10</td>\n",
       "      <td>1004.261006</td>\n",
       "    </tr>\n",
       "    <tr>\n",
       "      <th>61786</th>\n",
       "      <td>3.366606e+10</td>\n",
       "      <td>280.359249</td>\n",
       "    </tr>\n",
       "    <tr>\n",
       "      <th>82410</th>\n",
       "      <td>3.368795e+10</td>\n",
       "      <td>279.493228</td>\n",
       "    </tr>\n",
       "    <tr>\n",
       "      <th>43442</th>\n",
       "      <td>3.366125e+10</td>\n",
       "      <td>277.761184</td>\n",
       "    </tr>\n",
       "    <tr>\n",
       "      <th>97724</th>\n",
       "      <td>3.376243e+10</td>\n",
       "      <td>276.895162</td>\n",
       "    </tr>\n",
       "    <tr>\n",
       "      <th>96914</th>\n",
       "      <td>3.376204e+10</td>\n",
       "      <td>275.163119</td>\n",
       "    </tr>\n",
       "    <tr>\n",
       "      <th>40719</th>\n",
       "      <td>3.366060e+10</td>\n",
       "      <td>274.297097</td>\n",
       "    </tr>\n",
       "    <tr>\n",
       "      <th>37520</th>\n",
       "      <td>3.365983e+10</td>\n",
       "      <td>272.565054</td>\n",
       "    </tr>\n",
       "    <tr>\n",
       "      <th>35692</th>\n",
       "      <td>3.365942e+10</td>\n",
       "      <td>271.699032</td>\n",
       "    </tr>\n",
       "    <tr>\n",
       "      <th>32478</th>\n",
       "      <td>3.365874e+10</td>\n",
       "      <td>269.966989</td>\n",
       "    </tr>\n",
       "  </tbody>\n",
       "</table>\n",
       "</div>"
      ],
      "text/plain": [
       "       MSISDN/Number  Satisfaction Score\n",
       "13526   3.362632e+10         1004.261006\n",
       "61786   3.366606e+10          280.359249\n",
       "82410   3.368795e+10          279.493228\n",
       "43442   3.366125e+10          277.761184\n",
       "97724   3.376243e+10          276.895162\n",
       "96914   3.376204e+10          275.163119\n",
       "40719   3.366060e+10          274.297097\n",
       "37520   3.365983e+10          272.565054\n",
       "35692   3.365942e+10          271.699032\n",
       "32478   3.365874e+10          269.966989"
      ]
     },
     "execution_count": 230,
     "metadata": {},
     "output_type": "execute_result"
    }
   ],
   "source": [
    "top_10_customer = df.groupby('MSISDN/Number')['Satisfaction Score'].mean().reset_index(name='Satisfaction Score').\\\n",
    "            sort_values(by='Satisfaction Score', ascending=False)[:10]\n",
    "top_10_customer"
   ]
  },
  {
   "cell_type": "code",
   "execution_count": 231,
   "id": "8a79ea82",
   "metadata": {},
   "outputs": [
    {
     "data": {
      "text/html": [
       "<div>\n",
       "<style scoped>\n",
       "    .dataframe tbody tr th:only-of-type {\n",
       "        vertical-align: middle;\n",
       "    }\n",
       "\n",
       "    .dataframe tbody tr th {\n",
       "        vertical-align: top;\n",
       "    }\n",
       "\n",
       "    .dataframe thead th {\n",
       "        text-align: right;\n",
       "    }\n",
       "</style>\n",
       "<table border=\"1\" class=\"dataframe\">\n",
       "  <thead>\n",
       "    <tr style=\"text-align: right;\">\n",
       "      <th></th>\n",
       "      <th>Unnamed: 0</th>\n",
       "      <th>Bearer Id</th>\n",
       "      <th>Start</th>\n",
       "      <th>Start ms</th>\n",
       "      <th>End</th>\n",
       "      <th>End ms</th>\n",
       "      <th>Dur. (ms)</th>\n",
       "      <th>IMSI</th>\n",
       "      <th>MSISDN/Number</th>\n",
       "      <th>IMEI</th>\n",
       "      <th>...</th>\n",
       "      <th>Total Session Other</th>\n",
       "      <th>Total duration all session</th>\n",
       "      <th>xDR Session</th>\n",
       "      <th>session duration</th>\n",
       "      <th>Total TCP DL and UL</th>\n",
       "      <th>Total RTT DL and UL</th>\n",
       "      <th>Total Bearer TP DL and UL</th>\n",
       "      <th>Engagement Score</th>\n",
       "      <th>Experience Score</th>\n",
       "      <th>Satisfaction Score</th>\n",
       "    </tr>\n",
       "  </thead>\n",
       "  <tbody>\n",
       "  </tbody>\n",
       "</table>\n",
       "<p>0 rows × 73 columns</p>\n",
       "</div>"
      ],
      "text/plain": [
       "Empty DataFrame\n",
       "Columns: [Unnamed: 0, Bearer Id, Start, Start ms, End, End ms, Dur. (ms), IMSI, MSISDN/Number, IMEI, Last Location Name, Avg RTT DL (ms), Avg RTT UL (ms), Avg Bearer TP DL (kbps), Avg Bearer TP UL (kbps), TCP DL Retrans. Vol (Bytes), TCP UL Retrans. Vol (Bytes), DL TP < 50 Kbps (%), 50 Kbps < DL TP < 250 Kbps (%), 250 Kbps < DL TP < 1 Mbps (%), DL TP > 1 Mbps (%), UL TP < 10 Kbps (%), 10 Kbps < UL TP < 50 Kbps (%), 50 Kbps < UL TP < 300 Kbps (%), UL TP > 300 Kbps (%), HTTP DL (Bytes), HTTP UL (Bytes), Activity Duration DL (ms), Activity Duration UL (ms), Dur. (ms).1, Handset Manufacturer, Handset Type, Nb of sec with 125000B < Vol DL, Nb of sec with 1250B < Vol UL < 6250B, Nb of sec with 31250B < Vol DL < 125000B, Nb of sec with 37500B < Vol UL, Nb of sec with 6250B < Vol DL < 31250B, Nb of sec with 6250B < Vol UL < 37500B, Nb of sec with Vol DL < 6250B, Nb of sec with Vol UL < 1250B, Social Media DL (Bytes), Social Media UL (Bytes), Google DL (Bytes), Google UL (Bytes), Email DL (Bytes), Email UL (Bytes), Youtube DL (Bytes), Youtube UL (Bytes), Netflix DL (Bytes), Netflix UL (Bytes), Gaming DL (Bytes), Gaming UL (Bytes), Other DL (Bytes), Other UL (Bytes), Total UL (Bytes), Total DL (Bytes), Total Download and Upload, Total Session Social Media, Total Session Email, Total Session Youtube, Total Session Netflix, Total Session Google, Total Session Gaming, Total Session Other, Total duration all session, xDR Session, session duration, Total TCP DL and UL, Total RTT DL and UL, Total Bearer TP DL and UL, Engagement Score, Experience Score, Satisfaction Score]\n",
       "Index: []\n",
       "\n",
       "[0 rows x 73 columns]"
      ]
     },
     "execution_count": 231,
     "metadata": {},
     "output_type": "execute_result"
    }
   ],
   "source": [
    "df[df['MSISDN/Number'] == 3.362632e+10]"
   ]
  },
  {
   "cell_type": "code",
   "execution_count": 232,
   "id": "749e4acc",
   "metadata": {},
   "outputs": [
    {
     "data": {
      "image/png": "[encoded data removed]",
      "text/plain": [
       "<Figure size 720x504 with 1 Axes>"
      ]
     },
     "metadata": {},
     "output_type": "display_data"
    }
   ],
   "source": [
    "plt.figure(figsize=(10, 7))\n",
    "sns.barplot(data=top_10_customer, x = 'MSISDN/Number',  y='Satisfaction Score')\n",
    "plt.title('Top 10 Satisfied Customers', size=20)\n",
    "plt.xticks(rotation=65)\n",
    "plt.xlabel('Customer Identification Number', fontsize=14)\n",
    "plt.ylabel('Satisfaction Score ', fontsize=14)\n",
    "plt.show()"
   ]
  },
  {
   "cell_type": "markdown",
   "id": "914f40a0",
   "metadata": {},
   "source": [
    "<h1>Task 4.3 Run a Regression model to predict the Satisfaction score of customer"
   ]
  },
  {
   "cell_type": "code",
   "execution_count": 233,
   "id": "16e95b2b",
   "metadata": {},
   "outputs": [
    {
     "data": {
      "text/plain": [
       "['Total Bearer TP DL and UL',\n",
       " 'Total RTT DL and UL',\n",
       " 'Total TCP DL and UL',\n",
       " 'Total Download and Upload',\n",
       " 'xDR Session',\n",
       " 'session duration']"
      ]
     },
     "execution_count": 233,
     "metadata": {},
     "output_type": "execute_result"
    }
   ],
   "source": [
    "features = []\n",
    "features.extend(df_experience.columns)\n",
    "features.extend(df_metrics1.columns)\n",
    "features"
   ]
  },
  {
   "cell_type": "code",
   "execution_count": 234,
   "id": "6e69f0d2",
   "metadata": {},
   "outputs": [
    {
     "data": {
      "text/plain": [
       "array([[-5.85221380e-01, -4.48287092e-01, -1.21113790e-16,\n",
       "        -5.74791629e-01, -8.37189095e-02,  1.86941648e-01],\n",
       "       [-5.86738452e-01,  1.22121436e-01, -1.21113790e-16,\n",
       "         1.02356224e+00, -8.37189095e-02,  1.30906454e-01],\n",
       "       [-5.88376891e-01,  0.00000000e+00, -1.21113790e-16,\n",
       "        -7.42508382e-01, -9.46428519e-02,  8.19494069e-02],\n",
       "       [-5.83947039e-01,  0.00000000e+00, -1.21113790e-16,\n",
       "         9.37682227e-02, -9.46428519e-02,  7.60913844e-02]])"
      ]
     },
     "execution_count": 234,
     "metadata": {},
     "output_type": "execute_result"
    }
   ],
   "source": [
    "X = df[features]\n",
    "X_scaled = scaler.fit_transform(X)\n",
    "y = df['Satisfaction Score']\n",
    "X_scaled[:4]"
   ]
  },
  {
   "cell_type": "code",
   "execution_count": 235,
   "id": "ba33c2eb",
   "metadata": {},
   "outputs": [
    {
     "name": "stdout",
     "output_type": "stream",
     "text": [
      "(120000, 6)\n",
      "(30000, 6)\n",
      "(120000,)\n",
      "(30000,)\n"
     ]
    }
   ],
   "source": [
    "from sklearn.model_selection import train_test_split\n",
    "# split the data so you can evaluate the model\n",
    "X_train, X_test, y_train, y_test = train_test_split(X_scaled, y, test_size=.2, random_state=21)\n",
    "print(X_train.shape)\n",
    "print(X_test.shape)\n",
    "print(y_train.shape)\n",
    "print(y_test.shape)"
   ]
  },
  {
   "cell_type": "code",
   "execution_count": 236,
   "id": "2bb87e6f",
   "metadata": {},
   "outputs": [
    {
     "data": {
      "text/html": [
       "<style>#sk-container-id-9 {color: black;background-color: white;}#sk-container-id-9 pre{padding: 0;}#sk-container-id-9 div.sk-toggleable {background-color: white;}#sk-container-id-9 label.sk-toggleable__label {cursor: pointer;display: block;width: 100%;margin-bottom: 0;padding: 0.3em;box-sizing: border-box;text-align: center;}#sk-container-id-9 label.sk-toggleable__label-arrow:before {content: \"▸\";float: left;margin-right: 0.25em;color: #696969;}#sk-container-id-9 label.sk-toggleable__label-arrow:hover:before {color: black;}#sk-container-id-9 div.sk-estimator:hover label.sk-toggleable__label-arrow:before {color: black;}#sk-container-id-9 div.sk-toggleable__content {max-height: 0;max-width: 0;overflow: hidden;text-align: left;background-color: #f0f8ff;}#sk-container-id-9 div.sk-toggleable__content pre {margin: 0.2em;color: black;border-radius: 0.25em;background-color: #f0f8ff;}#sk-container-id-9 input.sk-toggleable__control:checked~div.sk-toggleable__content {max-height: 200px;max-width: 100%;overflow: auto;}#sk-container-id-9 input.sk-toggleable__control:checked~label.sk-toggleable__label-arrow:before {content: \"▾\";}#sk-container-id-9 div.sk-estimator input.sk-toggleable__control:checked~label.sk-toggleable__label {background-color: #d4ebff;}#sk-container-id-9 div.sk-label input.sk-toggleable__control:checked~label.sk-toggleable__label {background-color: #d4ebff;}#sk-container-id-9 input.sk-hidden--visually {border: 0;clip: rect(1px 1px 1px 1px);clip: rect(1px, 1px, 1px, 1px);height: 1px;margin: -1px;overflow: hidden;padding: 0;position: absolute;width: 1px;}#sk-container-id-9 div.sk-estimator {font-family: monospace;background-color: #f0f8ff;border: 1px dotted black;border-radius: 0.25em;box-sizing: border-box;margin-bottom: 0.5em;}#sk-container-id-9 div.sk-estimator:hover {background-color: #d4ebff;}#sk-container-id-9 div.sk-parallel-item::after {content: \"\";width: 100%;border-bottom: 1px solid gray;flex-grow: 1;}#sk-container-id-9 div.sk-label:hover label.sk-toggleable__label {background-color: #d4ebff;}#sk-container-id-9 div.sk-serial::before {content: \"\";position: absolute;border-left: 1px solid gray;box-sizing: border-box;top: 0;bottom: 0;left: 50%;z-index: 0;}#sk-container-id-9 div.sk-serial {display: flex;flex-direction: column;align-items: center;background-color: white;padding-right: 0.2em;padding-left: 0.2em;position: relative;}#sk-container-id-9 div.sk-item {position: relative;z-index: 1;}#sk-container-id-9 div.sk-parallel {display: flex;align-items: stretch;justify-content: center;background-color: white;position: relative;}#sk-container-id-9 div.sk-item::before, #sk-container-id-9 div.sk-parallel-item::before {content: \"\";position: absolute;border-left: 1px solid gray;box-sizing: border-box;top: 0;bottom: 0;left: 50%;z-index: -1;}#sk-container-id-9 div.sk-parallel-item {display: flex;flex-direction: column;z-index: 1;position: relative;background-color: white;}#sk-container-id-9 div.sk-parallel-item:first-child::after {align-self: flex-end;width: 50%;}#sk-container-id-9 div.sk-parallel-item:last-child::after {align-self: flex-start;width: 50%;}#sk-container-id-9 div.sk-parallel-item:only-child::after {width: 0;}#sk-container-id-9 div.sk-dashed-wrapped {border: 1px dashed gray;margin: 0 0.4em 0.5em 0.4em;box-sizing: border-box;padding-bottom: 0.4em;background-color: white;}#sk-container-id-9 div.sk-label label {font-family: monospace;font-weight: bold;display: inline-block;line-height: 1.2em;}#sk-container-id-9 div.sk-label-container {text-align: center;}#sk-container-id-9 div.sk-container {/* jupyter's `normalize.less` sets `[hidden] { display: none; }` but bootstrap.min.css set `[hidden] { display: none !important; }` so we also need the `!important` here to be able to override the default hidden behavior on the sphinx rendered scikit-learn.org. See: https://github.com/scikit-learn/scikit-learn/issues/21755 */display: inline-block !important;position: relative;}#sk-container-id-9 div.sk-text-repr-fallback {display: none;}</style><div id=\"sk-container-id-9\" class=\"sk-top-container\"><div class=\"sk-text-repr-fallback\"><pre>LinearRegression()</pre><b>In a Jupyter environment, please rerun this cell to show the HTML representation or trust the notebook. <br />On GitHub, the HTML representation is unable to render, please try loading this page with nbviewer.org.</b></div><div class=\"sk-container\" hidden><div class=\"sk-item\"><div class=\"sk-estimator sk-toggleable\"><input class=\"sk-toggleable__control sk-hidden--visually\" id=\"sk-estimator-id-9\" type=\"checkbox\" checked><label for=\"sk-estimator-id-9\" class=\"sk-toggleable__label sk-toggleable__label-arrow\">LinearRegression</label><div class=\"sk-toggleable__content\"><pre>LinearRegression()</pre></div></div></div></div></div>"
      ],
      "text/plain": [
       "LinearRegression()"
      ]
     },
     "execution_count": 236,
     "metadata": {},
     "output_type": "execute_result"
    }
   ],
   "source": [
    "from sklearn.linear_model import LinearRegression\n",
    "# fit the train data\n",
    "lr = LinearRegression()\n",
    "lr.fit(X_train, y_train)"
   ]
  },
  {
   "cell_type": "code",
   "execution_count": 237,
   "id": "53531bc0",
   "metadata": {},
   "outputs": [],
   "source": [
    "# predict and evaluate\n",
    "def rmse(true, pred):\n",
    "    from sklearn.metrics import mean_squared_error\n",
    "    return np.sqrt(mean_squared_error(true, pred))"
   ]
  },
  {
   "cell_type": "code",
   "execution_count": 238,
   "id": "6ad45a01",
   "metadata": {},
   "outputs": [
    {
     "data": {
      "text/plain": [
       "1.097995261036525"
      ]
     },
     "execution_count": 238,
     "metadata": {},
     "output_type": "execute_result"
    }
   ],
   "source": [
    "# predict on test set\n",
    "y_pred = lr.predict(X_test)\n",
    "rmse(y_test, y_pred)"
   ]
  },
  {
   "cell_type": "code",
   "execution_count": 239,
   "id": "5a3ebba0",
   "metadata": {},
   "outputs": [
    {
     "data": {
      "text/html": [
       "<style>#sk-container-id-10 {color: black;background-color: white;}#sk-container-id-10 pre{padding: 0;}#sk-container-id-10 div.sk-toggleable {background-color: white;}#sk-container-id-10 label.sk-toggleable__label {cursor: pointer;display: block;width: 100%;margin-bottom: 0;padding: 0.3em;box-sizing: border-box;text-align: center;}#sk-container-id-10 label.sk-toggleable__label-arrow:before {content: \"▸\";float: left;margin-right: 0.25em;color: #696969;}#sk-container-id-10 label.sk-toggleable__label-arrow:hover:before {color: black;}#sk-container-id-10 div.sk-estimator:hover label.sk-toggleable__label-arrow:before {color: black;}#sk-container-id-10 div.sk-toggleable__content {max-height: 0;max-width: 0;overflow: hidden;text-align: left;background-color: #f0f8ff;}#sk-container-id-10 div.sk-toggleable__content pre {margin: 0.2em;color: black;border-radius: 0.25em;background-color: #f0f8ff;}#sk-container-id-10 input.sk-toggleable__control:checked~div.sk-toggleable__content {max-height: 200px;max-width: 100%;overflow: auto;}#sk-container-id-10 input.sk-toggleable__control:checked~label.sk-toggleable__label-arrow:before {content: \"▾\";}#sk-container-id-10 div.sk-estimator input.sk-toggleable__control:checked~label.sk-toggleable__label {background-color: #d4ebff;}#sk-container-id-10 div.sk-label input.sk-toggleable__control:checked~label.sk-toggleable__label {background-color: #d4ebff;}#sk-container-id-10 input.sk-hidden--visually {border: 0;clip: rect(1px 1px 1px 1px);clip: rect(1px, 1px, 1px, 1px);height: 1px;margin: -1px;overflow: hidden;padding: 0;position: absolute;width: 1px;}#sk-container-id-10 div.sk-estimator {font-family: monospace;background-color: #f0f8ff;border: 1px dotted black;border-radius: 0.25em;box-sizing: border-box;margin-bottom: 0.5em;}#sk-container-id-10 div.sk-estimator:hover {background-color: #d4ebff;}#sk-container-id-10 div.sk-parallel-item::after {content: \"\";width: 100%;border-bottom: 1px solid gray;flex-grow: 1;}#sk-container-id-10 div.sk-label:hover label.sk-toggleable__label {background-color: #d4ebff;}#sk-container-id-10 div.sk-serial::before {content: \"\";position: absolute;border-left: 1px solid gray;box-sizing: border-box;top: 0;bottom: 0;left: 50%;z-index: 0;}#sk-container-id-10 div.sk-serial {display: flex;flex-direction: column;align-items: center;background-color: white;padding-right: 0.2em;padding-left: 0.2em;position: relative;}#sk-container-id-10 div.sk-item {position: relative;z-index: 1;}#sk-container-id-10 div.sk-parallel {display: flex;align-items: stretch;justify-content: center;background-color: white;position: relative;}#sk-container-id-10 div.sk-item::before, #sk-container-id-10 div.sk-parallel-item::before {content: \"\";position: absolute;border-left: 1px solid gray;box-sizing: border-box;top: 0;bottom: 0;left: 50%;z-index: -1;}#sk-container-id-10 div.sk-parallel-item {display: flex;flex-direction: column;z-index: 1;position: relative;background-color: white;}#sk-container-id-10 div.sk-parallel-item:first-child::after {align-self: flex-end;width: 50%;}#sk-container-id-10 div.sk-parallel-item:last-child::after {align-self: flex-start;width: 50%;}#sk-container-id-10 div.sk-parallel-item:only-child::after {width: 0;}#sk-container-id-10 div.sk-dashed-wrapped {border: 1px dashed gray;margin: 0 0.4em 0.5em 0.4em;box-sizing: border-box;padding-bottom: 0.4em;background-color: white;}#sk-container-id-10 div.sk-label label {font-family: monospace;font-weight: bold;display: inline-block;line-height: 1.2em;}#sk-container-id-10 div.sk-label-container {text-align: center;}#sk-container-id-10 div.sk-container {/* jupyter's `normalize.less` sets `[hidden] { display: none; }` but bootstrap.min.css set `[hidden] { display: none !important; }` so we also need the `!important` here to be able to override the default hidden behavior on the sphinx rendered scikit-learn.org. See: https://github.com/scikit-learn/scikit-learn/issues/21755 */display: inline-block !important;position: relative;}#sk-container-id-10 div.sk-text-repr-fallback {display: none;}</style><div id=\"sk-container-id-10\" class=\"sk-top-container\"><div class=\"sk-text-repr-fallback\"><pre>GradientBoostingRegressor(learning_rate=0.2, n_estimators=50, random_state=21)</pre><b>In a Jupyter environment, please rerun this cell to show the HTML representation or trust the notebook. <br />On GitHub, the HTML representation is unable to render, please try loading this page with nbviewer.org.</b></div><div class=\"sk-container\" hidden><div class=\"sk-item\"><div class=\"sk-estimator sk-toggleable\"><input class=\"sk-toggleable__control sk-hidden--visually\" id=\"sk-estimator-id-10\" type=\"checkbox\" checked><label for=\"sk-estimator-id-10\" class=\"sk-toggleable__label sk-toggleable__label-arrow\">GradientBoostingRegressor</label><div class=\"sk-toggleable__content\"><pre>GradientBoostingRegressor(learning_rate=0.2, n_estimators=50, random_state=21)</pre></div></div></div></div></div>"
      ],
      "text/plain": [
       "GradientBoostingRegressor(learning_rate=0.2, n_estimators=50, random_state=21)"
      ]
     },
     "execution_count": 239,
     "metadata": {},
     "output_type": "execute_result"
    }
   ],
   "source": [
    "# Another Regression Model GradientBoosting Regressor\n",
    "model_grb = GradientBoostingRegressor(n_estimators=50, learning_rate=0.2, random_state=21)\n",
    "model_grb.fit(X_train, y_train)"
   ]
  },
  {
   "cell_type": "code",
   "execution_count": 240,
   "id": "423d054e",
   "metadata": {},
   "outputs": [
    {
     "data": {
      "text/plain": [
       "0.9423765739090687"
      ]
     },
     "execution_count": 240,
     "metadata": {},
     "output_type": "execute_result"
    }
   ],
   "source": [
    "# predict on test set\n",
    "y_pred_grb = model_grb.predict(X_test)\n",
    "rmse(y_test, y_pred_grb)"
   ]
  },
  {
   "cell_type": "code",
   "execution_count": 241,
   "id": "a0927a90",
   "metadata": {},
   "outputs": [
    {
     "data": {
      "text/plain": [
       "Text(0, 0.5, 'Predicted Value')"
      ]
     },
     "execution_count": 241,
     "metadata": {},
     "output_type": "execute_result"
    },
    {
     "data": {
      "image/png": "[encoded data removed]",
      "text/plain": [
       "<Figure size 432x288 with 1 Axes>"
      ]
     },
     "metadata": {},
     "output_type": "display_data"
    }
   ],
   "source": [
    "# Plot predicted vs actual\n",
    "plt.scatter(y_test, y_pred_grb, alpha=0.3, color='green', marker='*')\n",
    "plt.plot(y_test, y_test, color='red') # A straight line - we want to be close to this\n",
    "plt.xlabel('True Value')\n",
    "plt.ylabel('Predicted Value')"
   ]
  },
  {
   "cell_type": "code",
   "execution_count": 242,
   "id": "7bb3eb67",
   "metadata": {},
   "outputs": [
    {
     "data": {
      "text/plain": [
       "array([78.35674089, 97.89394148, 36.11715807, 60.60544417, 60.66322004])"
      ]
     },
     "execution_count": 242,
     "metadata": {},
     "output_type": "execute_result"
    }
   ],
   "source": [
    "y_pred[:5]"
   ]
  },
  {
   "cell_type": "markdown",
   "id": "c68b0c21",
   "metadata": {},
   "source": [
    "If RMSE is closer to 0 then the model is a good model base on the reported RMSE- Root Mean Squared Error which is 0.9764 the model is fairly good"
   ]
  },
  {
   "cell_type": "markdown",
   "id": "26ebf1fb",
   "metadata": {},
   "source": [
    "<h1>Task 4.4 Run a K-means on the engagement and experience score"
   ]
  },
  {
   "cell_type": "code",
   "execution_count": 244,
   "id": "9417aa81",
   "metadata": {},
   "outputs": [],
   "source": [
    "kmeans = KMeans(n_clusters=2, init='k-means++', random_state=21)"
   ]
  },
  {
   "cell_type": "code",
   "execution_count": 245,
   "id": "5c3e3aa9",
   "metadata": {},
   "outputs": [
    {
     "data": {
      "text/html": [
       "<div>\n",
       "<style scoped>\n",
       "    .dataframe tbody tr th:only-of-type {\n",
       "        vertical-align: middle;\n",
       "    }\n",
       "\n",
       "    .dataframe tbody tr th {\n",
       "        vertical-align: top;\n",
       "    }\n",
       "\n",
       "    .dataframe thead th {\n",
       "        text-align: right;\n",
       "    }\n",
       "</style>\n",
       "<table border=\"1\" class=\"dataframe\">\n",
       "  <thead>\n",
       "    <tr style=\"text-align: right;\">\n",
       "      <th></th>\n",
       "      <th>Experience Score</th>\n",
       "      <th>Engagement Score</th>\n",
       "    </tr>\n",
       "  </thead>\n",
       "  <tbody>\n",
       "    <tr>\n",
       "      <th>0</th>\n",
       "      <td>80.511562</td>\n",
       "      <td>10.162358</td>\n",
       "    </tr>\n",
       "    <tr>\n",
       "      <th>1</th>\n",
       "      <td>120.343629</td>\n",
       "      <td>10.162358</td>\n",
       "    </tr>\n",
       "    <tr>\n",
       "      <th>2</th>\n",
       "      <td>111.815489</td>\n",
       "      <td>10.834324</td>\n",
       "    </tr>\n",
       "    <tr>\n",
       "      <th>3</th>\n",
       "      <td>111.815489</td>\n",
       "      <td>10.834324</td>\n",
       "    </tr>\n",
       "    <tr>\n",
       "      <th>4</th>\n",
       "      <td>111.815489</td>\n",
       "      <td>10.834324</td>\n",
       "    </tr>\n",
       "  </tbody>\n",
       "</table>\n",
       "</div>"
      ],
      "text/plain": [
       "   Experience Score  Engagement Score\n",
       "0         80.511562         10.162358\n",
       "1        120.343629         10.162358\n",
       "2        111.815489         10.834324\n",
       "3        111.815489         10.834324\n",
       "4        111.815489         10.834324"
      ]
     },
     "execution_count": 245,
     "metadata": {},
     "output_type": "execute_result"
    }
   ],
   "source": [
    "df_exp_eng = df[['Experience Score', 'Engagement Score']]\n",
    "df_exp_eng.head()"
   ]
  },
  {
   "cell_type": "markdown",
   "id": "e8a4fb74",
   "metadata": {},
   "source": [
    "Since the 2 columns are in the same scale no need for Scaling or Normalizing"
   ]
  },
  {
   "cell_type": "code",
   "execution_count": 246,
   "id": "9464c1a4",
   "metadata": {},
   "outputs": [
    {
     "data": {
      "text/html": [
       "<style>#sk-container-id-11 {color: black;background-color: white;}#sk-container-id-11 pre{padding: 0;}#sk-container-id-11 div.sk-toggleable {background-color: white;}#sk-container-id-11 label.sk-toggleable__label {cursor: pointer;display: block;width: 100%;margin-bottom: 0;padding: 0.3em;box-sizing: border-box;text-align: center;}#sk-container-id-11 label.sk-toggleable__label-arrow:before {content: \"▸\";float: left;margin-right: 0.25em;color: #696969;}#sk-container-id-11 label.sk-toggleable__label-arrow:hover:before {color: black;}#sk-container-id-11 div.sk-estimator:hover label.sk-toggleable__label-arrow:before {color: black;}#sk-container-id-11 div.sk-toggleable__content {max-height: 0;max-width: 0;overflow: hidden;text-align: left;background-color: #f0f8ff;}#sk-container-id-11 div.sk-toggleable__content pre {margin: 0.2em;color: black;border-radius: 0.25em;background-color: #f0f8ff;}#sk-container-id-11 input.sk-toggleable__control:checked~div.sk-toggleable__content {max-height: 200px;max-width: 100%;overflow: auto;}#sk-container-id-11 input.sk-toggleable__control:checked~label.sk-toggleable__label-arrow:before {content: \"▾\";}#sk-container-id-11 div.sk-estimator input.sk-toggleable__control:checked~label.sk-toggleable__label {background-color: #d4ebff;}#sk-container-id-11 div.sk-label input.sk-toggleable__control:checked~label.sk-toggleable__label {background-color: #d4ebff;}#sk-container-id-11 input.sk-hidden--visually {border: 0;clip: rect(1px 1px 1px 1px);clip: rect(1px, 1px, 1px, 1px);height: 1px;margin: -1px;overflow: hidden;padding: 0;position: absolute;width: 1px;}#sk-container-id-11 div.sk-estimator {font-family: monospace;background-color: #f0f8ff;border: 1px dotted black;border-radius: 0.25em;box-sizing: border-box;margin-bottom: 0.5em;}#sk-container-id-11 div.sk-estimator:hover {background-color: #d4ebff;}#sk-container-id-11 div.sk-parallel-item::after {content: \"\";width: 100%;border-bottom: 1px solid gray;flex-grow: 1;}#sk-container-id-11 div.sk-label:hover label.sk-toggleable__label {background-color: #d4ebff;}#sk-container-id-11 div.sk-serial::before {content: \"\";position: absolute;border-left: 1px solid gray;box-sizing: border-box;top: 0;bottom: 0;left: 50%;z-index: 0;}#sk-container-id-11 div.sk-serial {display: flex;flex-direction: column;align-items: center;background-color: white;padding-right: 0.2em;padding-left: 0.2em;position: relative;}#sk-container-id-11 div.sk-item {position: relative;z-index: 1;}#sk-container-id-11 div.sk-parallel {display: flex;align-items: stretch;justify-content: center;background-color: white;position: relative;}#sk-container-id-11 div.sk-item::before, #sk-container-id-11 div.sk-parallel-item::before {content: \"\";position: absolute;border-left: 1px solid gray;box-sizing: border-box;top: 0;bottom: 0;left: 50%;z-index: -1;}#sk-container-id-11 div.sk-parallel-item {display: flex;flex-direction: column;z-index: 1;position: relative;background-color: white;}#sk-container-id-11 div.sk-parallel-item:first-child::after {align-self: flex-end;width: 50%;}#sk-container-id-11 div.sk-parallel-item:last-child::after {align-self: flex-start;width: 50%;}#sk-container-id-11 div.sk-parallel-item:only-child::after {width: 0;}#sk-container-id-11 div.sk-dashed-wrapped {border: 1px dashed gray;margin: 0 0.4em 0.5em 0.4em;box-sizing: border-box;padding-bottom: 0.4em;background-color: white;}#sk-container-id-11 div.sk-label label {font-family: monospace;font-weight: bold;display: inline-block;line-height: 1.2em;}#sk-container-id-11 div.sk-label-container {text-align: center;}#sk-container-id-11 div.sk-container {/* jupyter's `normalize.less` sets `[hidden] { display: none; }` but bootstrap.min.css set `[hidden] { display: none !important; }` so we also need the `!important` here to be able to override the default hidden behavior on the sphinx rendered scikit-learn.org. See: https://github.com/scikit-learn/scikit-learn/issues/21755 */display: inline-block !important;position: relative;}#sk-container-id-11 div.sk-text-repr-fallback {display: none;}</style><div id=\"sk-container-id-11\" class=\"sk-top-container\"><div class=\"sk-text-repr-fallback\"><pre>KMeans(n_clusters=2, random_state=21)</pre><b>In a Jupyter environment, please rerun this cell to show the HTML representation or trust the notebook. <br />On GitHub, the HTML representation is unable to render, please try loading this page with nbviewer.org.</b></div><div class=\"sk-container\" hidden><div class=\"sk-item\"><div class=\"sk-estimator sk-toggleable\"><input class=\"sk-toggleable__control sk-hidden--visually\" id=\"sk-estimator-id-11\" type=\"checkbox\" checked><label for=\"sk-estimator-id-11\" class=\"sk-toggleable__label sk-toggleable__label-arrow\">KMeans</label><div class=\"sk-toggleable__content\"><pre>KMeans(n_clusters=2, random_state=21)</pre></div></div></div></div></div>"
      ],
      "text/plain": [
       "KMeans(n_clusters=2, random_state=21)"
      ]
     },
     "execution_count": 246,
     "metadata": {},
     "output_type": "execute_result"
    }
   ],
   "source": [
    "kmeans.fit(df_exp_eng)"
   ]
  },
  {
   "cell_type": "markdown",
   "id": "e52eb6a9",
   "metadata": {},
   "source": [
    "<h1>Task 4.5 Aggregate the average satisfaction & experience score per cluster"
   ]
  },
  {
   "cell_type": "code",
   "execution_count": 247,
   "id": "3ea3eca3",
   "metadata": {},
   "outputs": [
    {
     "data": {
      "text/html": [
       "<div>\n",
       "<style scoped>\n",
       "    .dataframe tbody tr th:only-of-type {\n",
       "        vertical-align: middle;\n",
       "    }\n",
       "\n",
       "    .dataframe tbody tr th {\n",
       "        vertical-align: top;\n",
       "    }\n",
       "\n",
       "    .dataframe thead th {\n",
       "        text-align: right;\n",
       "    }\n",
       "</style>\n",
       "<table border=\"1\" class=\"dataframe\">\n",
       "  <thead>\n",
       "    <tr style=\"text-align: right;\">\n",
       "      <th></th>\n",
       "      <th>Experience Score</th>\n",
       "      <th>Engagement Score</th>\n",
       "    </tr>\n",
       "    <tr>\n",
       "      <th>Cluster</th>\n",
       "      <th></th>\n",
       "      <th></th>\n",
       "    </tr>\n",
       "  </thead>\n",
       "  <tbody>\n",
       "    <tr>\n",
       "      <th>0</th>\n",
       "      <td>111.618772</td>\n",
       "      <td>10.466982</td>\n",
       "    </tr>\n",
       "    <tr>\n",
       "      <th>1</th>\n",
       "      <td>139.357124</td>\n",
       "      <td>1869.164888</td>\n",
       "    </tr>\n",
       "  </tbody>\n",
       "</table>\n",
       "</div>"
      ],
      "text/plain": [
       "         Experience Score  Engagement Score\n",
       "Cluster                                    \n",
       "0              111.618772         10.466982\n",
       "1              139.357124       1869.164888"
      ]
     },
     "execution_count": 247,
     "metadata": {},
     "output_type": "execute_result"
    }
   ],
   "source": [
    "df_exp_eng['Cluster'] = kmeans.labels_\n",
    "df_exp_eng.groupby('Cluster').mean()"
   ]
  },
  {
   "cell_type": "markdown",
   "id": "ce378ff3",
   "metadata": {},
   "source": [
    "<h1>Task 4.6 Export your final table containing all user id + engagement, experience & satisfaction scores in your local MySQL database"
   ]
  },
  {
   "cell_type": "code",
   "execution_count": 249,
   "id": "8f05a829",
   "metadata": {},
   "outputs": [
    {
     "data": {
      "text/html": [
       "<div>\n",
       "<style scoped>\n",
       "    .dataframe tbody tr th:only-of-type {\n",
       "        vertical-align: middle;\n",
       "    }\n",
       "\n",
       "    .dataframe tbody tr th {\n",
       "        vertical-align: top;\n",
       "    }\n",
       "\n",
       "    .dataframe thead th {\n",
       "        text-align: right;\n",
       "    }\n",
       "</style>\n",
       "<table border=\"1\" class=\"dataframe\">\n",
       "  <thead>\n",
       "    <tr style=\"text-align: right;\">\n",
       "      <th></th>\n",
       "      <th>MSISDN/Number</th>\n",
       "      <th>Engagement Score</th>\n",
       "      <th>Experience Score</th>\n",
       "      <th>Satisfaction Score</th>\n",
       "    </tr>\n",
       "  </thead>\n",
       "  <tbody>\n",
       "    <tr>\n",
       "      <th>0</th>\n",
       "      <td>3.366496e+10</td>\n",
       "      <td>10.162358</td>\n",
       "      <td>80.511562</td>\n",
       "      <td>45.336960</td>\n",
       "    </tr>\n",
       "    <tr>\n",
       "      <th>1</th>\n",
       "      <td>3.368185e+10</td>\n",
       "      <td>10.162358</td>\n",
       "      <td>120.343629</td>\n",
       "      <td>65.252993</td>\n",
       "    </tr>\n",
       "    <tr>\n",
       "      <th>2</th>\n",
       "      <td>3.376063e+10</td>\n",
       "      <td>10.834324</td>\n",
       "      <td>111.815489</td>\n",
       "      <td>61.324906</td>\n",
       "    </tr>\n",
       "    <tr>\n",
       "      <th>3</th>\n",
       "      <td>3.375034e+10</td>\n",
       "      <td>10.834324</td>\n",
       "      <td>111.815489</td>\n",
       "      <td>61.324906</td>\n",
       "    </tr>\n",
       "    <tr>\n",
       "      <th>4</th>\n",
       "      <td>3.369980e+10</td>\n",
       "      <td>10.834324</td>\n",
       "      <td>111.815489</td>\n",
       "      <td>61.324906</td>\n",
       "    </tr>\n",
       "    <tr>\n",
       "      <th>5</th>\n",
       "      <td>3.366819e+10</td>\n",
       "      <td>9.755227</td>\n",
       "      <td>111.815489</td>\n",
       "      <td>60.785358</td>\n",
       "    </tr>\n",
       "    <tr>\n",
       "      <th>6</th>\n",
       "      <td>3.366537e+10</td>\n",
       "      <td>10.834324</td>\n",
       "      <td>184.425926</td>\n",
       "      <td>97.630125</td>\n",
       "    </tr>\n",
       "  </tbody>\n",
       "</table>\n",
       "</div>"
      ],
      "text/plain": [
       "   MSISDN/Number  Engagement Score  Experience Score  Satisfaction Score\n",
       "0   3.366496e+10         10.162358         80.511562           45.336960\n",
       "1   3.368185e+10         10.162358        120.343629           65.252993\n",
       "2   3.376063e+10         10.834324        111.815489           61.324906\n",
       "3   3.375034e+10         10.834324        111.815489           61.324906\n",
       "4   3.369980e+10         10.834324        111.815489           61.324906\n",
       "5   3.366819e+10          9.755227        111.815489           60.785358\n",
       "6   3.366537e+10         10.834324        184.425926           97.630125"
      ]
     },
     "execution_count": 249,
     "metadata": {},
     "output_type": "execute_result"
    }
   ],
   "source": [
    "df_sql = df[['MSISDN/Number', 'Engagement Score', 'Experience Score', 'Satisfaction Score']]\n",
    "df_sql.head(7)"
   ]
  },
  {
   "cell_type": "code",
   "execution_count": 259,
   "id": "bb868d37",
   "metadata": {},
   "outputs": [],
   "source": [
    "# here is Postgresql"
   ]
  },
  {
   "cell_type": "code",
   "execution_count": 266,
   "id": "3023eb8c",
   "metadata": {},
   "outputs": [],
   "source": [
    "import pandas as pd\n",
    "import numpy as np\n",
    "import psycopg2\n",
    "from sqlalchemy import create_engine\n",
    "import psycopg2.extras as extras\n",
    "import time"
   ]
  },
  {
   "cell_type": "code",
   "execution_count": 267,
   "id": "523f5503",
   "metadata": {},
   "outputs": [],
   "source": [
    "conn=psycopg2.connect(database=\"Telecom\",password=\"1234\",host=\"localhost\",user=\"postgres\",port='5432')"
   ]
  },
  {
   "cell_type": "code",
   "execution_count": null,
   "id": "0eaa4564",
   "metadata": {},
   "outputs": [],
   "source": [
    "c=conn.Cursor()"
   ]
  }
 ],
 "metadata": {
  "kernelspec": {
   "display_name": "Python 3 (ipykernel)",
   "language": "python",
   "name": "python3"
  },
  "language_info": {
   "codemirror_mode": {
    "name": "ipython",
    "version": 3
   },
   "file_extension": ".py",
   "mimetype": "text/x-python",
   "name": "python",
   "nbconvert_exporter": "python",
   "pygments_lexer": "ipython3",
   "version": "3.8.13"
  }
 },
 "nbformat": 4,
 "nbformat_minor": 5
}
